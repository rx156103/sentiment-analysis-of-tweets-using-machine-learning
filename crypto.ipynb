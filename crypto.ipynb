{
 "cells": [
  {
   "cell_type": "code",
   "execution_count": 9,
   "metadata": {
    "collapsed": true
   },
   "outputs": [],
   "source": [
    "##Investors and regulators sentiments and views"
   ]
  },
  {
   "cell_type": "code",
   "execution_count": 1,
   "metadata": {},
   "outputs": [
    {
     "name": "stderr",
     "output_type": "stream",
     "text": [
      "C:\\Users\\Vineet\\Anaconda3\\lib\\site-packages\\nltk\\twitter\\__init__.py:20: UserWarning: The twython library has not been installed. Some functionality from the twitter package will not be available.\n",
      "  warnings.warn(\"The twython library has not been installed. \"\n"
     ]
    }
   ],
   "source": [
    "from selenium import webdriver\n",
    "from selenium.webdriver.common.keys import Keys \n",
    "from bs4 import BeautifulSoup\n",
    "import requests \n",
    "import bs4 as bs \n",
    "from textblob.classifiers import NaiveBayesClassifier\n",
    "import csv\n",
    "import random\n",
    "import urllib\n",
    "from nltk.sentiment.vader import SentimentIntensityAnalyzer\n",
    "from nltk.sentiment.util import *\n",
    "from nltk import tokenize"
   ]
  },
  {
   "cell_type": "code",
   "execution_count": 2,
   "metadata": {
    "collapsed": true
   },
   "outputs": [],
   "source": [
    "driver = webdriver.Chrome(\"C:/Users/Vineet/Documents/ISB-H/Big data collection/group assign/chromedriver\")"
   ]
  },
  {
   "cell_type": "code",
   "execution_count": 3,
   "metadata": {},
   "outputs": [],
   "source": [
    "import re\n",
    "\n",
    "def cleanhtml(raw_html):\n",
    "  cleanr = re.compile('<.*?>')\n",
    "  cleantext = re.sub(cleanr, '', raw_html)\n",
    "  return cleantext"
   ]
  },
  {
   "cell_type": "code",
   "execution_count": null,
   "metadata": {
    "collapsed": true
   },
   "outputs": [],
   "source": []
  },
  {
   "cell_type": "markdown",
   "metadata": {},
   "source": [
    "####view of world bank"
   ]
  },
  {
   "cell_type": "code",
   "execution_count": 12,
   "metadata": {
    "collapsed": true
   },
   "outputs": [],
   "source": [
    "\n",
    "driver.get(\"https://economictimes.indiatimes.com/markets/stocks/news/cryptocurrencies-are-like-ponzi-schemes-world-bank-chief-says/articleshow/62830841.cms\")"
   ]
  },
  {
   "cell_type": "code",
   "execution_count": 13,
   "metadata": {},
   "outputs": [],
   "source": [
    "pagesrc = driver.page_source\n",
    "soup = BeautifulSoup(pagesrc,'lxml')\n",
    "text = soup.find_all('div',class_ = \"Normal\")"
   ]
  },
  {
   "cell_type": "code",
   "execution_count": 14,
   "metadata": {},
   "outputs": [],
   "source": [
    "text = str(text)"
   ]
  },
  {
   "cell_type": "code",
   "execution_count": 15,
   "metadata": {},
   "outputs": [],
   "source": [
    "\n",
    "text = text.replace('\\n','')\n",
    "\n",
    "#text = re.sub('[^ a-zA-Z0-9]', '', text)\n",
    "text = cleanhtml(text)"
   ]
  },
  {
   "cell_type": "code",
   "execution_count": 16,
   "metadata": {},
   "outputs": [],
   "source": [
    "\n",
    "lines = text.split('.')"
   ]
  },
  {
   "cell_type": "code",
   "execution_count": 17,
   "metadata": {},
   "outputs": [
    {
     "name": "stdout",
     "output_type": "stream",
     "text": [
      "                                           documents\n",
      "0  [By Shelly HaganThe head of the World Bank com...\n",
      "1  “In terms of using Bitcoin or some of the cryp...\n",
      "2   “It’s still not really clear how it’s going t...\n",
      "3  ”The development lender is “looking really car...\n",
      "4   There’s hope the technology could be used in ...\n",
      "5  The value of cryptocurrencies soared in 2017 b...\n",
      "6  While cryptocurrency technology has the potent...\n",
      "7  In a speech this week, Bank of International S...\n",
      "8   Federal Reserve Chair Jerome Powell has said ...\n",
      "9                                                  ]\n"
     ]
    }
   ],
   "source": [
    "import pandas as pd\n",
    "df = pd.DataFrame({'documents':lines})\n",
    "print (df)"
   ]
  },
  {
   "cell_type": "code",
   "execution_count": null,
   "metadata": {},
   "outputs": [],
   "source": []
  },
  {
   "cell_type": "code",
   "execution_count": 18,
   "metadata": {},
   "outputs": [
    {
     "name": "stdout",
     "output_type": "stream",
     "text": [
      "3.569\n",
      "\n",
      "\n"
     ]
    },
    {
     "data": {
      "text/plain": [
       "[('[', 'NN'),\n",
       " ('By', 'IN'),\n",
       " ('Shelly', 'NNP'),\n",
       " ('HaganThe', 'NNP'),\n",
       " ('head', 'NN'),\n",
       " ('of', 'IN'),\n",
       " ('the', 'DT'),\n",
       " ('World', 'NNP'),\n",
       " ('Bank', 'NNP'),\n",
       " ('compared', 'VBN'),\n",
       " ('cryptocurrencies', 'NNS'),\n",
       " ('to', 'TO'),\n",
       " ('“', 'VB'),\n",
       " ('Ponzi', 'NNP'),\n",
       " ('schemes', 'NNS'),\n",
       " (',', ','),\n",
       " ('”', 'VBP'),\n",
       " ('the', 'DT'),\n",
       " ('latest', 'JJS'),\n",
       " ('financial', 'JJ'),\n",
       " ('voice', 'NN'),\n",
       " ('to', 'TO'),\n",
       " ('raise', 'VB'),\n",
       " ('questions', 'NNS'),\n",
       " ('about', 'IN'),\n",
       " ('the', 'DT'),\n",
       " ('legitimacy', 'NN'),\n",
       " ('of', 'IN'),\n",
       " ('digital', 'JJ'),\n",
       " ('currencies', 'NNS'),\n",
       " ('such', 'JJ'),\n",
       " ('as', 'IN'),\n",
       " ('Bitcoin.', 'NNP'),\n",
       " ('“', 'NNP'),\n",
       " ('In', 'IN'),\n",
       " ('terms', 'NNS'),\n",
       " ('of', 'IN'),\n",
       " ('using', 'VBG'),\n",
       " ('Bitcoin', 'NNP'),\n",
       " ('or', 'CC'),\n",
       " ('some', 'DT'),\n",
       " ('of', 'IN'),\n",
       " ('the', 'DT'),\n",
       " ('cryptocurrencies', 'NNS'),\n",
       " (',', ','),\n",
       " ('we', 'PRP'),\n",
       " ('are', 'VBP'),\n",
       " ('also', 'RB'),\n",
       " ('looking', 'VBG'),\n",
       " ('at', 'IN')]"
      ]
     },
     "execution_count": 18,
     "metadata": {},
     "output_type": "execute_result"
    }
   ],
   "source": [
    "import time    # to time the ops\n",
    "\n",
    "import nltk\n",
    "\n",
    "t0 = time.time()    # start timer\n",
    "tokens = nltk.word_tokenize(text)   # tokenizing\n",
    "t1_tagged = nltk.pos_tag(tokens)   # POSTagging\n",
    "t1 = time.time()\n",
    "\n",
    "time.taken = round(t1-t0, 3)\n",
    "print(time.taken)\n",
    "print(\"\\n\")    # print newline\n",
    "\n",
    "# view POSTagged sample output\n",
    "t1_tagged[:50]"
   ]
  },
  {
   "cell_type": "code",
   "execution_count": 19,
   "metadata": {},
   "outputs": [
    {
     "data": {
      "text/html": [
       "<div>\n",
       "<style>\n",
       "    .dataframe thead tr:only-child th {\n",
       "        text-align: right;\n",
       "    }\n",
       "\n",
       "    .dataframe thead th {\n",
       "        text-align: left;\n",
       "    }\n",
       "\n",
       "    .dataframe tbody tr th {\n",
       "        vertical-align: top;\n",
       "    }\n",
       "</style>\n",
       "<table border=\"1\" class=\"dataframe\">\n",
       "  <thead>\n",
       "    <tr style=\"text-align: right;\">\n",
       "      <th></th>\n",
       "      <th>token</th>\n",
       "      <th>POSTag</th>\n",
       "    </tr>\n",
       "  </thead>\n",
       "  <tbody>\n",
       "    <tr>\n",
       "      <th>0</th>\n",
       "      <td>[</td>\n",
       "      <td>NN</td>\n",
       "    </tr>\n",
       "    <tr>\n",
       "      <th>1</th>\n",
       "      <td>By</td>\n",
       "      <td>IN</td>\n",
       "    </tr>\n",
       "    <tr>\n",
       "      <th>2</th>\n",
       "      <td>Shelly</td>\n",
       "      <td>NNP</td>\n",
       "    </tr>\n",
       "    <tr>\n",
       "      <th>3</th>\n",
       "      <td>HaganThe</td>\n",
       "      <td>NNP</td>\n",
       "    </tr>\n",
       "    <tr>\n",
       "      <th>4</th>\n",
       "      <td>head</td>\n",
       "      <td>NN</td>\n",
       "    </tr>\n",
       "  </tbody>\n",
       "</table>\n",
       "</div>"
      ],
      "text/plain": [
       "      token POSTag\n",
       "0         [     NN\n",
       "1        By     IN\n",
       "2    Shelly    NNP\n",
       "3  HaganThe    NNP\n",
       "4      head     NN"
      ]
     },
     "execution_count": 19,
     "metadata": {},
     "output_type": "execute_result"
    }
   ],
   "source": [
    "# making panda from list\n",
    "import pandas as pd\n",
    "labels = ['token', 'POSTag']\n",
    "\n",
    "# using from_records() to build the DF\n",
    "t1_df = pd.DataFrame.from_records(t1_tagged, columns = labels)\n",
    "\n",
    "t1_df[:5]   # view a few rows of the DF"
   ]
  },
  {
   "cell_type": "code",
   "execution_count": 20,
   "metadata": {},
   "outputs": [
    {
     "data": {
      "text/html": [
       "<div>\n",
       "<style>\n",
       "    .dataframe thead tr:only-child th {\n",
       "        text-align: right;\n",
       "    }\n",
       "\n",
       "    .dataframe thead th {\n",
       "        text-align: left;\n",
       "    }\n",
       "\n",
       "    .dataframe tbody tr th {\n",
       "        vertical-align: top;\n",
       "    }\n",
       "</style>\n",
       "<table border=\"1\" class=\"dataframe\">\n",
       "  <thead>\n",
       "    <tr style=\"text-align: right;\">\n",
       "      <th></th>\n",
       "      <th>token</th>\n",
       "      <th>POSTag</th>\n",
       "      <th>stemmed_token</th>\n",
       "    </tr>\n",
       "  </thead>\n",
       "  <tbody>\n",
       "    <tr>\n",
       "      <th>0</th>\n",
       "      <td>[</td>\n",
       "      <td>NN</td>\n",
       "      <td>[</td>\n",
       "    </tr>\n",
       "    <tr>\n",
       "      <th>1</th>\n",
       "      <td>By</td>\n",
       "      <td>IN</td>\n",
       "      <td>by</td>\n",
       "    </tr>\n",
       "    <tr>\n",
       "      <th>2</th>\n",
       "      <td>Shelly</td>\n",
       "      <td>NNP</td>\n",
       "      <td>shel</td>\n",
       "    </tr>\n",
       "    <tr>\n",
       "      <th>3</th>\n",
       "      <td>HaganThe</td>\n",
       "      <td>NNP</td>\n",
       "      <td>haganth</td>\n",
       "    </tr>\n",
       "    <tr>\n",
       "      <th>4</th>\n",
       "      <td>head</td>\n",
       "      <td>NN</td>\n",
       "      <td>head</td>\n",
       "    </tr>\n",
       "    <tr>\n",
       "      <th>5</th>\n",
       "      <td>of</td>\n",
       "      <td>IN</td>\n",
       "      <td>of</td>\n",
       "    </tr>\n",
       "    <tr>\n",
       "      <th>6</th>\n",
       "      <td>the</td>\n",
       "      <td>DT</td>\n",
       "      <td>the</td>\n",
       "    </tr>\n",
       "    <tr>\n",
       "      <th>7</th>\n",
       "      <td>World</td>\n",
       "      <td>NNP</td>\n",
       "      <td>world</td>\n",
       "    </tr>\n",
       "    <tr>\n",
       "      <th>8</th>\n",
       "      <td>Bank</td>\n",
       "      <td>NNP</td>\n",
       "      <td>bank</td>\n",
       "    </tr>\n",
       "    <tr>\n",
       "      <th>9</th>\n",
       "      <td>compared</td>\n",
       "      <td>VBN</td>\n",
       "      <td>comp</td>\n",
       "    </tr>\n",
       "    <tr>\n",
       "      <th>10</th>\n",
       "      <td>cryptocurrencies</td>\n",
       "      <td>NNS</td>\n",
       "      <td>cryptocur</td>\n",
       "    </tr>\n",
       "    <tr>\n",
       "      <th>11</th>\n",
       "      <td>to</td>\n",
       "      <td>TO</td>\n",
       "      <td>to</td>\n",
       "    </tr>\n",
       "    <tr>\n",
       "      <th>12</th>\n",
       "      <td>“</td>\n",
       "      <td>VB</td>\n",
       "      <td>“</td>\n",
       "    </tr>\n",
       "    <tr>\n",
       "      <th>13</th>\n",
       "      <td>Ponzi</td>\n",
       "      <td>NNP</td>\n",
       "      <td>ponz</td>\n",
       "    </tr>\n",
       "    <tr>\n",
       "      <th>14</th>\n",
       "      <td>schemes</td>\n",
       "      <td>NNS</td>\n",
       "      <td>schemes</td>\n",
       "    </tr>\n",
       "    <tr>\n",
       "      <th>15</th>\n",
       "      <td>,</td>\n",
       "      <td>,</td>\n",
       "      <td>,</td>\n",
       "    </tr>\n",
       "    <tr>\n",
       "      <th>16</th>\n",
       "      <td>”</td>\n",
       "      <td>VBP</td>\n",
       "      <td>”</td>\n",
       "    </tr>\n",
       "    <tr>\n",
       "      <th>17</th>\n",
       "      <td>the</td>\n",
       "      <td>DT</td>\n",
       "      <td>the</td>\n",
       "    </tr>\n",
       "    <tr>\n",
       "      <th>18</th>\n",
       "      <td>latest</td>\n",
       "      <td>JJS</td>\n",
       "      <td>latest</td>\n",
       "    </tr>\n",
       "  </tbody>\n",
       "</table>\n",
       "</div>"
      ],
      "text/plain": [
       "               token POSTag stemmed_token\n",
       "0                  [     NN             [\n",
       "1                 By     IN            by\n",
       "2             Shelly    NNP          shel\n",
       "3           HaganThe    NNP       haganth\n",
       "4               head     NN          head\n",
       "5                 of     IN            of\n",
       "6                the     DT           the\n",
       "7              World    NNP         world\n",
       "8               Bank    NNP          bank\n",
       "9           compared    VBN          comp\n",
       "10  cryptocurrencies    NNS     cryptocur\n",
       "11                to     TO            to\n",
       "12                 “     VB             “\n",
       "13             Ponzi    NNP          ponz\n",
       "14           schemes    NNS       schemes\n",
       "15                 ,      ,             ,\n",
       "16                 ”    VBP             ”\n",
       "17               the     DT           the\n",
       "18            latest    JJS        latest"
      ]
     },
     "execution_count": 20,
     "metadata": {},
     "output_type": "execute_result"
    }
   ],
   "source": [
    "import nltk.stem.lancaster as lan_stem\n",
    "\n",
    "stem1 = lan_stem.LancasterStemmer()\n",
    "\n",
    "# stemming all the 11k+ tokens in ibmcorpus\n",
    "newlist=[]   #define empty list 2 populate\n",
    "\n",
    "t0 = time.time()\n",
    "for token1 in t1_df.token:\n",
    "    newlist.append(stem1.stem(token1))\n",
    "\n",
    "stemmed_df = pd.DataFrame({'stemmed_token':newlist})\n",
    "\n",
    "# now concatenate DFs by colm n display\n",
    "t1_stemmed_df = pd.concat([t1_df, stemmed_df], axis=1)\n",
    "t1_stemmed_df[:19]"
   ]
  },
  {
   "cell_type": "code",
   "execution_count": null,
   "metadata": {},
   "outputs": [],
   "source": []
  },
  {
   "cell_type": "code",
   "execution_count": 21,
   "metadata": {},
   "outputs": [],
   "source": [
    "\n",
    "\n",
    "# Py's wordnet lemmatizer\n",
    "import nltk.stem\n",
    "wordnet_lemm = nltk.stem.WordNetLemmatizer()"
   ]
  },
  {
   "cell_type": "code",
   "execution_count": 22,
   "metadata": {},
   "outputs": [
    {
     "data": {
      "text/html": [
       "<div>\n",
       "<style>\n",
       "    .dataframe thead tr:only-child th {\n",
       "        text-align: right;\n",
       "    }\n",
       "\n",
       "    .dataframe thead th {\n",
       "        text-align: left;\n",
       "    }\n",
       "\n",
       "    .dataframe tbody tr th {\n",
       "        vertical-align: top;\n",
       "    }\n",
       "</style>\n",
       "<table border=\"1\" class=\"dataframe\">\n",
       "  <thead>\n",
       "    <tr style=\"text-align: right;\">\n",
       "      <th></th>\n",
       "      <th>token</th>\n",
       "      <th>POSTag</th>\n",
       "      <th>stemmed_token</th>\n",
       "      <th>lemmed_token</th>\n",
       "    </tr>\n",
       "  </thead>\n",
       "  <tbody>\n",
       "    <tr>\n",
       "      <th>0</th>\n",
       "      <td>[</td>\n",
       "      <td>NN</td>\n",
       "      <td>[</td>\n",
       "      <td>[</td>\n",
       "    </tr>\n",
       "    <tr>\n",
       "      <th>1</th>\n",
       "      <td>By</td>\n",
       "      <td>IN</td>\n",
       "      <td>by</td>\n",
       "      <td>By</td>\n",
       "    </tr>\n",
       "    <tr>\n",
       "      <th>2</th>\n",
       "      <td>Shelly</td>\n",
       "      <td>NNP</td>\n",
       "      <td>shel</td>\n",
       "      <td>Shelly</td>\n",
       "    </tr>\n",
       "    <tr>\n",
       "      <th>3</th>\n",
       "      <td>HaganThe</td>\n",
       "      <td>NNP</td>\n",
       "      <td>haganth</td>\n",
       "      <td>HaganThe</td>\n",
       "    </tr>\n",
       "    <tr>\n",
       "      <th>4</th>\n",
       "      <td>head</td>\n",
       "      <td>NN</td>\n",
       "      <td>head</td>\n",
       "      <td>head</td>\n",
       "    </tr>\n",
       "    <tr>\n",
       "      <th>5</th>\n",
       "      <td>of</td>\n",
       "      <td>IN</td>\n",
       "      <td>of</td>\n",
       "      <td>of</td>\n",
       "    </tr>\n",
       "    <tr>\n",
       "      <th>6</th>\n",
       "      <td>the</td>\n",
       "      <td>DT</td>\n",
       "      <td>the</td>\n",
       "      <td>the</td>\n",
       "    </tr>\n",
       "    <tr>\n",
       "      <th>7</th>\n",
       "      <td>World</td>\n",
       "      <td>NNP</td>\n",
       "      <td>world</td>\n",
       "      <td>World</td>\n",
       "    </tr>\n",
       "    <tr>\n",
       "      <th>8</th>\n",
       "      <td>Bank</td>\n",
       "      <td>NNP</td>\n",
       "      <td>bank</td>\n",
       "      <td>Bank</td>\n",
       "    </tr>\n",
       "    <tr>\n",
       "      <th>9</th>\n",
       "      <td>compared</td>\n",
       "      <td>VBN</td>\n",
       "      <td>comp</td>\n",
       "      <td>compared</td>\n",
       "    </tr>\n",
       "    <tr>\n",
       "      <th>10</th>\n",
       "      <td>cryptocurrencies</td>\n",
       "      <td>NNS</td>\n",
       "      <td>cryptocur</td>\n",
       "      <td>cryptocurrencies</td>\n",
       "    </tr>\n",
       "    <tr>\n",
       "      <th>11</th>\n",
       "      <td>to</td>\n",
       "      <td>TO</td>\n",
       "      <td>to</td>\n",
       "      <td>to</td>\n",
       "    </tr>\n",
       "    <tr>\n",
       "      <th>12</th>\n",
       "      <td>“</td>\n",
       "      <td>VB</td>\n",
       "      <td>“</td>\n",
       "      <td>“</td>\n",
       "    </tr>\n",
       "    <tr>\n",
       "      <th>13</th>\n",
       "      <td>Ponzi</td>\n",
       "      <td>NNP</td>\n",
       "      <td>ponz</td>\n",
       "      <td>Ponzi</td>\n",
       "    </tr>\n",
       "    <tr>\n",
       "      <th>14</th>\n",
       "      <td>schemes</td>\n",
       "      <td>NNS</td>\n",
       "      <td>schemes</td>\n",
       "      <td>scheme</td>\n",
       "    </tr>\n",
       "    <tr>\n",
       "      <th>15</th>\n",
       "      <td>,</td>\n",
       "      <td>,</td>\n",
       "      <td>,</td>\n",
       "      <td>,</td>\n",
       "    </tr>\n",
       "    <tr>\n",
       "      <th>16</th>\n",
       "      <td>”</td>\n",
       "      <td>VBP</td>\n",
       "      <td>”</td>\n",
       "      <td>”</td>\n",
       "    </tr>\n",
       "    <tr>\n",
       "      <th>17</th>\n",
       "      <td>the</td>\n",
       "      <td>DT</td>\n",
       "      <td>the</td>\n",
       "      <td>the</td>\n",
       "    </tr>\n",
       "    <tr>\n",
       "      <th>18</th>\n",
       "      <td>latest</td>\n",
       "      <td>JJS</td>\n",
       "      <td>latest</td>\n",
       "      <td>latest</td>\n",
       "    </tr>\n",
       "    <tr>\n",
       "      <th>19</th>\n",
       "      <td>financial</td>\n",
       "      <td>JJ</td>\n",
       "      <td>fin</td>\n",
       "      <td>financial</td>\n",
       "    </tr>\n",
       "    <tr>\n",
       "      <th>20</th>\n",
       "      <td>voice</td>\n",
       "      <td>NN</td>\n",
       "      <td>voic</td>\n",
       "      <td>voice</td>\n",
       "    </tr>\n",
       "    <tr>\n",
       "      <th>21</th>\n",
       "      <td>to</td>\n",
       "      <td>TO</td>\n",
       "      <td>to</td>\n",
       "      <td>to</td>\n",
       "    </tr>\n",
       "    <tr>\n",
       "      <th>22</th>\n",
       "      <td>raise</td>\n",
       "      <td>VB</td>\n",
       "      <td>rais</td>\n",
       "      <td>raise</td>\n",
       "    </tr>\n",
       "    <tr>\n",
       "      <th>23</th>\n",
       "      <td>questions</td>\n",
       "      <td>NNS</td>\n",
       "      <td>quest</td>\n",
       "      <td>question</td>\n",
       "    </tr>\n",
       "    <tr>\n",
       "      <th>24</th>\n",
       "      <td>about</td>\n",
       "      <td>IN</td>\n",
       "      <td>about</td>\n",
       "      <td>about</td>\n",
       "    </tr>\n",
       "  </tbody>\n",
       "</table>\n",
       "</div>"
      ],
      "text/plain": [
       "               token POSTag stemmed_token      lemmed_token\n",
       "0                  [     NN             [                 [\n",
       "1                 By     IN            by                By\n",
       "2             Shelly    NNP          shel            Shelly\n",
       "3           HaganThe    NNP       haganth          HaganThe\n",
       "4               head     NN          head              head\n",
       "5                 of     IN            of                of\n",
       "6                the     DT           the               the\n",
       "7              World    NNP         world             World\n",
       "8               Bank    NNP          bank              Bank\n",
       "9           compared    VBN          comp          compared\n",
       "10  cryptocurrencies    NNS     cryptocur  cryptocurrencies\n",
       "11                to     TO            to                to\n",
       "12                 “     VB             “                 “\n",
       "13             Ponzi    NNP          ponz             Ponzi\n",
       "14           schemes    NNS       schemes            scheme\n",
       "15                 ,      ,             ,                 ,\n",
       "16                 ”    VBP             ”                 ”\n",
       "17               the     DT           the               the\n",
       "18            latest    JJS        latest            latest\n",
       "19         financial     JJ           fin         financial\n",
       "20             voice     NN          voic             voice\n",
       "21                to     TO            to                to\n",
       "22             raise     VB          rais             raise\n",
       "23         questions    NNS         quest          question\n",
       "24             about     IN         about             about"
      ]
     },
     "execution_count": 22,
     "metadata": {},
     "output_type": "execute_result"
    }
   ],
   "source": [
    "# lemmatizing the ibm corpus\n",
    "lemm_list=[]\n",
    "\n",
    "\n",
    "for token1 in t1_df.token:\n",
    "    lemm_list.append(wordnet_lemm.lemmatize(token1))\n",
    "\n",
    "lemmed_df = pd.DataFrame({'lemmed_token':lemm_list})\n",
    "# lemmed_df[:9]\n",
    "\n",
    "# now concatenate by colm and display\n",
    "t1_lemmed_df = pd.concat([t1_stemmed_df,lemmed_df], axis=1)\n",
    "t1_lemmed_df[:25]"
   ]
  },
  {
   "cell_type": "code",
   "execution_count": 23,
   "metadata": {},
   "outputs": [],
   "source": [
    "from textblob import TextBlob"
   ]
  },
  {
   "cell_type": "code",
   "execution_count": 24,
   "metadata": {},
   "outputs": [],
   "source": [
    "t2 = TextBlob(text)"
   ]
  },
  {
   "cell_type": "code",
   "execution_count": 25,
   "metadata": {},
   "outputs": [
    {
     "data": {
      "text/plain": [
       "Sentiment(polarity=0.10753968253968253, subjectivity=0.4757936507936507)"
      ]
     },
     "execution_count": 25,
     "metadata": {},
     "output_type": "execute_result"
    }
   ],
   "source": [
    "t2.sentiment  # subjectivity = 0 means fully objective sentence.\n"
   ]
  },
  {
   "cell_type": "code",
   "execution_count": 4,
   "metadata": {},
   "outputs": [],
   "source": [
    "def process(text1):\n",
    "    text1 = str(text1)\n",
    "    text1 = text1.replace('\\n','')\n",
    "    text1 = cleanhtml(text1)\n",
    "    lines1 = text1.split('.')\n",
    "    df = pd.DataFrame({'documents':lines1})\n",
    "    sent = SentimentIntensityAnalyzer()\n",
    "    df[\"Compounded_polarity\"] = df.documents.apply(lambda x: sent.polarity_scores(x)['compound'])\n",
    "    df[\"Neutral\"] = df.documents.apply(lambda x: sent.polarity_scores(x)['neu'])\n",
    "    df[\"Negative\"] = df.documents.apply(lambda x: sent.polarity_scores(x)['neg'])\n",
    "    df[\"Positive\"] = df.documents.apply(lambda x: sent.polarity_scores(x)['pos'])\n",
    "    df[\"Sentiment\"] = \"\"\n",
    "    df.loc[df.Compounded_polarity == 0, \"Sentiment\"] = 0\n",
    "    df.loc[df.Compounded_polarity > 0, \"Sentiment\"] = 1\n",
    "    df.loc[df.Compounded_polarity < 0, \"Sentiment\"] = -1\n",
    "    df_n = df.iloc[:,[0,5]]\n",
    "    data = [tuple(x) for x in df_n.values]\n",
    "    return(data)\n"
   ]
  },
  {
   "cell_type": "markdown",
   "metadata": {},
   "source": [
    "###views of global central banks"
   ]
  },
  {
   "cell_type": "code",
   "execution_count": 7,
   "metadata": {},
   "outputs": [],
   "source": [
    "driver.get(\"https://economictimes.indiatimes.com/markets/stocks/news/how-cryptocurrencies-split-global-central-banks/articleshow/62715511.cms\")"
   ]
  },
  {
   "cell_type": "code",
   "execution_count": 8,
   "metadata": {},
   "outputs": [],
   "source": [
    "pagesrc = driver.page_source\n",
    "soup = BeautifulSoup(pagesrc,'lxml')\n",
    "text1 = soup.find_all('div',class_ = \"Normal\")\n"
   ]
  },
  {
   "cell_type": "code",
   "execution_count": 28,
   "metadata": {},
   "outputs": [],
   "source": [
    "globalbanks =  process(text1)\n",
    "globalbanks = pd.DataFrame(globalbanks)\n",
    "globalbanks.rename(columns={'0': 'text'}, inplace=True)\n",
    "globalbanks.rename(columns={'1': 'Sentiment'}, inplace=True)"
   ]
  },
  {
   "cell_type": "code",
   "execution_count": 30,
   "metadata": {},
   "outputs": [
    {
     "data": {
      "text/html": [
       "<div>\n",
       "<style>\n",
       "    .dataframe thead tr:only-child th {\n",
       "        text-align: right;\n",
       "    }\n",
       "\n",
       "    .dataframe thead th {\n",
       "        text-align: left;\n",
       "    }\n",
       "\n",
       "    .dataframe tbody tr th {\n",
       "        vertical-align: top;\n",
       "    }\n",
       "</style>\n",
       "<table border=\"1\" class=\"dataframe\">\n",
       "  <thead>\n",
       "    <tr style=\"text-align: right;\">\n",
       "      <th></th>\n",
       "      <th>0</th>\n",
       "      <th>1</th>\n",
       "    </tr>\n",
       "  </thead>\n",
       "  <tbody>\n",
       "    <tr>\n",
       "      <th>0</th>\n",
       "      <td>[Nine years since the birth of Bitcoin, centra...</td>\n",
       "      <td>0</td>\n",
       "    </tr>\n",
       "    <tr>\n",
       "      <th>1</th>\n",
       "      <td>There is fear after a $500-million exchange h...</td>\n",
       "      <td>-1</td>\n",
       "    </tr>\n",
       "    <tr>\n",
       "      <th>2</th>\n",
       "      <td>Here’s a wrap-up of how the world’s largest c...</td>\n",
       "      <td>1</td>\n",
       "    </tr>\n",
       "    <tr>\n",
       "      <th>3</th>\n",
       "      <td>Jerome Powell, the new Fed chairman said in 2...</td>\n",
       "      <td>-1</td>\n",
       "    </tr>\n",
       "    <tr>\n",
       "      <th>4</th>\n",
       "      <td>” Powell said there are “meaningful” challenge...</td>\n",
       "      <td>-1</td>\n",
       "    </tr>\n",
       "    <tr>\n",
       "      <th>5</th>\n",
       "      <td>EURO AREA: Tulip-LikeThe European Central Bank...</td>\n",
       "      <td>-1</td>\n",
       "    </tr>\n",
       "    <tr>\n",
       "      <th>6</th>\n",
       "      <td>Vice President Vitor Constancio said in Septe...</td>\n",
       "      <td>0</td>\n",
       "    </tr>\n",
       "    <tr>\n",
       "      <th>7</th>\n",
       "      <td>Colleague Benoit Coeure has warned about Bitc...</td>\n",
       "      <td>-1</td>\n",
       "    </tr>\n",
       "    <tr>\n",
       "      <th>8</th>\n",
       "      <td>ECB President Mario Draghi said in November t...</td>\n",
       "      <td>-1</td>\n",
       "    </tr>\n",
       "    <tr>\n",
       "      <th>9</th>\n",
       "      <td>CHINA: Cracking DownChina has made it clear: t...</td>\n",
       "      <td>1</td>\n",
       "    </tr>\n",
       "    <tr>\n",
       "      <th>10</th>\n",
       "      <td>With a research team set up in 2014 to develo...</td>\n",
       "      <td>1</td>\n",
       "    </tr>\n",
       "    <tr>\n",
       "      <th>11</th>\n",
       "      <td>But at the same time, the authorities are cra...</td>\n",
       "      <td>0</td>\n",
       "    </tr>\n",
       "    <tr>\n",
       "      <th>12</th>\n",
       "      <td>China says going digital could help improve p...</td>\n",
       "      <td>1</td>\n",
       "    </tr>\n",
       "    <tr>\n",
       "      <th>13</th>\n",
       "      <td>JAPAN: Not NeededCash is still king in Japan, ...</td>\n",
       "      <td>0</td>\n",
       "    </tr>\n",
       "    <tr>\n",
       "      <th>14</th>\n",
       "      <td>The Bank of Japan is not considering issuing ...</td>\n",
       "      <td>0</td>\n",
       "    </tr>\n",
       "    <tr>\n",
       "      <th>15</th>\n",
       "      <td>Authorities may be forced to take action on t...</td>\n",
       "      <td>-1</td>\n",
       "    </tr>\n",
       "    <tr>\n",
       "      <th>16</th>\n",
       "      <td>BOJ chief Haruhiko Kuroda said in December of...</td>\n",
       "      <td>1</td>\n",
       "    </tr>\n",
       "    <tr>\n",
       "      <th>17</th>\n",
       "      <td>”GERMANY: Investors BewareIn a country where a...</td>\n",
       "      <td>-1</td>\n",
       "    </tr>\n",
       "    <tr>\n",
       "      <th>18</th>\n",
       "      <td>President Jens Weidmann described Bitcoin’s m...</td>\n",
       "      <td>-1</td>\n",
       "    </tr>\n",
       "    <tr>\n",
       "      <th>19</th>\n",
       "      <td>” Board member Carl-Ludwig Thiele said in Sept...</td>\n",
       "      <td>0</td>\n",
       "    </tr>\n",
       "    <tr>\n",
       "      <th>20</th>\n",
       "      <td>UK: Potential ‘Revolution’Bank of England Gove...</td>\n",
       "      <td>0</td>\n",
       "    </tr>\n",
       "    <tr>\n",
       "      <th>21</th>\n",
       "      <td>The central bank started a financial technolo...</td>\n",
       "      <td>0</td>\n",
       "    </tr>\n",
       "    <tr>\n",
       "      <th>22</th>\n",
       "      <td>Carney says technology based on blockchain, t...</td>\n",
       "      <td>1</td>\n",
       "    </tr>\n",
       "    <tr>\n",
       "      <th>23</th>\n",
       "      <td>He has nevertheless cautioned that the BOE is...</td>\n",
       "      <td>1</td>\n",
       "    </tr>\n",
       "    <tr>\n",
       "      <th>24</th>\n",
       "      <td>FRANCE: ‘Dark Side’Bank of France Governor Fra...</td>\n",
       "      <td>1</td>\n",
       "    </tr>\n",
       "    <tr>\n",
       "      <th>25</th>\n",
       "      <td>” Bitcoin has a “dark side,” he said, citing d...</td>\n",
       "      <td>-1</td>\n",
       "    </tr>\n",
       "    <tr>\n",
       "      <th>26</th>\n",
       "      <td>Villeroy de Galhau has warned that people who...</td>\n",
       "      <td>-1</td>\n",
       "    </tr>\n",
       "    <tr>\n",
       "      <th>27</th>\n",
       "      <td>”INDIA: Not AllowedIndia’s central bank is opp...</td>\n",
       "      <td>-1</td>\n",
       "    </tr>\n",
       "    <tr>\n",
       "      <th>28</th>\n",
       "      <td>Nevertheless, the Reserve Bank of India has a...</td>\n",
       "      <td>1</td>\n",
       "    </tr>\n",
       "    <tr>\n",
       "      <th>29</th>\n",
       "      <td>Currently, the use of cryptocurrencies is a v...</td>\n",
       "      <td>-1</td>\n",
       "    </tr>\n",
       "    <tr>\n",
       "      <th>30</th>\n",
       "      <td>SINGAPORE: Official WarningCharacterised — som...</td>\n",
       "      <td>0</td>\n",
       "    </tr>\n",
       "    <tr>\n",
       "      <th>31</th>\n",
       "      <td>The city-state’s monetary authority said in a...</td>\n",
       "      <td>1</td>\n",
       "    </tr>\n",
       "    <tr>\n",
       "      <th>32</th>\n",
       "      <td>Buyers should be aware “they run the risk of ...</td>\n",
       "      <td>-1</td>\n",
       "    </tr>\n",
       "    <tr>\n",
       "      <th>33</th>\n",
       "      <td>”BRAZIL: Support InnovationThe Banco Central d...</td>\n",
       "      <td>1</td>\n",
       "    </tr>\n",
       "    <tr>\n",
       "      <th>34</th>\n",
       "      <td>The central bank pledged “to support financia...</td>\n",
       "      <td>1</td>\n",
       "    </tr>\n",
       "    <tr>\n",
       "      <th>35</th>\n",
       "      <td>”CANADA: Asset-LikeCarolyn Wilkins, the Bank o...</td>\n",
       "      <td>1</td>\n",
       "    </tr>\n",
       "    <tr>\n",
       "      <th>36</th>\n",
       "      <td>“This is really an asset, or a security, and ...</td>\n",
       "      <td>1</td>\n",
       "    </tr>\n",
       "    <tr>\n",
       "      <th>37</th>\n",
       "      <td>Like others, she viewed distributed-ledger te...</td>\n",
       "      <td>1</td>\n",
       "    </tr>\n",
       "    <tr>\n",
       "      <th>38</th>\n",
       "      <td>BOC staff are also exploring the circumstance...</td>\n",
       "      <td>0</td>\n",
       "    </tr>\n",
       "    <tr>\n",
       "      <th>39</th>\n",
       "      <td>SOUTH KOREA: Crime WatchAuthorities in South K...</td>\n",
       "      <td>-1</td>\n",
       "    </tr>\n",
       "    <tr>\n",
       "      <th>40</th>\n",
       "      <td>While the government continues to weigh legis...</td>\n",
       "      <td>1</td>\n",
       "    </tr>\n",
       "    <tr>\n",
       "      <th>41</th>\n",
       "      <td>South Korea is set to begin a real-name accou...</td>\n",
       "      <td>0</td>\n",
       "    </tr>\n",
       "    <tr>\n",
       "      <th>42</th>\n",
       "      <td>Bank of Korea Deputy Governor Shin Hosoon sai...</td>\n",
       "      <td>0</td>\n",
       "    </tr>\n",
       "    <tr>\n",
       "      <th>43</th>\n",
       "      <td>So many Koreans have embraced Bitcoin that th...</td>\n",
       "      <td>-1</td>\n",
       "    </tr>\n",
       "    <tr>\n",
       "      <th>44</th>\n",
       "      <td>RUSSIA: ‘Pyramid Schemes’Russia’s central bank...</td>\n",
       "      <td>-1</td>\n",
       "    </tr>\n",
       "    <tr>\n",
       "      <th>45</th>\n",
       "      <td>” For the moment, the Bank of Russia prefers t...</td>\n",
       "      <td>-1</td>\n",
       "    </tr>\n",
       "    <tr>\n",
       "      <th>46</th>\n",
       "      <td>AUSTRALIA: Speculative ManiaAustralia’s centra...</td>\n",
       "      <td>-1</td>\n",
       "    </tr>\n",
       "    <tr>\n",
       "      <th>47</th>\n",
       "      <td>“The current fascination feels more like a sp...</td>\n",
       "      <td>1</td>\n",
       "    </tr>\n",
       "    <tr>\n",
       "      <th>48</th>\n",
       "      <td>TURKEY: Important ElementDigital currencies ma...</td>\n",
       "      <td>1</td>\n",
       "    </tr>\n",
       "    <tr>\n",
       "      <th>49</th>\n",
       "      <td>But they do pose new risks to central banks, ...</td>\n",
       "      <td>-1</td>\n",
       "    </tr>\n",
       "    <tr>\n",
       "      <th>50</th>\n",
       "      <td>Even so, the Turkish central banker said cryp...</td>\n",
       "      <td>1</td>\n",
       "    </tr>\n",
       "    <tr>\n",
       "      <th>51</th>\n",
       "      <td>Bank for international settlements: Can’t Igno...</td>\n",
       "      <td>1</td>\n",
       "    </tr>\n",
       "    <tr>\n",
       "      <th>52</th>\n",
       "      <td>“Bitcoin has gone from being an obscure curio...</td>\n",
       "      <td>0</td>\n",
       "    </tr>\n",
       "    <tr>\n",
       "      <th>53</th>\n",
       "      <td>One option is a currency available to the pub...</td>\n",
       "      <td>0</td>\n",
       "    </tr>\n",
       "    <tr>\n",
       "      <th>54</th>\n",
       "      <td>There might be a greater risk of bank runs, h...</td>\n",
       "      <td>-1</td>\n",
       "    </tr>\n",
       "    <tr>\n",
       "      <th>55</th>\n",
       "      <td>Privacy could also be a concern</td>\n",
       "      <td>0</td>\n",
       "    </tr>\n",
       "    <tr>\n",
       "      <th>56</th>\n",
       "      <td>]</td>\n",
       "      <td>0</td>\n",
       "    </tr>\n",
       "  </tbody>\n",
       "</table>\n",
       "</div>"
      ],
      "text/plain": [
       "                                                    0  1\n",
       "0   [Nine years since the birth of Bitcoin, centra...  0\n",
       "1    There is fear after a $500-million exchange h... -1\n",
       "2    Here’s a wrap-up of how the world’s largest c...  1\n",
       "3    Jerome Powell, the new Fed chairman said in 2... -1\n",
       "4   ” Powell said there are “meaningful” challenge... -1\n",
       "5   EURO AREA: Tulip-LikeThe European Central Bank... -1\n",
       "6    Vice President Vitor Constancio said in Septe...  0\n",
       "7    Colleague Benoit Coeure has warned about Bitc... -1\n",
       "8    ECB President Mario Draghi said in November t... -1\n",
       "9   CHINA: Cracking DownChina has made it clear: t...  1\n",
       "10   With a research team set up in 2014 to develo...  1\n",
       "11   But at the same time, the authorities are cra...  0\n",
       "12   China says going digital could help improve p...  1\n",
       "13  JAPAN: Not NeededCash is still king in Japan, ...  0\n",
       "14   The Bank of Japan is not considering issuing ...  0\n",
       "15   Authorities may be forced to take action on t... -1\n",
       "16   BOJ chief Haruhiko Kuroda said in December of...  1\n",
       "17  ”GERMANY: Investors BewareIn a country where a... -1\n",
       "18   President Jens Weidmann described Bitcoin’s m... -1\n",
       "19  ” Board member Carl-Ludwig Thiele said in Sept...  0\n",
       "20  UK: Potential ‘Revolution’Bank of England Gove...  0\n",
       "21   The central bank started a financial technolo...  0\n",
       "22   Carney says technology based on blockchain, t...  1\n",
       "23   He has nevertheless cautioned that the BOE is...  1\n",
       "24  FRANCE: ‘Dark Side’Bank of France Governor Fra...  1\n",
       "25  ” Bitcoin has a “dark side,” he said, citing d... -1\n",
       "26   Villeroy de Galhau has warned that people who... -1\n",
       "27  ”INDIA: Not AllowedIndia’s central bank is opp... -1\n",
       "28   Nevertheless, the Reserve Bank of India has a...  1\n",
       "29   Currently, the use of cryptocurrencies is a v... -1\n",
       "30  SINGAPORE: Official WarningCharacterised — som...  0\n",
       "31   The city-state’s monetary authority said in a...  1\n",
       "32   Buyers should be aware “they run the risk of ... -1\n",
       "33  ”BRAZIL: Support InnovationThe Banco Central d...  1\n",
       "34   The central bank pledged “to support financia...  1\n",
       "35  ”CANADA: Asset-LikeCarolyn Wilkins, the Bank o...  1\n",
       "36   “This is really an asset, or a security, and ...  1\n",
       "37   Like others, she viewed distributed-ledger te...  1\n",
       "38   BOC staff are also exploring the circumstance...  0\n",
       "39  SOUTH KOREA: Crime WatchAuthorities in South K... -1\n",
       "40   While the government continues to weigh legis...  1\n",
       "41   South Korea is set to begin a real-name accou...  0\n",
       "42   Bank of Korea Deputy Governor Shin Hosoon sai...  0\n",
       "43   So many Koreans have embraced Bitcoin that th... -1\n",
       "44  RUSSIA: ‘Pyramid Schemes’Russia’s central bank... -1\n",
       "45  ” For the moment, the Bank of Russia prefers t... -1\n",
       "46  AUSTRALIA: Speculative ManiaAustralia’s centra... -1\n",
       "47   “The current fascination feels more like a sp...  1\n",
       "48  TURKEY: Important ElementDigital currencies ma...  1\n",
       "49   But they do pose new risks to central banks, ... -1\n",
       "50   Even so, the Turkish central banker said cryp...  1\n",
       "51  Bank for international settlements: Can’t Igno...  1\n",
       "52   “Bitcoin has gone from being an obscure curio...  0\n",
       "53   One option is a currency available to the pub...  0\n",
       "54   There might be a greater risk of bank runs, h... -1\n",
       "55                    Privacy could also be a concern  0\n",
       "56                                                  ]  0"
      ]
     },
     "execution_count": 30,
     "metadata": {},
     "output_type": "execute_result"
    }
   ],
   "source": [
    "globalbanks"
   ]
  },
  {
   "cell_type": "code",
   "execution_count": null,
   "metadata": {},
   "outputs": [],
   "source": [
    "##views of RBI\n"
   ]
  },
  {
   "cell_type": "code",
   "execution_count": 34,
   "metadata": {},
   "outputs": [],
   "source": [
    "driver.get(\"https://economictimes.indiatimes.com/markets/stocks/news/anger-shock-confusion-as-rbi-bars-banks-from-cryptocurrencies/articleshow/63638799.cms\")"
   ]
  },
  {
   "cell_type": "code",
   "execution_count": 35,
   "metadata": {},
   "outputs": [],
   "source": [
    "pagesrc = driver.page_source\n",
    "soup = BeautifulSoup(pagesrc,'lxml')\n",
    "text = soup.find_all('div',class_ = \"Normal\")\n"
   ]
  },
  {
   "cell_type": "code",
   "execution_count": 36,
   "metadata": {},
   "outputs": [],
   "source": [
    "def process(text1):\n",
    "    text1 = str(text1)\n",
    "    text1 = text1.replace('\\n','')\n",
    "    text1 = cleanhtml(text1)\n",
    "    lines1 = text1.split('.')\n",
    "    df = pd.DataFrame({'documents':lines1})\n",
    "    sent = SentimentIntensityAnalyzer()\n",
    "    df[\"Compounded_polarity\"] = df.documents.apply(lambda x: sent.polarity_scores(x)['compound'])\n",
    "    df[\"Neutral\"] = df.documents.apply(lambda x: sent.polarity_scores(x)['neu'])\n",
    "    df[\"Negative\"] = df.documents.apply(lambda x: sent.polarity_scores(x)['neg'])\n",
    "    df[\"Positive\"] = df.documents.apply(lambda x: sent.polarity_scores(x)['pos'])\n",
    "    df[\"Sentiment\"] = \"\"\n",
    "    df.loc[df.Compounded_polarity == 0, \"Sentiment\"] = 0\n",
    "    df.loc[df.Compounded_polarity > 0, \"Sentiment\"] = 1\n",
    "    df.loc[df.Compounded_polarity < 0, \"Sentiment\"] = -1\n",
    "    df_n = df.iloc[:,[0,5]]\n",
    "    data = [tuple(x) for x in df_n.values]\n",
    "    return(data)\n"
   ]
  },
  {
   "cell_type": "code",
   "execution_count": 37,
   "metadata": {},
   "outputs": [],
   "source": [
    "rbi = process(text)"
   ]
  },
  {
   "cell_type": "code",
   "execution_count": null,
   "metadata": {},
   "outputs": [],
   "source": [
    "import matplotlib.pyplot as plt\n",
    "%matplotlib inline\n",
    "fig = plt.figure(figsize=(12,6))\n",
    "df.groupby('sentiment').sentiment.count().plot.bar(ylim=0)\n",
    "plt.show()"
   ]
  },
  {
   "cell_type": "code",
   "execution_count": 3,
   "metadata": {
    "collapsed": true
   },
   "outputs": [],
   "source": [
    "##views of investors"
   ]
  },
  {
   "cell_type": "code",
   "execution_count": 38,
   "metadata": {},
   "outputs": [],
   "source": [
    "driver.get(\"https://www.google.co.in\")"
   ]
  },
  {
   "cell_type": "code",
   "execution_count": 39,
   "metadata": {
    "collapsed": true
   },
   "outputs": [],
   "source": [
    "elem = driver.find_element_by_css_selector(\"#lst-ib\")"
   ]
  },
  {
   "cell_type": "code",
   "execution_count": null,
   "metadata": {},
   "outputs": [],
   "source": []
  },
  {
   "cell_type": "code",
   "execution_count": 40,
   "metadata": {
    "collapsed": true
   },
   "outputs": [],
   "source": [
    "# sending keys below is like entering keys via keyboard\n",
    "\n",
    "elem.clear()    # first clear any pre-populated text in the input field\n",
    "elem.send_keys(\"investors views on cryptocurrencies\")     # type \"pycon\" for py conf into search-text field \n",
    "elem.send_keys(Keys.RETURN)  \n",
    "time.sleep(3)\n",
    "assert \"No results found.\" not in driver.page_source"
   ]
  },
  {
   "cell_type": "code",
   "execution_count": 41,
   "metadata": {},
   "outputs": [],
   "source": [
    "link1 = driver.find_element_by_xpath('.//*[@id=\"rso\"]/div[1]/div/div/div/div/h3/a')\n",
    "link1.click()"
   ]
  },
  {
   "cell_type": "code",
   "execution_count": 42,
   "metadata": {},
   "outputs": [
    {
     "data": {
      "text/plain": [
       "<selenium.webdriver.remote.webelement.WebElement (session=\"f1fa0fe2ab330f13d5dffd598e5b37da\", element=\"0.3025915574142499-1\")>"
      ]
     },
     "execution_count": 42,
     "metadata": {},
     "output_type": "execute_result"
    }
   ],
   "source": [
    "driver.find_element_by_class_name('l-submain')"
   ]
  },
  {
   "cell_type": "code",
   "execution_count": 43,
   "metadata": {
    "collapsed": true
   },
   "outputs": [],
   "source": [
    "pagesrc = driver.page_source\n",
    "soup = BeautifulSoup(pagesrc,'lxml')\n",
    "text = soup.find_all('p')"
   ]
  },
  {
   "cell_type": "code",
   "execution_count": 44,
   "metadata": {},
   "outputs": [],
   "source": [
    "investors = process(text)"
   ]
  },
  {
   "cell_type": "code",
   "execution_count": 45,
   "metadata": {
    "collapsed": true
   },
   "outputs": [],
   "source": [
    "driver.back()"
   ]
  },
  {
   "cell_type": "code",
   "execution_count": null,
   "metadata": {},
   "outputs": [],
   "source": [
    "# experts views "
   ]
  },
  {
   "cell_type": "code",
   "execution_count": 46,
   "metadata": {},
   "outputs": [],
   "source": [
    "elem = driver.find_element_by_css_selector(\"#lst-ib\")\n",
    "elem.clear()    # first clear any pre-populated text in the input field\n",
    "elem.send_keys(\"expert views on cryptocurrency\")     # type \"pycon\" for py conf into search-text field \n",
    "elem.send_keys(Keys.RETURN)  \n",
    "time.sleep(3)\n",
    "assert \"No results found.\" not in driver.page_source"
   ]
  },
  {
   "cell_type": "code",
   "execution_count": 47,
   "metadata": {},
   "outputs": [],
   "source": [
    "link1 = driver.find_element_by_xpath('.//*[@id=\"rso\"]/div[1]/div/div/div/div/h3/a')\n",
    "link1.click()"
   ]
  },
  {
   "cell_type": "code",
   "execution_count": 48,
   "metadata": {},
   "outputs": [],
   "source": [
    "pagesrc = driver.page_source\n",
    "soup = BeautifulSoup(pagesrc,'lxml')\n",
    "text = soup.find_all('p')"
   ]
  },
  {
   "cell_type": "code",
   "execution_count": 49,
   "metadata": {},
   "outputs": [],
   "source": [
    "experts = process(text)"
   ]
  },
  {
   "cell_type": "code",
   "execution_count": null,
   "metadata": {},
   "outputs": [],
   "source": [
    "import matplotlib.pyplot as plt\n",
    "%matplotlib inline\n",
    "fig = plt.figure(figsize=(12,6))\n",
    "df.groupby('sentiment').sentiment.count().plot.bar(ylim=0)\n",
    "plt.show()"
   ]
  },
  {
   "cell_type": "code",
   "execution_count": null,
   "metadata": {},
   "outputs": [],
   "source": [
    "#financial regulators views on cryptocurrency"
   ]
  },
  {
   "cell_type": "code",
   "execution_count": 50,
   "metadata": {},
   "outputs": [],
   "source": [
    "driver.back()\n",
    "elem = driver.find_element_by_css_selector(\"#lst-ib\")\n",
    "elem.clear()    # first clear any pre-populated text in the input field\n",
    "elem.send_keys(\"financial regulators views on cryptocurrency\")     # type \"pycon\" for py conf into search-text field \n",
    "elem.send_keys(Keys.RETURN)  \n",
    "time.sleep(3)\n",
    "assert \"No results found.\" not in driver.page_source"
   ]
  },
  {
   "cell_type": "code",
   "execution_count": 51,
   "metadata": {},
   "outputs": [],
   "source": [
    "link1 = driver.find_element_by_xpath('.//*[@id=\"rso\"]/div[1]/div/div/div/div/h3/a')\n",
    "link1.click()\n",
    "pagesrc = driver.page_source\n",
    "soup = BeautifulSoup(pagesrc,'lxml')\n",
    "text = soup.find_all('p')"
   ]
  },
  {
   "cell_type": "code",
   "execution_count": 52,
   "metadata": {},
   "outputs": [],
   "source": [
    "regulators_views = process(text)"
   ]
  },
  {
   "cell_type": "code",
   "execution_count": 53,
   "metadata": {},
   "outputs": [],
   "source": [
    "driver.back()\n",
    "elem = driver.find_element_by_css_selector(\"#lst-ib\")\n",
    "elem.clear()    # first clear any pre-populated text in the input field\n",
    "elem.send_keys(\"financial regulators on cryptocurrency\")     # type \"pycon\" for py conf into search-text field \n",
    "elem.send_keys(Keys.RETURN)  \n",
    "time.sleep(3)\n",
    "assert \"No results found.\" not in driver.page_source"
   ]
  },
  {
   "cell_type": "code",
   "execution_count": null,
   "metadata": {},
   "outputs": [],
   "source": []
  },
  {
   "cell_type": "code",
   "execution_count": null,
   "metadata": {},
   "outputs": [],
   "source": [
    "##big article on crypto"
   ]
  },
  {
   "cell_type": "code",
   "execution_count": 56,
   "metadata": {},
   "outputs": [],
   "source": [
    "driver.back()\n",
    "elem = driver.find_element_by_css_selector(\"#lst-ib\")\n",
    "elem.clear()    # first clear any pre-populated text in the input field\n",
    "elem.send_keys(\"big article on cryptocurrency\")     # type \"pycon\" for py conf into search-text field \n",
    "elem.send_keys(Keys.RETURN)  \n",
    "time.sleep(3)\n",
    "assert \"No results found.\" not in driver.page_source\n",
    "link1 = driver.find_element_by_xpath('.//*[@id=\"rso\"]/div[1]/div/div/div/div/h3/a')\n",
    "link1.click()\n",
    "pagesrc = driver.page_source\n",
    "soup = BeautifulSoup(pagesrc,'lxml')\n",
    "text = soup.find_all('p')"
   ]
  },
  {
   "cell_type": "code",
   "execution_count": 57,
   "metadata": {},
   "outputs": [],
   "source": [
    "views1 = process(text)"
   ]
  },
  {
   "cell_type": "code",
   "execution_count": null,
   "metadata": {},
   "outputs": [],
   "source": [
    "##institutional-investors views"
   ]
  },
  {
   "cell_type": "code",
   "execution_count": 58,
   "metadata": {
    "collapsed": true
   },
   "outputs": [],
   "source": [
    "driver.get(\"https://medium.com/john-pfeffer/an-institutional-investors-take-on-cryptoassets-690421158904\")"
   ]
  },
  {
   "cell_type": "code",
   "execution_count": 60,
   "metadata": {},
   "outputs": [],
   "source": [
    "\n",
    "pagesrc = driver.page_source\n",
    "soup_obj = BeautifulSoup(pagesrc, \"lxml\")\n",
    "topic_12 = soup_obj.find_all(\"p\")\n"
   ]
  },
  {
   "cell_type": "code",
   "execution_count": 61,
   "metadata": {},
   "outputs": [],
   "source": [
    "inv = process(topic_12)"
   ]
  },
  {
   "cell_type": "code",
   "execution_count": 62,
   "metadata": {},
   "outputs": [],
   "source": [
    "final = inv+views1+rbi+regulators_views+experts+globalbanks"
   ]
  },
  {
   "cell_type": "code",
   "execution_count": 63,
   "metadata": {},
   "outputs": [
    {
     "data": {
      "text/plain": [
       "1373"
      ]
     },
     "execution_count": 63,
     "metadata": {},
     "output_type": "execute_result"
    }
   ],
   "source": [
    "len(final) ##total - 1373 documents"
   ]
  },
  {
   "cell_type": "code",
   "execution_count": null,
   "metadata": {},
   "outputs": [],
   "source": [
    "#A Naive Bayes machine learning classifier"
   ]
  },
  {
   "cell_type": "code",
   "execution_count": 64,
   "metadata": {},
   "outputs": [],
   "source": [
    "\n",
    "# generate indices randomly for train and test\n",
    "indices_train = sorted(random.sample(range(len(final)), round(len(final)*.70)))\n",
    "indices_test = list(set(range(len(final)))  - set(indices_train))\n"
   ]
  },
  {
   "cell_type": "code",
   "execution_count": 65,
   "metadata": {},
   "outputs": [],
   "source": [
    "# now subset the full dataset into training and test\n",
    "train_data = [final[i] for i in indices_train]\n",
    "test_data = [final[i] for i in indices_test]\n"
   ]
  },
  {
   "cell_type": "code",
   "execution_count": 66,
   "metadata": {},
   "outputs": [
    {
     "data": {
      "text/plain": [
       "961"
      ]
     },
     "execution_count": 66,
     "metadata": {},
     "output_type": "execute_result"
    }
   ],
   "source": [
    "len(train_data)  #961"
   ]
  },
  {
   "cell_type": "code",
   "execution_count": 131,
   "metadata": {},
   "outputs": [
    {
     "data": {
      "text/plain": [
       "386"
      ]
     },
     "execution_count": 131,
     "metadata": {},
     "output_type": "execute_result"
    }
   ],
   "source": [
    "len(test_data)  #386"
   ]
  },
  {
   "cell_type": "code",
   "execution_count": 67,
   "metadata": {},
   "outputs": [
    {
     "name": "stdout",
     "output_type": "stream",
     "text": [
      "0.7815533980582524\n"
     ]
    }
   ],
   "source": [
    "cl = NaiveBayesClassifier(train_data)\n",
    "nb_accuracy = cl.accuracy(test_data)\n",
    "print(nb_accuracy)  ### 78% accuracy\n",
    "#time taken - 15 seconds  "
   ]
  },
  {
   "cell_type": "code",
   "execution_count": 68,
   "metadata": {},
   "outputs": [
    {
     "data": {
      "text/plain": [
       "1"
      ]
     },
     "execution_count": 68,
     "metadata": {},
     "output_type": "execute_result"
    }
   ],
   "source": [
    "###classify\n",
    "cl.classify('The latest annual report of the International Monetary Fund has concluded that cryptocurrency does not pose a threat to global economic stability')"
   ]
  },
  {
   "cell_type": "code",
   "execution_count": 69,
   "metadata": {},
   "outputs": [
    {
     "data": {
      "text/plain": [
       "0"
      ]
     },
     "execution_count": 69,
     "metadata": {},
     "output_type": "execute_result"
    }
   ],
   "source": [
    "cl.classify('cryptocurrency poses “limited threat” to the fiat financial system')"
   ]
  },
  {
   "cell_type": "code",
   "execution_count": 70,
   "metadata": {},
   "outputs": [
    {
     "data": {
      "text/plain": [
       "0"
      ]
     },
     "execution_count": 70,
     "metadata": {},
     "output_type": "execute_result"
    }
   ],
   "source": [
    "cl.classify('the report is optimistic about the future application of blockchain technology')"
   ]
  },
  {
   "cell_type": "code",
   "execution_count": 71,
   "metadata": {},
   "outputs": [
    {
     "data": {
      "text/plain": [
       "-1"
      ]
     },
     "execution_count": 71,
     "metadata": {},
     "output_type": "execute_result"
    }
   ],
   "source": [
    "cl.classify('But they do pose new risks to central banks, including to their control of money supply and price stability, and the transmission of monetary policy, Cetinkaya said')"
   ]
  },
  {
   "cell_type": "code",
   "execution_count": 72,
   "metadata": {},
   "outputs": [],
   "source": [
    "df =  pd.DataFrame(list(final), columns=['documents','sentiment'])"
   ]
  },
  {
   "cell_type": "code",
   "execution_count": 73,
   "metadata": {},
   "outputs": [
    {
     "data": {
      "image/png": "[encoded data removed]",
      "text/plain": [
       "<matplotlib.figure.Figure at 0x14664b38>"
      ]
     },
     "metadata": {},
     "output_type": "display_data"
    }
   ],
   "source": [
    "import matplotlib.pyplot as plt\n",
    "%matplotlib inline\n",
    "fig = plt.figure(figsize=(12,6))\n",
    "df.groupby('sentiment').sentiment.count().plot.bar(ylim=0)\n",
    "plt.show()"
   ]
  },
  {
   "cell_type": "code",
   "execution_count": 74,
   "metadata": {},
   "outputs": [
    {
     "data": {
      "text/plain": [
       "sentiment\n",
       "-1    160\n",
       " 0    976\n",
       " 1    237\n",
       "Name: sentiment, dtype: int64"
      ]
     },
     "execution_count": 74,
     "metadata": {},
     "output_type": "execute_result"
    }
   ],
   "source": [
    "\n",
    "df.groupby('sentiment').sentiment.count()\n",
    "#976 - Most of them are neutral comments\n",
    "#237 - positive\n",
    "#160 - negative"
   ]
  },
  {
   "cell_type": "code",
   "execution_count": null,
   "metadata": {},
   "outputs": [],
   "source": [
    "#adding positive and negative view on cryptocurrencies"
   ]
  },
  {
   "cell_type": "code",
   "execution_count": 75,
   "metadata": {},
   "outputs": [],
   "source": [
    "def scraping(text):\n",
    "    driver.get(text)\n",
    "    pagesrc = driver.page_source\n",
    "    soup_obj = BeautifulSoup(pagesrc, \"lxml\")\n",
    "    text = soup_obj.find_all(\"p\")\n",
    "    return(text)"
   ]
  },
  {
   "cell_type": "code",
   "execution_count": 76,
   "metadata": {},
   "outputs": [],
   "source": [
    "text = scraping(\"https://coinpupil.com/altcoins/advantages-disadvantages-of-cryptocurrency/\")"
   ]
  },
  {
   "cell_type": "code",
   "execution_count": 77,
   "metadata": {},
   "outputs": [],
   "source": [
    "t1 = scraping(\"https://economictimes.indiatimes.com/wealth/invest/7-reasons-why-you-should-not-invest-in-bitcoins-cryptocurrencies/articleshow/60891341.cms\")"
   ]
  },
  {
   "cell_type": "code",
   "execution_count": 78,
   "metadata": {},
   "outputs": [],
   "source": [
    "t2 = scraping(\"https://www.investinblockchain.com/7-signs-bad-cryptocurrency/\")"
   ]
  },
  {
   "cell_type": "code",
   "execution_count": 79,
   "metadata": {},
   "outputs": [],
   "source": [
    "t3 = scraping(\"http://thecircular.org/cryptocurrencies-bad-sides-bitcoin/\")"
   ]
  },
  {
   "cell_type": "code",
   "execution_count": 80,
   "metadata": {},
   "outputs": [],
   "source": [
    "one = process(t1)\n",
    "two = process(t2) \n",
    "three = process(t3)"
   ]
  },
  {
   "cell_type": "code",
   "execution_count": 81,
   "metadata": {},
   "outputs": [],
   "source": [
    "pros_Cons = process(text)"
   ]
  },
  {
   "cell_type": "code",
   "execution_count": 82,
   "metadata": {},
   "outputs": [],
   "source": [
    "#adding to final tuple\n",
    "final = final + one + two+ three + pros_Cons"
   ]
  },
  {
   "cell_type": "code",
   "execution_count": 83,
   "metadata": {},
   "outputs": [
    {
     "name": "stdout",
     "output_type": "stream",
     "text": [
      "0.7372881355932204\n"
     ]
    }
   ],
   "source": [
    "\n",
    "# generate indices randomly for train and test\n",
    "indices_train = sorted(random.sample(range(len(final)), round(len(final)*.70)))\n",
    "indices_test = list(set(range(len(final)))  - set(indices_train))\n",
    "\n",
    "# now subset the full dataset into training and test\n",
    "train_data = [final[i] for i in indices_train]\n",
    "test_data = [final[i] for i in indices_test]\n",
    "\n",
    "cl = NaiveBayesClassifier(train_data)\n",
    "nb_accuracy = cl.accuracy(test_data)\n",
    "print(nb_accuracy)\n",
    "####73% accuracy"
   ]
  },
  {
   "cell_type": "code",
   "execution_count": 84,
   "metadata": {},
   "outputs": [
    {
     "data": {
      "text/plain": [
       "1"
      ]
     },
     "execution_count": 84,
     "metadata": {},
     "output_type": "execute_result"
    }
   ],
   "source": [
    "cl.classify('Issues such as hacking incidents can cause investors to lose all of their investment quickly')"
   ]
  },
  {
   "cell_type": "code",
   "execution_count": 92,
   "metadata": {},
   "outputs": [],
   "source": [
    "x1 = pd.Series(df[\"documents\"].tolist()).astype(str)"
   ]
  },
  {
   "cell_type": "code",
   "execution_count": 94,
   "metadata": {},
   "outputs": [
    {
     "data": {
      "text/plain": [
       "0       [IMPORTANT NOTICE: This document is intended f...\n",
       "1        The views expressed in this document are not,...\n",
       "2        Recipients of this document should do their o...\n",
       "3        This document is not an offer, nor the solici...\n",
       "4       , Amidst the indiscriminate speculation, sensa...\n",
       "5        As investors, we look for things that generat...\n",
       "6        This paper evaluates the extent to which cryp...\n",
       "7        It aims to assess the potential future value ...\n",
       "8        By design, it does not dwell on the significa...\n",
       "9        These risks are very real, and are well docum...\n",
       "10       Temporarily setting them aside allows for an ...\n",
       "11      , I write not from the perspective of a trader...\n",
       "12       The paper thus focuses entirely on long-term ...\n",
       "13       It also assumes the reader has some familiari...\n",
       "14      , Blockchain technology has the potential to d...\n",
       "15       The open-source nature of public blockchain p...\n",
       "16       While tens or perhaps hundreds of billions of...\n",
       "17       The one key exception is the potential for a ...\n",
       "18       While also risky, this potential value and th...\n",
       "19                             , Read the full paper here\n",
       "20      , From a quick cheer to a standing ovation, cl...\n",
       "21                 , John is an entrepreneur and investor\n",
       "22                 , John is an entrepreneur and investor\n",
       "23      , Is it really going to be Bitcoin though?, Cr...\n",
       "24      , Hi Wogan, Let me start with some general tho...\n",
       "25       First of all, when we invest we are always de...\n",
       "26       Framing the debate as what will or won’t happ...\n",
       "27       Rather, you try to push back the shadows of u...\n",
       "28       What I don’t seem to understand, however, is ...\n",
       "29      com/@cburniske/cryptoasset-valuations-ac83479f...\n",
       "                              ...                        \n",
       "1343    ”INDIA: Not AllowedIndia’s central bank is opp...\n",
       "1344     Nevertheless, the Reserve Bank of India has a...\n",
       "1345     Currently, the use of cryptocurrencies is a v...\n",
       "1346    SINGAPORE: Official WarningCharacterised — som...\n",
       "1347     The city-state’s monetary authority said in a...\n",
       "1348     Buyers should be aware “they run the risk of ...\n",
       "1349    ”BRAZIL: Support InnovationThe Banco Central d...\n",
       "1350     The central bank pledged “to support financia...\n",
       "1351    ”CANADA: Asset-LikeCarolyn Wilkins, the Bank o...\n",
       "1352     “This is really an asset, or a security, and ...\n",
       "1353     Like others, she viewed distributed-ledger te...\n",
       "1354     BOC staff are also exploring the circumstance...\n",
       "1355    SOUTH KOREA: Crime WatchAuthorities in South K...\n",
       "1356     While the government continues to weigh legis...\n",
       "1357     South Korea is set to begin a real-name accou...\n",
       "1358     Bank of Korea Deputy Governor Shin Hosoon sai...\n",
       "1359     So many Koreans have embraced Bitcoin that th...\n",
       "1360    RUSSIA: ‘Pyramid Schemes’Russia’s central bank...\n",
       "1361    ” For the moment, the Bank of Russia prefers t...\n",
       "1362    AUSTRALIA: Speculative ManiaAustralia’s centra...\n",
       "1363     “The current fascination feels more like a sp...\n",
       "1364    TURKEY: Important ElementDigital currencies ma...\n",
       "1365     But they do pose new risks to central banks, ...\n",
       "1366     Even so, the Turkish central banker said cryp...\n",
       "1367    Bank for international settlements: Can’t Igno...\n",
       "1368     “Bitcoin has gone from being an obscure curio...\n",
       "1369     One option is a currency available to the pub...\n",
       "1370     There might be a greater risk of bank runs, h...\n",
       "1371                      Privacy could also be a concern\n",
       "1372                                                    ]\n",
       "Length: 1373, dtype: object"
      ]
     },
     "execution_count": 94,
     "metadata": {},
     "output_type": "execute_result"
    }
   ],
   "source": [
    "words.replace('\"', '')"
   ]
  },
  {
   "cell_type": "code",
   "execution_count": 97,
   "metadata": {},
   "outputs": [],
   "source": [
    "\n",
    "from nltk.corpus import stopwords\n",
    "from nltk.tokenize import RegexpTokenizer\n",
    "from stop_words import get_stop_words\n",
    "from nltk.stem.porter import PorterStemmer\n",
    "from nltk.stem.wordnet import WordNetLemmatizer\n",
    "import string\n",
    "import random\n",
    "import gensim\n",
    "from gensim import corpora\n",
    "from gensim.corpora import Dictionary\n",
    "import pandas as pd\n",
    "import re"
   ]
  },
  {
   "cell_type": "code",
   "execution_count": 117,
   "metadata": {},
   "outputs": [],
   "source": [
    "\n",
    "tokenizer = RegexpTokenizer(r'\\w+')\n",
    "\n",
    "# create English stop words list\n",
    "#en_stop = get_stop_words('en')\n",
    "stop = set(stopwords.words('english'))\n",
    "lemma = WordNetLemmatizer()\n",
    "# list for tokenized documents in loop\n",
    "texts = []  \n",
    "# clean and tokenize document string\n",
    "raw = text.lower()\n",
    "raw = cleanhtml(raw)\n",
    "tokens = tokenizer.tokenize(raw)\n",
    "\n",
    "    # remove stop words from tokens\n",
    "    #stopped_tokens = [i for i in tokens if not i in en_stop]\n",
    "stopped_tokens = [i for i in tokens if not i in stop]\n",
    "    \n",
    "    # stem tokens\n",
    "stemmed_tokens = [lemma.lemmatize(i) for i in stopped_tokens]\n",
    "    \n",
    "    #remove single letters\n",
    "    #stemmed_tokens = [w for w in stemmed_tokens if re.sub('(\\\\b[A-Za-z] \\\\b|\\\\b [A-Za-z]\\\\b)','',stemmed_tokens)]\n",
    "    \n",
    "    #remove number\n",
    "    #stemmed_tokens = [w for w in stemmed_tokens if re.sub(r'\\d+',stemmed_tokens)]\n",
    "    \n",
    "    \n",
    "    # add tokens to list\n",
    "texts.append(stemmed_tokens)\n",
    "\n",
    "# turn our tokenized documents into a id <-> term dictionary\n",
    "dictionary = corpora.Dictionary(texts)\n",
    "    \n",
    "# convert tokenized documents into a document-term matrix\n",
    "doc_term_matrix = [dictionary.doc2bow(text) for text in texts]"
   ]
  },
  {
   "cell_type": "code",
   "execution_count": 56,
   "metadata": {
    "collapsed": true
   },
   "outputs": [],
   "source": [
    "##textblob"
   ]
  },
  {
   "cell_type": "code",
   "execution_count": 108,
   "metadata": {
    "collapsed": true
   },
   "outputs": [],
   "source": [
    "from textblob import TextBlob\n",
    "text = str(text)"
   ]
  },
  {
   "cell_type": "code",
   "execution_count": 110,
   "metadata": {
    "scrolled": true
   },
   "outputs": [],
   "source": [
    "test1 = cleanhtml(text)\n",
    "test1 = TextBlob(test1)\n"
   ]
  },
  {
   "cell_type": "code",
   "execution_count": 111,
   "metadata": {},
   "outputs": [
    {
     "name": "stdout",
     "output_type": "stream",
     "text": [
      "[nltk_data] Downloading package averaged_perceptron_tagger to\n",
      "[nltk_data]     C:\\Users\\Vineet\\AppData\\Roaming\\nltk_data...\n",
      "[nltk_data]   Package averaged_perceptron_tagger is already up-to-\n",
      "[nltk_data]       date!\n"
     ]
    },
    {
     "data": {
      "text/plain": [
       "True"
      ]
     },
     "execution_count": 111,
     "metadata": {},
     "output_type": "execute_result"
    }
   ],
   "source": [
    "import nltk\n",
    "nltk.download('averaged_perceptron_tagger')"
   ]
  },
  {
   "cell_type": "code",
   "execution_count": 112,
   "metadata": {},
   "outputs": [
    {
     "name": "stdout",
     "output_type": "stream",
     "text": [
      "[('[', 'RB'), ('1', 'CD'), ('Source', 'NN'), ('for', 'IN'), ('News', 'NNP'), ('Research', 'NNP'), ('and', 'CC'), ('Analysis', 'NNP'), ('on', 'IN')]\n"
     ]
    }
   ],
   "source": [
    "# POSTagging with the blob\n",
    "tags_list = test1.tags  # penn treebank style tags\n",
    "print(tags_list[:9])"
   ]
  },
  {
   "cell_type": "code",
   "execution_count": 113,
   "metadata": {},
   "outputs": [
    {
     "name": "stdout",
     "output_type": "stream",
     "text": [
      "['[ #', 'source', 'analysis', 'cryptocurrency', 'cryptocurrency', 'digital currency', 'standard currency', 'central banks', 'cryptocurrency', 'regular physical currencies', 'different purposes', 'money transactions', 'bitcoin', 'de-facto crypto', 'bitcoin.', 'digital currency', 'cryptographic technology', 'blockchain technology', 'real money', 'bank account', 'vice versa.', 'doesn ’ t', 'physical tangible form', '’ s', 'currency ’ s', '’ s', '’ t touch', 'different forms', 'bitcoins', 'bitcoins', 'knowing', 'big reason', '“ shitcoins ”', 'good use-cases', 'privacy coins', 'chain cryptos', 'chain operations', 'everyday currencies', 'digital currency', 'business owner', 'specific crypto', '’ re buying', 'long term', 'bitcoin', 'significant reception', 'major drawback', 'high political restriction', 'russia', 'china', 'bitcoins', 'outstanding rate.', 'singapore', 'switzerland', 'clearly', 'positive aspects outshine', '’ s ascension', 'untraceable transactions', 'your', 'email address', 'required', 'comment', 'name', 'email', 'website', 'save']\n"
     ]
    }
   ],
   "source": [
    "# noun phrase extraction\n",
    "np_list = test1.noun_phrases  \n",
    "print(np_list)"
   ]
  },
  {
   "cell_type": "code",
   "execution_count": 114,
   "metadata": {},
   "outputs": [
    {
     "name": "stdout",
     "output_type": "stream",
     "text": [
      "Sentiment(polarity=0.09889039613354683, subjectivity=0.45377197003909336)\n",
      "\n",
      "\n"
     ]
    }
   ],
   "source": [
    "# Sentiment-an with textblob\n",
    "## yields polarity between (-1,1) & a measure of subjectivity (0 to 1)\n",
    "test1.sentiment  # subjectivity = 0 means fully objective sentence.\n",
    "print(test1.sentiment)\n",
    "print(\"\\n\")\n",
    "for sentence in test1.sentences:\n",
    "    x = sentence.sentiment"
   ]
  }
 ],
 "metadata": {
  "kernelspec": {
   "display_name": "Python 3",
   "language": "python",
   "name": "python3"
  },
  "language_info": {
   "codemirror_mode": {
    "name": "ipython",
    "version": 3
   },
   "file_extension": ".py",
   "mimetype": "text/x-python",
   "name": "python",
   "nbconvert_exporter": "python",
   "pygments_lexer": "ipython3",
   "version": "3.6.1"
  }
 },
 "nbformat": 4,
 "nbformat_minor": 2
}
