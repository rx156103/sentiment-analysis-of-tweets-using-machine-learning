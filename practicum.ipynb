{
 "cells": [
  {
   "cell_type": "code",
   "execution_count": 2,
   "metadata": {
    "collapsed": true
   },
   "outputs": [],
   "source": [
    "import tweepy                                # twitter api\n",
    "import pandas as pd                          # data analysis (dataframes, read file)\n",
    "import numpy as np                           # arrays and linear algebra\n",
    "from IPython.display import display          # print output in tabular format\n",
    "import matplotlib.pyplot as plt              # for 2D plotting\n",
    "%matplotlib inline          "
   ]
  },
  {
   "cell_type": "code",
   "execution_count": 3,
   "metadata": {
    "collapsed": true
   },
   "outputs": [],
   "source": [
    "consumerkey       = 'e2zbHdO72bF3KKXPJ8kIJ8P3C'  #You have to get your own keys.\n",
    "consumersecret    = 'fjb2L0jdDzeJxvodDsEQs7UVYDJty5eWfwtIDTcMk8tZ8SyBcd'\n",
    "accesstoken       = '990292047885094912-KM2rqEfWgVPTXm8K3q12FY6aaYGklTG'\n",
    "accesstokensecret = 'jbCJiQwCR3Bg0vGYDZvpjERxqnSMhT14v584hWtJiEb6X'"
   ]
  },
  {
   "cell_type": "code",
   "execution_count": 4,
   "metadata": {
    "collapsed": true
   },
   "outputs": [],
   "source": [
    "## Function to establish connection with twitter\n",
    "\n",
    "def info_extraction(): \n",
    "    oauth = tweepy.OAuthHandler(consumerkey, consumersecret)  # passing consumerkey and consumersecret as paramaters to OAuthHandler attribute\n",
    "    oauth.set_access_token(accesstoken, accesstokensecret)    # passing accesstoken and accesstokensecret as parameters to set_access_token\n",
    "    connection = tweepy.API(oauth)                            # establishing connection using all the credentials\n",
    "    return connection                                         # returning the connection back to the function\n",
    "\n"
   ]
  },
  {
   "cell_type": "code",
   "execution_count": 4,
   "metadata": {
    "collapsed": true
   },
   "outputs": [],
   "source": [
    "#list1 = ('Bitcoin','CryptoBoomNews','crypto_goat_','BitcoinCash','ethereum','Ripple')\n",
    "#list1 = list(list1)"
   ]
  },
  {
   "cell_type": "code",
   "execution_count": 5,
   "metadata": {
    "scrolled": true
   },
   "outputs": [],
   "source": [
    "## Retrieving Tweets\n",
    "\n",
    "# Tweets can be retrieved by passing required parameters\n",
    "#screen_name=The name of the user for whom to return results.\n",
    "#count=specifies the number of tweets that we require.\n",
    "#since_id=returns id greater than from that which we're retrieving tweets from that tweet_id\n",
    "#max_id=returns id less than that or equal to that id\n",
    "for i in range(0,len(list1)):\n",
    "    connection = info_extraction()                                                 # Calling the funtion from where we have got the connection#tweets = connection.user_timeline(screen_name=\"actionhappiness\", count=100)    # returns collection of tweets indicated by required params\n",
    "    tweets = connection.user_timeline(screen_name= list1[i], count=100)    # returns collection of tweets indicated by required params\n",
    "    data = pd.DataFrame(data=[tweet.text for tweet in tweets], columns=['Tweets']) \n",
    "    data['len']  = np.array([len(tweet.text) for tweet in tweets])      \n",
    "    data['Date'] = np.array([tweet.created_at for tweet in tweets])     \n",
    "    data['Likes']= np.array([tweet.favorite_count for tweet in tweets])\n",
    "    data['RTs']= np.array([tweet.retweet_count for tweet in tweets])\n",
    "    data.to_csv('file'+str(i)+'.csv')\n",
    "        "
   ]
  },
  {
   "cell_type": "code",
   "execution_count": 5,
   "metadata": {
    "collapsed": true
   },
   "outputs": [
    {
     "name": "stdout",
     "output_type": "stream",
     "text": [
      "Number of tweets that are extracted: 200\n",
      "\n",
      "10 recent tweets:\n",
      "\n",
      "@BCHcain @imkeshav @r0bbot @CoinText @BitcoinCom @YoursOrg $10 @tipprbot\n",
      "@SasaJesic @CoinText @BitcoinCom @YoursOrg Nope, those are on-chain transactions. You can do the exact same demo yourself to verify.\n",
      "Filipinos can now easily access Bitcoin Cash—https://t.co/3oT3Su1qri adds BCH support to their wallet\n",
      "\n",
      "https://t.co/33yE0AyjsB\n",
      "@Lone_Wanderer87 @CoinText @BitcoinCom @YoursOrg Average transaction fee on BCH is $0.001\n",
      "Cool demonstration of how quick &amp; easy it is to use #BitcoinCash. In this video BCH is sent from a @CoinText wallet… https://t.co/wGt7zR3WAM\n",
      "Current fees on the BTC network are 11,414x higher than fees on the BCH network. https://t.co/aRRTuIHoTS\n",
      "@ovrclockedjesus Well for starters, it's a Twitter account, not a cryptocurrency.\n",
      "@C__Freire Just posting some data.\n",
      "There is only a 1% chance of successfully routing a $67 payment on the lightning network\n",
      "\n",
      "https://t.co/GOkxta41Fl https://t.co/Zqrevb09aA\n",
      "Chainbet Protocol Adds Trustless Multiplayer Bets, Auctions, and Dice Rolls #BitcoinCash\n",
      "\n",
      "https://t.co/LCz5GNtVUL\n"
     ]
    }
   ],
   "source": [
    "## Retrieving Tweets\n",
    "\n",
    "# Tweets can be retrieved by passing required parameters\n",
    "#screen_name=The name of the user for whom to return results.\n",
    "#count=specifies the number of tweets that we require.\n",
    "#since_id=returns id greater than from that which we're retrieving tweets from that tweet_id\n",
    "#max_id=returns id less than that or equal to that id\n",
    "\n",
    "connection = info_extraction()                                                 # Calling the funtion from where we have got the connection\n",
    "#tweets = connection.user_timeline(screen_name=\"actionhappiness\", count=100)    # returns collection of tweets indicated by required params\n",
    "tweets = connection.user_timeline(screen_name=\"Bitcoin\", count=500)    # returns collection of tweets indicated by required params\n",
    "\n",
    "#dir(tweets[1])   #Lists attributes of the first tweet object   \n",
    "\n",
    "print(\"Number of tweets that are extracted: {}\\n\".format(len(tweets))) \n",
    "print(\"10 recent tweets:\\n\")\n",
    "for x in tweets[:10]:\n",
    "    print(x.text)                                                              # .text is for getting plain text "
   ]
  },
  {
   "cell_type": "code",
   "execution_count": 6,
   "metadata": {},
   "outputs": [
    {
     "name": "stdout",
     "output_type": "stream",
     "text": [
      "                                              Tweets\n",
      "0  @BCHcain @imkeshav @r0bbot @CoinText @BitcoinC...\n",
      "1  @SasaJesic @CoinText @BitcoinCom @YoursOrg Nop...\n",
      "2  Filipinos can now easily access Bitcoin Cash—h...\n",
      "3  @Lone_Wanderer87 @CoinText @BitcoinCom @YoursO...\n",
      "4  Cool demonstration of how quick &amp; easy it ...\n",
      "5  Current fees on the BTC network are 11,414x hi...\n",
      "6  @ovrclockedjesus Well for starters, it's a Twi...\n",
      "7                 @C__Freire Just posting some data.\n",
      "8  There is only a 1% chance of successfully rout...\n",
      "9  Chainbet Protocol Adds Trustless Multiplayer B...\n"
     ]
    }
   ],
   "source": [
    "data = pd.DataFrame(data=[tweet.text for tweet in tweets], columns=['Tweets']) \n",
    "print(data.head(10))"
   ]
  },
  {
   "cell_type": "code",
   "execution_count": 17,
   "metadata": {
    "collapsed": true
   },
   "outputs": [],
   "source": [
    "\n",
    "data['len']  = np.array([len(tweet.text) for tweet in tweets])      \n",
    "data['Date'] = np.array([tweet.created_at for tweet in tweets])     \n",
    "data['Likes']= np.array([tweet.favorite_count for tweet in tweets])\n",
    "data['RTs']= np.array([tweet.retweet_count for tweet in tweets])\n",
    "data['User']=np.array([tweet.user for tweet in tweets])"
   ]
  },
  {
   "cell_type": "code",
   "execution_count": 18,
   "metadata": {},
   "outputs": [
    {
     "data": {
      "text/html": [
       "<div>\n",
       "<style>\n",
       "    .dataframe thead tr:only-child th {\n",
       "        text-align: right;\n",
       "    }\n",
       "\n",
       "    .dataframe thead th {\n",
       "        text-align: left;\n",
       "    }\n",
       "\n",
       "    .dataframe tbody tr th {\n",
       "        vertical-align: top;\n",
       "    }\n",
       "</style>\n",
       "<table border=\"1\" class=\"dataframe\">\n",
       "  <thead>\n",
       "    <tr style=\"text-align: right;\">\n",
       "      <th></th>\n",
       "      <th>Tweets</th>\n",
       "      <th>len</th>\n",
       "      <th>Date</th>\n",
       "      <th>Likes</th>\n",
       "      <th>RTs</th>\n",
       "      <th>User</th>\n",
       "      <th>Sentiment</th>\n",
       "    </tr>\n",
       "  </thead>\n",
       "  <tbody>\n",
       "    <tr>\n",
       "      <th>1</th>\n",
       "      <td>@SasaJesic @CoinText @BitcoinCom @YoursOrg Nop...</td>\n",
       "      <td>132</td>\n",
       "      <td>2018-06-22 08:09:51</td>\n",
       "      <td>7</td>\n",
       "      <td>2</td>\n",
       "      <td>User(_api=&lt;tweepy.api.API object at 0x00000000...</td>\n",
       "      <td>1</td>\n",
       "    </tr>\n",
       "    <tr>\n",
       "      <th>2</th>\n",
       "      <td>Filipinos can now easily access Bitcoin Cash—h...</td>\n",
       "      <td>126</td>\n",
       "      <td>2018-06-22 04:52:00</td>\n",
       "      <td>231</td>\n",
       "      <td>72</td>\n",
       "      <td>User(_api=&lt;tweepy.api.API object at 0x00000000...</td>\n",
       "      <td>1</td>\n",
       "    </tr>\n",
       "    <tr>\n",
       "      <th>3</th>\n",
       "      <td>@Lone_Wanderer87 @CoinText @BitcoinCom @YoursO...</td>\n",
       "      <td>89</td>\n",
       "      <td>2018-06-22 04:41:40</td>\n",
       "      <td>5</td>\n",
       "      <td>2</td>\n",
       "      <td>User(_api=&lt;tweepy.api.API object at 0x00000000...</td>\n",
       "      <td>-1</td>\n",
       "    </tr>\n",
       "    <tr>\n",
       "      <th>4</th>\n",
       "      <td>Cool demonstration of how quick &amp;amp; easy it ...</td>\n",
       "      <td>144</td>\n",
       "      <td>2018-06-22 03:31:19</td>\n",
       "      <td>314</td>\n",
       "      <td>132</td>\n",
       "      <td>User(_api=&lt;tweepy.api.API object at 0x00000000...</td>\n",
       "      <td>1</td>\n",
       "    </tr>\n",
       "  </tbody>\n",
       "</table>\n",
       "</div>"
      ],
      "text/plain": [
       "                                              Tweets  len                Date  \\\n",
       "1  @SasaJesic @CoinText @BitcoinCom @YoursOrg Nop...  132 2018-06-22 08:09:51   \n",
       "2  Filipinos can now easily access Bitcoin Cash—h...  126 2018-06-22 04:52:00   \n",
       "3  @Lone_Wanderer87 @CoinText @BitcoinCom @YoursO...   89 2018-06-22 04:41:40   \n",
       "4  Cool demonstration of how quick &amp; easy it ...  144 2018-06-22 03:31:19   \n",
       "\n",
       "   Likes  RTs                                               User  Sentiment  \n",
       "1      7    2  User(_api=<tweepy.api.API object at 0x00000000...          1  \n",
       "2    231   72  User(_api=<tweepy.api.API object at 0x00000000...          1  \n",
       "3      5    2  User(_api=<tweepy.api.API object at 0x00000000...         -1  \n",
       "4    314  132  User(_api=<tweepy.api.API object at 0x00000000...          1  "
      ]
     },
     "metadata": {},
     "output_type": "display_data"
    }
   ],
   "source": [
    "display(data[1:5]) \n"
   ]
  },
  {
   "cell_type": "code",
   "execution_count": null,
   "metadata": {
    "collapsed": true
   },
   "outputs": [],
   "source": []
  },
  {
   "cell_type": "code",
   "execution_count": 6,
   "metadata": {},
   "outputs": [
    {
     "name": "stdout",
     "output_type": "stream",
     "text": [
      "Number of tweets that are extracted: 100\n",
      "\n",
      "10 recent tweets:\n",
      "\n",
      "I'm grateful to the people of K'taka for reposing faith in BJP and I'm indebted to the Karyarkartas &amp; leaders who w… https://t.co/ZHUK6B2aKv\n",
      "ಬಿಜೆಪಿ ಬೆಂಬಲಿಸಿದ ನಾಡಿನ ಜನತೆಗೆ ನಾನು ಆಭಾರಿ. ಅತಿ ದೊಡ್ಡ ಪಕ್ಷವಾಗಿ ಹೊರಹೊಮ್ಮಲು ಶ್ರಮಿಸಿದ ಕಾರ್ಯಕರ್ತರಿಗೆ ಕೃತಜ್ಞತೆಗಳು. ಪ್ರಧಾನಿ… https://t.co/VUP7prDtLs\n"
     ]
    }
   ],
   "source": [
    "## Retrieving Tweets\n",
    "\n",
    "# Tweets can be retrieved by passing required parameters\n",
    "#screen_name=The name of the user for whom to return results.\n",
    "#count=specifies the number of tweets that we require.\n",
    "#since_id=returns id greater than from that which we're retrieving tweets from that tweet_id\n",
    "#max_id=returns id less than that or equal to that id\n",
    "#for i in range(0,len(list1)):\n",
    "    #connection = info_extraction()                                                 # Calling the funtion from where we have got the connection#tweets = connection.user_timeline(screen_name=\"actionhappiness\", count=100)    # returns collection of tweets indicated by required params\n",
    "    #tweets = connection.user_timeline(screen_name= list1[i], count=100)    # returns collection of tweets indicated by required params\n",
    "    #data = pd.DataFrame(data=[tweet.text for tweet in tweets], columns=['Tweets']) \n",
    "    #data['len']  = np.array([len(tweet.text) for tweet in tweets])      \n",
    "    #data['Date'] = np.array([tweet.created_at for tweet in tweets])     \n",
    "    #data['Likes']= np.array([tweet.favorite_count for tweet in tweets])\n",
    "    #data['RTs']= np.array([tweet.retweet_count for tweet in tweets])\n",
    "    #data.to_csv('file'+str(i)+'.csv')\n",
    "    \n",
    "#dir(tweets[1])   #Lists attributes of the first tweet object   \n",
    "#print(\"Number of tweets that are extracted: {}\\n\".format(len(tweets))) \n",
    "#print(\"10 recent tweets:\\n\")\n",
    "#for x in tweets[:2]:\n",
    "    #print(x.text)    "
   ]
  },
  {
   "cell_type": "code",
   "execution_count": 11,
   "metadata": {
    "collapsed": true
   },
   "outputs": [],
   "source": [
    "## Clean and Sentiment Analysis the Tweet\n",
    "\n",
    "from textblob import TextBlob                    # library for processing textual data          \n",
    "import re\n",
    "\n",
    "def clean_tweet(tweet):\n",
    "    return ' '.join(re.sub(\"(@[A-Za-z0-9]+)|([^0-9A-Za-z \\t])|(\\w+:\\/\\/\\S+)\", \" \", tweet).split())\n",
    "    #We're returning the tweet which is cleaned(after replacin' the above pattern to null which means deleting)\n",
    "\n",
    "\n",
    "def get_polarity(tweet):                         # here we're getting the polarity of each tweet after analysing it\n",
    "    analysis = TextBlob(clean_tweet(tweet))\n",
    "    if analysis.sentiment.polarity > 0:          #polarity tells whether the tweet is postive or negative or neutral\n",
    "        return 1\n",
    "    elif analysis.sentiment.polarity == 0:\n",
    "        return 0\n",
    "    else:\n",
    "        return -1"
   ]
  },
  {
   "cell_type": "code",
   "execution_count": 12,
   "metadata": {
    "collapsed": true
   },
   "outputs": [],
   "source": [
    "data['Sentiment'] = np.array([ get_polarity(tweet) for tweet in data['Tweets'] ])"
   ]
  },
  {
   "cell_type": "code",
   "execution_count": 13,
   "metadata": {},
   "outputs": [
    {
     "name": "stdout",
     "output_type": "stream",
     "text": [
      "                                              Tweets  len                Date  \\\n",
      "0  @BCHcain @imkeshav @r0bbot @CoinText @BitcoinC...   72 2018-06-22 08:10:07   \n",
      "1  @SasaJesic @CoinText @BitcoinCom @YoursOrg Nop...  132 2018-06-22 08:09:51   \n",
      "2  Filipinos can now easily access Bitcoin Cash—h...  126 2018-06-22 04:52:00   \n",
      "3  @Lone_Wanderer87 @CoinText @BitcoinCom @YoursO...   89 2018-06-22 04:41:40   \n",
      "4  Cool demonstration of how quick &amp; easy it ...  144 2018-06-22 03:31:19   \n",
      "5  Current fees on the BTC network are 11,414x hi...  104 2018-06-21 06:05:02   \n",
      "6  @ovrclockedjesus Well for starters, it's a Twi...   81 2018-06-21 04:29:31   \n",
      "7                 @C__Freire Just posting some data.   34 2018-06-21 04:29:08   \n",
      "8  There is only a 1% chance of successfully rout...  137 2018-06-21 04:22:41   \n",
      "9  Chainbet Protocol Adds Trustless Multiplayer B...  113 2018-06-19 07:19:55   \n",
      "\n",
      "   Likes  RTs                                               User  Sentiment  \n",
      "0      9    1  User(_api=<tweepy.api.API object at 0x00000000...          0  \n",
      "1      7    2  User(_api=<tweepy.api.API object at 0x00000000...          1  \n",
      "2    231   72  User(_api=<tweepy.api.API object at 0x00000000...          1  \n",
      "3      5    2  User(_api=<tweepy.api.API object at 0x00000000...         -1  \n",
      "4    314  132  User(_api=<tweepy.api.API object at 0x00000000...          1  \n",
      "5    424  182  User(_api=<tweepy.api.API object at 0x00000000...          1  \n",
      "6     71    4  User(_api=<tweepy.api.API object at 0x00000000...          0  \n",
      "7     18    2  User(_api=<tweepy.api.API object at 0x00000000...          0  \n",
      "8    225   94  User(_api=<tweepy.api.API object at 0x00000000...          1  \n",
      "9    103   51  User(_api=<tweepy.api.API object at 0x00000000...          0  \n"
     ]
    }
   ],
   "source": [
    "## Print top 10 tweets and notice Sentiment field added at the end of each record\n",
    "print(data.head(10))"
   ]
  },
  {
   "cell_type": "code",
   "execution_count": 14,
   "metadata": {},
   "outputs": [],
   "source": [
    "## Classifying the tweets\n",
    "\n",
    "positive_tweets = [ tweet for index, tweet in enumerate(data['Tweets']) if data['Sentiment'][index] > 0]\n",
    "neutral_tweets = [ tweet for index, tweet in enumerate(data['Tweets']) if data['Sentiment'][index] == 0]\n",
    "negative_tweets = [ tweet for index, tweet in enumerate(data['Tweets']) if data['Sentiment'][index] < 0]      \n",
    "\n",
    "positive_data = pd.DataFrame (data = [ tweet for index, tweet in enumerate(data['Tweets']) if data['Sentiment'][index] > 0])\n",
    "neutral_data = [ tweet for index, tweet in enumerate(data['Tweets']) if data['Sentiment'][index] == 0]\n",
    "negative_data = [ tweet for index, tweet in enumerate(data['Tweets']) if data['Sentiment'][index] < 0]      "
   ]
  },
  {
   "cell_type": "code",
   "execution_count": 15,
   "metadata": {
    "collapsed": true
   },
   "outputs": [
    {
     "data": {
      "image/png": "[encoded data removed]",
      "text/plain": [
       "<matplotlib.figure.Figure at 0xcea41d0>"
      ]
     },
     "metadata": {},
     "output_type": "display_data"
    }
   ],
   "source": [
    "colors = ['green', 'red', 'grey']\n",
    "sizes = [len(positive_tweets), len(negative_tweets), len(neutral_tweets)]\n",
    "labels = 'Positive', 'Negative', 'Neutral'\n",
    "\n",
    "plt.pie(\n",
    "   x=sizes,\n",
    "   shadow=True,\n",
    "   colors=colors,\n",
    "   labels=labels,\n",
    "   startangle=90\n",
    ")\n",
    "\n",
    "#plt.title(\"Sentiment of {} Tweets about {}\".format(number, query))\n",
    "plt.show()"
   ]
  },
  {
   "cell_type": "code",
   "execution_count": 16,
   "metadata": {},
   "outputs": [
    {
     "data": {
      "image/png": "[encoded data removed]",
      "text/plain": [
       "<matplotlib.figure.Figure at 0xcea48d0>"
      ]
     },
     "metadata": {},
     "output_type": "display_data"
    }
   ],
   "source": [
    "data.plot(x='Date',y='Sentiment',style='x')\n",
    "plt.show()"
   ]
  },
  {
   "cell_type": "code",
   "execution_count": null,
   "metadata": {
    "collapsed": true
   },
   "outputs": [],
   "source": []
  },
  {
   "cell_type": "code",
   "execution_count": null,
   "metadata": {
    "collapsed": true
   },
   "outputs": [],
   "source": []
  },
  {
   "cell_type": "code",
   "execution_count": null,
   "metadata": {
    "collapsed": true
   },
   "outputs": [],
   "source": []
  },
  {
   "cell_type": "code",
   "execution_count": null,
   "metadata": {
    "collapsed": true
   },
   "outputs": [],
   "source": []
  },
  {
   "cell_type": "code",
   "execution_count": null,
   "metadata": {
    "collapsed": true
   },
   "outputs": [],
   "source": []
  },
  {
   "cell_type": "code",
   "execution_count": null,
   "metadata": {
    "collapsed": true
   },
   "outputs": [],
   "source": []
  },
  {
   "cell_type": "code",
   "execution_count": null,
   "metadata": {
    "collapsed": true
   },
   "outputs": [],
   "source": []
  },
  {
   "cell_type": "code",
   "execution_count": null,
   "metadata": {
    "collapsed": true
   },
   "outputs": [],
   "source": []
  },
  {
   "cell_type": "code",
   "execution_count": null,
   "metadata": {
    "collapsed": true
   },
   "outputs": [],
   "source": []
  },
  {
   "cell_type": "code",
   "execution_count": null,
   "metadata": {
    "collapsed": true
   },
   "outputs": [],
   "source": []
  },
  {
   "cell_type": "code",
   "execution_count": null,
   "metadata": {
    "collapsed": true
   },
   "outputs": [],
   "source": []
  },
  {
   "cell_type": "code",
   "execution_count": null,
   "metadata": {
    "collapsed": true
   },
   "outputs": [],
   "source": []
  },
  {
   "cell_type": "code",
   "execution_count": null,
   "metadata": {
    "collapsed": true
   },
   "outputs": [],
   "source": []
  },
  {
   "cell_type": "code",
   "execution_count": null,
   "metadata": {
    "collapsed": true
   },
   "outputs": [],
   "source": []
  },
  {
   "cell_type": "code",
   "execution_count": null,
   "metadata": {
    "collapsed": true
   },
   "outputs": [],
   "source": []
  },
  {
   "cell_type": "code",
   "execution_count": null,
   "metadata": {
    "collapsed": true
   },
   "outputs": [],
   "source": []
  },
  {
   "cell_type": "code",
   "execution_count": null,
   "metadata": {
    "collapsed": true
   },
   "outputs": [],
   "source": []
  },
  {
   "cell_type": "code",
   "execution_count": null,
   "metadata": {
    "collapsed": true
   },
   "outputs": [],
   "source": []
  }
 ],
 "metadata": {
  "kernelspec": {
   "display_name": "Python 3",
   "language": "python",
   "name": "python3"
  },
  "language_info": {
   "codemirror_mode": {
    "name": "ipython",
    "version": 3
   },
   "file_extension": ".py",
   "mimetype": "text/x-python",
   "name": "python",
   "nbconvert_exporter": "python",
   "pygments_lexer": "ipython3",
   "version": "3.6.1"
  }
 },
 "nbformat": 4,
 "nbformat_minor": 2
}
