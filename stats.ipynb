{
 "cells": [
  {
   "cell_type": "code",
   "execution_count": 1,
   "metadata": {},
   "outputs": [],
   "source": [
    "import requests  # An elegant and simple HTTP library\n",
    "import bs4 as bs # for pulling data out of HTML and XML files\n",
    "import pandas as pd\n",
    "import numpy as np\n",
    "import re\n",
    "import datetime\n",
    "import matplotlib.pyplot as plt\n",
    "import seaborn as sns\n",
    "from scipy.stats import norm\n",
    "from scipy import stats\n",
    "import warnings\n",
    "warnings.filterwarnings('ignore')\n",
    "%matplotlib inline"
   ]
  },
  {
   "cell_type": "code",
   "execution_count": 2,
   "metadata": {},
   "outputs": [],
   "source": [
    "from IPython.core.interactiveshell import InteractiveShell\n",
    "InteractiveShell.ast_node_interactivity = \"all\""
   ]
  },
  {
   "cell_type": "code",
   "execution_count": 18,
   "metadata": {},
   "outputs": [],
   "source": [
    "def scrapeFro():\n",
    "    url = (\"https://coinmarketcap.com/all/views/all/\")\n",
    "    r  = requests.get(url)\n",
    "    r.status_code\n",
    "    data = r.content\n",
    "    soup = bs.BeautifulSoup(data, 'html.parser')\n",
    "\n",
    "#print(soup.prettify())\n",
    "\n",
    "    table = soup.table\n",
    "    table_rows = table.find_all('tr')\n",
    "    #print(table_rows)\n",
    "\n",
    "    count = 0\n",
    "    l = []\n",
    "    for tr in table_rows:\n",
    "        count += 1\n",
    "        if count > 1:\n",
    "            td = tr.find_all('td')\n",
    "            row = [i.text.strip() for i in td]\n",
    "            l.append(row)\n",
    "    return l"
   ]
  },
  {
   "cell_type": "code",
   "execution_count": 19,
   "metadata": {},
   "outputs": [],
   "source": [
    "crytocoins = scrapeFro()"
   ]
  },
  {
   "cell_type": "code",
   "execution_count": 20,
   "metadata": {},
   "outputs": [],
   "source": [
    "col = ['no','Name','Symbol','Market_Cap','Price','Circulating_Supply','Volume(24h)','%1h','%24h','%7d','null']"
   ]
  },
  {
   "cell_type": "code",
   "execution_count": 21,
   "metadata": {},
   "outputs": [],
   "source": [
    "df_allcrypto = pd.DataFrame.from_records(crytocoins, columns=col)"
   ]
  },
  {
   "cell_type": "code",
   "execution_count": 22,
   "metadata": {},
   "outputs": [],
   "source": [
    "df_allcrypto = df_allcrypto.drop(df_allcrypto.columns[[0, 10]], axis=1)"
   ]
  },
  {
   "cell_type": "code",
   "execution_count": 25,
   "metadata": {},
   "outputs": [],
   "source": [
    "#df_allcrypto = df_allcrypto.drop(df_allcrypto.columns[9], axis=1)"
   ]
  },
  {
   "cell_type": "code",
   "execution_count": 26,
   "metadata": {},
   "outputs": [],
   "source": [
    "top_100 = df_allcrypto.loc[:100,:]"
   ]
  },
  {
   "cell_type": "code",
   "execution_count": 27,
   "metadata": {},
   "outputs": [
    {
     "data": {
      "text/html": [
       "<div>\n",
       "<style>\n",
       "    .dataframe thead tr:only-child th {\n",
       "        text-align: right;\n",
       "    }\n",
       "\n",
       "    .dataframe thead th {\n",
       "        text-align: left;\n",
       "    }\n",
       "\n",
       "    .dataframe tbody tr th {\n",
       "        vertical-align: top;\n",
       "    }\n",
       "</style>\n",
       "<table border=\"1\" class=\"dataframe\">\n",
       "  <thead>\n",
       "    <tr style=\"text-align: right;\">\n",
       "      <th></th>\n",
       "      <th>Name</th>\n",
       "      <th>Symbol</th>\n",
       "      <th>Market_Cap</th>\n",
       "      <th>Price</th>\n",
       "      <th>Circulating_Supply</th>\n",
       "      <th>Volume(24h)</th>\n",
       "      <th>%1h</th>\n",
       "      <th>%24h</th>\n",
       "      <th>%7d</th>\n",
       "    </tr>\n",
       "  </thead>\n",
       "  <tbody>\n",
       "    <tr>\n",
       "      <th>0</th>\n",
       "      <td>BTC\\n\\nBitcoin</td>\n",
       "      <td>BTC</td>\n",
       "      <td>$105,003,150,026</td>\n",
       "      <td>$6136.74</td>\n",
       "      <td>17,110,575</td>\n",
       "      <td>$4,426,940,000</td>\n",
       "      <td>-0.06%</td>\n",
       "      <td>-1.81%</td>\n",
       "      <td>-5.62%</td>\n",
       "    </tr>\n",
       "    <tr>\n",
       "      <th>1</th>\n",
       "      <td>ETH\\n\\nEthereum</td>\n",
       "      <td>ETH</td>\n",
       "      <td>$47,359,984,824</td>\n",
       "      <td>$472.40</td>\n",
       "      <td>100,254,627</td>\n",
       "      <td>$2,006,070,000</td>\n",
       "      <td>-0.02%</td>\n",
       "      <td>-1.17%</td>\n",
       "      <td>-5.14%</td>\n",
       "    </tr>\n",
       "    <tr>\n",
       "      <th>2</th>\n",
       "      <td>XRP\\n\\nRipple</td>\n",
       "      <td>XRP</td>\n",
       "      <td>$19,126,238,480</td>\n",
       "      <td>$0.487351</td>\n",
       "      <td>39,245,304,677\\n*</td>\n",
       "      <td>$281,566,000</td>\n",
       "      <td>-0.31%</td>\n",
       "      <td>-2.75%</td>\n",
       "      <td>-8.44%</td>\n",
       "    </tr>\n",
       "    <tr>\n",
       "      <th>3</th>\n",
       "      <td>BCH\\n\\nBitcoin Cash</td>\n",
       "      <td>BCH</td>\n",
       "      <td>$13,023,020,115</td>\n",
       "      <td>$757.19</td>\n",
       "      <td>17,199,213</td>\n",
       "      <td>$532,788,000</td>\n",
       "      <td>0.10%</td>\n",
       "      <td>-2.99%</td>\n",
       "      <td>-11.17%</td>\n",
       "    </tr>\n",
       "    <tr>\n",
       "      <th>4</th>\n",
       "      <td>EOS\\n\\nEOS</td>\n",
       "      <td>EOS</td>\n",
       "      <td>$7,428,398,216</td>\n",
       "      <td>$8.29</td>\n",
       "      <td>896,149,492\\n*</td>\n",
       "      <td>$965,080,000</td>\n",
       "      <td>-0.15%</td>\n",
       "      <td>-7.18%</td>\n",
       "      <td>-22.01%</td>\n",
       "    </tr>\n",
       "  </tbody>\n",
       "</table>\n",
       "</div>"
      ],
      "text/plain": [
       "                  Name Symbol        Market_Cap      Price Circulating_Supply  \\\n",
       "0       BTC\\n\\nBitcoin    BTC  $105,003,150,026   $6136.74         17,110,575   \n",
       "1      ETH\\n\\nEthereum    ETH   $47,359,984,824    $472.40        100,254,627   \n",
       "2        XRP\\n\\nRipple    XRP   $19,126,238,480  $0.487351  39,245,304,677\\n*   \n",
       "3  BCH\\n\\nBitcoin Cash    BCH   $13,023,020,115    $757.19         17,199,213   \n",
       "4           EOS\\n\\nEOS    EOS    $7,428,398,216      $8.29     896,149,492\\n*   \n",
       "\n",
       "      Volume(24h)     %1h    %24h      %7d  \n",
       "0  $4,426,940,000  -0.06%  -1.81%   -5.62%  \n",
       "1  $2,006,070,000  -0.02%  -1.17%   -5.14%  \n",
       "2    $281,566,000  -0.31%  -2.75%   -8.44%  \n",
       "3    $532,788,000   0.10%  -2.99%  -11.17%  \n",
       "4    $965,080,000  -0.15%  -7.18%  -22.01%  "
      ]
     },
     "execution_count": 27,
     "metadata": {},
     "output_type": "execute_result"
    }
   ],
   "source": [
    "top_100.head()"
   ]
  },
  {
   "cell_type": "code",
   "execution_count": 28,
   "metadata": {},
   "outputs": [],
   "source": [
    "top_100 = pd.DataFrame(top_100)"
   ]
  },
  {
   "cell_type": "code",
   "execution_count": null,
   "metadata": {},
   "outputs": [],
   "source": []
  },
  {
   "cell_type": "markdown",
   "metadata": {},
   "source": [
    "##Scraping the Historical prices for Bitcoin, Ethereum, Ripple and Bitcoincash"
   ]
  },
  {
   "cell_type": "code",
   "execution_count": 29,
   "metadata": {},
   "outputs": [],
   "source": [
    "def scrapeFrom(topic):\n",
    "    url = (\"https://coinmarketcap.com/currencies\" + topic)\n",
    "    r  = requests.get(url)\n",
    "    r.status_code\n",
    "    data = r.content\n",
    "    soup = bs.BeautifulSoup(data, 'html.parser')\n",
    "\n",
    "#print(soup.prettify())\n",
    "\n",
    "    table = soup.table\n",
    "    table_rows = table.find_all('tr')\n",
    "    #print(table_rows)\n",
    "\n",
    "    count = 0\n",
    "    l = []\n",
    "    for tr in table_rows:\n",
    "        count += 1\n",
    "        if count > 1:\n",
    "            td = tr.find_all('td')\n",
    "            row = [i.text.strip() for i in td]\n",
    "            l.append(row)\n",
    "    return l"
   ]
  },
  {
   "cell_type": "code",
   "execution_count": 30,
   "metadata": {},
   "outputs": [],
   "source": [
    "x1 = scrapeFrom('/bitcoin/historical-data/?start=20130428&end=20180621')\n",
    "x2 = scrapeFrom('/ethereum/historical-data/?start=20130428&end=20180621')\n",
    "x3 = scrapeFrom('/ripple/historical-data/?start=20130428&end=20180621')\n",
    "x4 = scrapeFrom('/bitcoin-cash/historical-data/?start=20130428&end=20180621')\n",
    "#https://coinmarketcap.com/currencies/bitcoin/historical-data/?start=20130428&end=20180621"
   ]
  },
  {
   "cell_type": "code",
   "execution_count": 90,
   "metadata": {},
   "outputs": [
    {
     "data": {
      "text/plain": [
       "['May 22, 2018',\n",
       " '8419.87',\n",
       " '8423.25',\n",
       " '8004.58',\n",
       " '8041.78',\n",
       " '5,137,010,000',\n",
       " '143,534,000,000']"
      ]
     },
     "execution_count": 90,
     "metadata": {},
     "output_type": "execute_result"
    }
   ],
   "source": [
    "x1[29]"
   ]
  },
  {
   "cell_type": "code",
   "execution_count": 31,
   "metadata": {},
   "outputs": [
    {
     "data": {
      "text/plain": [
       "200"
      ]
     },
     "execution_count": 31,
     "metadata": {},
     "output_type": "execute_result"
    },
    {
     "name": "stdout",
     "output_type": "stream",
     "text": [
      "['Date', 'Open*', 'High', 'Low', 'Close**', 'Volume', 'Market Cap']\n"
     ]
    }
   ],
   "source": [
    "url = 'https://coinmarketcap.com/currencies/bitcoin/historical-data/?start=20130428&end=+time.strftime(\"%Y%m%d\"))' #'https://www.marketwatch.com/' \n",
    "r  = requests.get(url)\n",
    "r.status_code\n",
    "data = r.content\n",
    "soup = bs.BeautifulSoup(data, 'html.parser')\n",
    "\n",
    "#print(soup.prettify())\n",
    "\n",
    "table = soup.table\n",
    "table_rows = table.find_all('tr')\n",
    "#print(table_rows)\n",
    "\n",
    "\n",
    "count = 0\n",
    "l1 = []\n",
    "for tr in table_rows:\n",
    "    if count == 0:\n",
    "        th = tr.find_all('th')\n",
    "        row = [i.text.strip() for i in th]\n",
    "        l1.append(row)\n",
    "        print(row)\n",
    "        count += 1"
   ]
  },
  {
   "cell_type": "code",
   "execution_count": 32,
   "metadata": {},
   "outputs": [],
   "source": [
    "l2 = l1[0]"
   ]
  },
  {
   "cell_type": "code",
   "execution_count": 33,
   "metadata": {},
   "outputs": [],
   "source": [
    "df_bitcoin = pd.DataFrame.from_records(x1, columns=l2)"
   ]
  },
  {
   "cell_type": "code",
   "execution_count": 34,
   "metadata": {},
   "outputs": [],
   "source": [
    "df_ethereum = pd.DataFrame.from_records(x2, columns=l2)"
   ]
  },
  {
   "cell_type": "code",
   "execution_count": 35,
   "metadata": {},
   "outputs": [],
   "source": [
    "df_ripple = pd.DataFrame.from_records(x3, columns=l2)"
   ]
  },
  {
   "cell_type": "code",
   "execution_count": 36,
   "metadata": {},
   "outputs": [],
   "source": [
    "df_bitcoin_cash = pd.DataFrame.from_records(x4, columns=l2)"
   ]
  },
  {
   "cell_type": "code",
   "execution_count": 37,
   "metadata": {},
   "outputs": [
    {
     "data": {
      "text/plain": [
       "Date          object\n",
       "Open*         object\n",
       "High          object\n",
       "Low           object\n",
       "Close**       object\n",
       "Volume        object\n",
       "Market Cap    object\n",
       "dtype: object"
      ]
     },
     "execution_count": 37,
     "metadata": {},
     "output_type": "execute_result"
    }
   ],
   "source": [
    "df_bitcoin_cash.dtypes"
   ]
  },
  {
   "cell_type": "code",
   "execution_count": 38,
   "metadata": {},
   "outputs": [],
   "source": [
    "y = [df_bitcoin,df_ethereum,df_ripple,df_bitcoin_cash]\n",
    "for i in range(0,len(y)):\n",
    "    y[i][['Open*','High','Low','Close**']] = y[i][['Open*','High','Low','Close**']].apply(pd.to_numeric)\n",
    "    y[i]['Date'] = pd.to_datetime(y[i]['Date'])\n",
    "    y[i]['year'], y[i]['month'] = y[i]['Date'].dt.year, y[i]['Date'].dt.month"
   ]
  },
  {
   "cell_type": "code",
   "execution_count": 39,
   "metadata": {},
   "outputs": [],
   "source": [
    "df_bitcoin = y[0]\n",
    "df_ethereum = y[1]\n",
    "df_ripple = y[2]\n",
    "df_bitcoin_cash = y[3]"
   ]
  },
  {
   "cell_type": "code",
   "execution_count": 40,
   "metadata": {},
   "outputs": [
    {
     "data": {
      "text/html": [
       "<div>\n",
       "<style>\n",
       "    .dataframe thead tr:only-child th {\n",
       "        text-align: right;\n",
       "    }\n",
       "\n",
       "    .dataframe thead th {\n",
       "        text-align: left;\n",
       "    }\n",
       "\n",
       "    .dataframe tbody tr th {\n",
       "        vertical-align: top;\n",
       "    }\n",
       "</style>\n",
       "<table border=\"1\" class=\"dataframe\">\n",
       "  <thead>\n",
       "    <tr style=\"text-align: right;\">\n",
       "      <th></th>\n",
       "      <th>Date</th>\n",
       "      <th>Open*</th>\n",
       "      <th>High</th>\n",
       "      <th>Low</th>\n",
       "      <th>Close**</th>\n",
       "      <th>Volume</th>\n",
       "      <th>Market Cap</th>\n",
       "      <th>year</th>\n",
       "      <th>month</th>\n",
       "    </tr>\n",
       "  </thead>\n",
       "  <tbody>\n",
       "    <tr>\n",
       "      <th>0</th>\n",
       "      <td>2018-06-21</td>\n",
       "      <td>6780.09</td>\n",
       "      <td>6810.94</td>\n",
       "      <td>6715.17</td>\n",
       "      <td>6729.74</td>\n",
       "      <td>3,529,130,000</td>\n",
       "      <td>115,977,000,000</td>\n",
       "      <td>2018</td>\n",
       "      <td>6</td>\n",
       "    </tr>\n",
       "    <tr>\n",
       "      <th>1</th>\n",
       "      <td>2018-06-20</td>\n",
       "      <td>6770.76</td>\n",
       "      <td>6821.56</td>\n",
       "      <td>6611.88</td>\n",
       "      <td>6776.55</td>\n",
       "      <td>3,888,640,000</td>\n",
       "      <td>115,804,000,000</td>\n",
       "      <td>2018</td>\n",
       "      <td>6</td>\n",
       "    </tr>\n",
       "    <tr>\n",
       "      <th>2</th>\n",
       "      <td>2018-06-19</td>\n",
       "      <td>6742.39</td>\n",
       "      <td>6822.50</td>\n",
       "      <td>6709.92</td>\n",
       "      <td>6769.94</td>\n",
       "      <td>4,057,030,000</td>\n",
       "      <td>115,306,000,000</td>\n",
       "      <td>2018</td>\n",
       "      <td>6</td>\n",
       "    </tr>\n",
       "    <tr>\n",
       "      <th>3</th>\n",
       "      <td>2018-06-18</td>\n",
       "      <td>6510.07</td>\n",
       "      <td>6781.14</td>\n",
       "      <td>6446.68</td>\n",
       "      <td>6734.82</td>\n",
       "      <td>4,039,200,000</td>\n",
       "      <td>111,319,000,000</td>\n",
       "      <td>2018</td>\n",
       "      <td>6</td>\n",
       "    </tr>\n",
       "    <tr>\n",
       "      <th>4</th>\n",
       "      <td>2018-06-17</td>\n",
       "      <td>6545.53</td>\n",
       "      <td>6589.11</td>\n",
       "      <td>6499.27</td>\n",
       "      <td>6499.27</td>\n",
       "      <td>3,104,020,000</td>\n",
       "      <td>111,913,000,000</td>\n",
       "      <td>2018</td>\n",
       "      <td>6</td>\n",
       "    </tr>\n",
       "  </tbody>\n",
       "</table>\n",
       "</div>"
      ],
      "text/plain": [
       "        Date    Open*     High      Low  Close**         Volume  \\\n",
       "0 2018-06-21  6780.09  6810.94  6715.17  6729.74  3,529,130,000   \n",
       "1 2018-06-20  6770.76  6821.56  6611.88  6776.55  3,888,640,000   \n",
       "2 2018-06-19  6742.39  6822.50  6709.92  6769.94  4,057,030,000   \n",
       "3 2018-06-18  6510.07  6781.14  6446.68  6734.82  4,039,200,000   \n",
       "4 2018-06-17  6545.53  6589.11  6499.27  6499.27  3,104,020,000   \n",
       "\n",
       "        Market Cap  year  month  \n",
       "0  115,977,000,000  2018      6  \n",
       "1  115,804,000,000  2018      6  \n",
       "2  115,306,000,000  2018      6  \n",
       "3  111,319,000,000  2018      6  \n",
       "4  111,913,000,000  2018      6  "
      ]
     },
     "execution_count": 40,
     "metadata": {},
     "output_type": "execute_result"
    }
   ],
   "source": [
    "df_bitcoin.head()"
   ]
  },
  {
   "cell_type": "code",
   "execution_count": 41,
   "metadata": {},
   "outputs": [
    {
     "data": {
      "text/plain": [
       "Date          datetime64[ns]\n",
       "Open*                float64\n",
       "High                 float64\n",
       "Low                  float64\n",
       "Close**              float64\n",
       "Volume                object\n",
       "Market Cap            object\n",
       "year                   int64\n",
       "month                  int64\n",
       "dtype: object"
      ]
     },
     "execution_count": 41,
     "metadata": {},
     "output_type": "execute_result"
    }
   ],
   "source": [
    "df_bitcoin.dtypes"
   ]
  },
  {
   "cell_type": "code",
   "execution_count": 42,
   "metadata": {},
   "outputs": [
    {
     "data": {
      "text/html": [
       "<div>\n",
       "<style>\n",
       "    .dataframe thead tr:only-child th {\n",
       "        text-align: right;\n",
       "    }\n",
       "\n",
       "    .dataframe thead th {\n",
       "        text-align: left;\n",
       "    }\n",
       "\n",
       "    .dataframe tbody tr th {\n",
       "        vertical-align: top;\n",
       "    }\n",
       "</style>\n",
       "<table border=\"1\" class=\"dataframe\">\n",
       "  <thead>\n",
       "    <tr style=\"text-align: right;\">\n",
       "      <th></th>\n",
       "      <th>Date</th>\n",
       "      <th>Open*</th>\n",
       "      <th>High</th>\n",
       "      <th>Low</th>\n",
       "      <th>Close**</th>\n",
       "      <th>Volume</th>\n",
       "      <th>Market Cap</th>\n",
       "      <th>year</th>\n",
       "      <th>month</th>\n",
       "    </tr>\n",
       "  </thead>\n",
       "  <tbody>\n",
       "    <tr>\n",
       "      <th>0</th>\n",
       "      <td>2018-06-21</td>\n",
       "      <td>6780.09</td>\n",
       "      <td>6810.94</td>\n",
       "      <td>6715.17</td>\n",
       "      <td>6729.74</td>\n",
       "      <td>3,529,130,000</td>\n",
       "      <td>115,977,000,000</td>\n",
       "      <td>2018</td>\n",
       "      <td>6</td>\n",
       "    </tr>\n",
       "    <tr>\n",
       "      <th>1</th>\n",
       "      <td>2018-06-20</td>\n",
       "      <td>6770.76</td>\n",
       "      <td>6821.56</td>\n",
       "      <td>6611.88</td>\n",
       "      <td>6776.55</td>\n",
       "      <td>3,888,640,000</td>\n",
       "      <td>115,804,000,000</td>\n",
       "      <td>2018</td>\n",
       "      <td>6</td>\n",
       "    </tr>\n",
       "    <tr>\n",
       "      <th>2</th>\n",
       "      <td>2018-06-19</td>\n",
       "      <td>6742.39</td>\n",
       "      <td>6822.50</td>\n",
       "      <td>6709.92</td>\n",
       "      <td>6769.94</td>\n",
       "      <td>4,057,030,000</td>\n",
       "      <td>115,306,000,000</td>\n",
       "      <td>2018</td>\n",
       "      <td>6</td>\n",
       "    </tr>\n",
       "  </tbody>\n",
       "</table>\n",
       "</div>"
      ],
      "text/plain": [
       "        Date    Open*     High      Low  Close**         Volume  \\\n",
       "0 2018-06-21  6780.09  6810.94  6715.17  6729.74  3,529,130,000   \n",
       "1 2018-06-20  6770.76  6821.56  6611.88  6776.55  3,888,640,000   \n",
       "2 2018-06-19  6742.39  6822.50  6709.92  6769.94  4,057,030,000   \n",
       "\n",
       "        Market Cap  year  month  \n",
       "0  115,977,000,000  2018      6  \n",
       "1  115,804,000,000  2018      6  \n",
       "2  115,306,000,000  2018      6  "
      ]
     },
     "execution_count": 42,
     "metadata": {},
     "output_type": "execute_result"
    }
   ],
   "source": [
    "df_bitcoin.head(3)"
   ]
  },
  {
   "cell_type": "code",
   "execution_count": 43,
   "metadata": {},
   "outputs": [
    {
     "data": {
      "text/html": [
       "<div>\n",
       "<style>\n",
       "    .dataframe thead tr:only-child th {\n",
       "        text-align: right;\n",
       "    }\n",
       "\n",
       "    .dataframe thead th {\n",
       "        text-align: left;\n",
       "    }\n",
       "\n",
       "    .dataframe tbody tr th {\n",
       "        vertical-align: top;\n",
       "    }\n",
       "</style>\n",
       "<table border=\"1\" class=\"dataframe\">\n",
       "  <thead>\n",
       "    <tr style=\"text-align: right;\">\n",
       "      <th></th>\n",
       "      <th>Date</th>\n",
       "      <th>Open*</th>\n",
       "      <th>High</th>\n",
       "      <th>Low</th>\n",
       "      <th>Close**</th>\n",
       "      <th>Volume</th>\n",
       "      <th>Market Cap</th>\n",
       "      <th>year</th>\n",
       "      <th>month</th>\n",
       "    </tr>\n",
       "  </thead>\n",
       "  <tbody>\n",
       "    <tr>\n",
       "      <th>0</th>\n",
       "      <td>2018-06-21</td>\n",
       "      <td>0.539228</td>\n",
       "      <td>0.547007</td>\n",
       "      <td>0.530697</td>\n",
       "      <td>0.534775</td>\n",
       "      <td>194,312,000</td>\n",
       "      <td>21,162,200,000</td>\n",
       "      <td>2018</td>\n",
       "      <td>6</td>\n",
       "    </tr>\n",
       "    <tr>\n",
       "      <th>1</th>\n",
       "      <td>2018-06-20</td>\n",
       "      <td>0.549738</td>\n",
       "      <td>0.550554</td>\n",
       "      <td>0.525859</td>\n",
       "      <td>0.539286</td>\n",
       "      <td>256,920,000</td>\n",
       "      <td>21,574,600,000</td>\n",
       "      <td>2018</td>\n",
       "      <td>6</td>\n",
       "    </tr>\n",
       "    <tr>\n",
       "      <th>2</th>\n",
       "      <td>2018-06-19</td>\n",
       "      <td>0.538614</td>\n",
       "      <td>0.558059</td>\n",
       "      <td>0.534595</td>\n",
       "      <td>0.549621</td>\n",
       "      <td>255,400,000</td>\n",
       "      <td>21,138,100,000</td>\n",
       "      <td>2018</td>\n",
       "      <td>6</td>\n",
       "    </tr>\n",
       "  </tbody>\n",
       "</table>\n",
       "</div>"
      ],
      "text/plain": [
       "        Date     Open*      High       Low   Close**       Volume  \\\n",
       "0 2018-06-21  0.539228  0.547007  0.530697  0.534775  194,312,000   \n",
       "1 2018-06-20  0.549738  0.550554  0.525859  0.539286  256,920,000   \n",
       "2 2018-06-19  0.538614  0.558059  0.534595  0.549621  255,400,000   \n",
       "\n",
       "       Market Cap  year  month  \n",
       "0  21,162,200,000  2018      6  \n",
       "1  21,574,600,000  2018      6  \n",
       "2  21,138,100,000  2018      6  "
      ]
     },
     "execution_count": 43,
     "metadata": {},
     "output_type": "execute_result"
    }
   ],
   "source": [
    "df_ripple.head(3)"
   ]
  },
  {
   "cell_type": "code",
   "execution_count": 44,
   "metadata": {},
   "outputs": [],
   "source": [
    "df_bitcoin.to_csv('df_bitcoin.csv')\n",
    "df_ethereum.to_csv('df_ethereum.csv')\n",
    "df_ripple.to_csv('df_ripple.csv')\n",
    "df_bitcoin_cash.to_csv('df_bitcoin_cash.csv')"
   ]
  },
  {
   "cell_type": "code",
   "execution_count": 45,
   "metadata": {},
   "outputs": [
    {
     "data": {
      "text/plain": [
       "[<matplotlib.lines.Line2D at 0x11f3d978>]"
      ]
     },
     "execution_count": 45,
     "metadata": {},
     "output_type": "execute_result"
    },
    {
     "data": {
      "text/plain": [
       "[<matplotlib.lines.Line2D at 0xd1ab3c8>]"
      ]
     },
     "execution_count": 45,
     "metadata": {},
     "output_type": "execute_result"
    },
    {
     "data": {
      "text/plain": [
       "[<matplotlib.lines.Line2D at 0xd1abd30>]"
      ]
     },
     "execution_count": 45,
     "metadata": {},
     "output_type": "execute_result"
    },
    {
     "data": {
      "text/plain": [
       "[<matplotlib.lines.Line2D at 0xd1bd748>]"
      ]
     },
     "execution_count": 45,
     "metadata": {},
     "output_type": "execute_result"
    },
    {
     "data": {
      "text/plain": [
       "<matplotlib.text.Text at 0xd137f28>"
      ]
     },
     "execution_count": 45,
     "metadata": {},
     "output_type": "execute_result"
    },
    {
     "data": {
      "text/plain": [
       "<matplotlib.text.Text at 0xd13d240>"
      ]
     },
     "execution_count": 45,
     "metadata": {},
     "output_type": "execute_result"
    },
    {
     "data": {
      "text/plain": [
       "<matplotlib.text.Text at 0xd16da90>"
      ]
     },
     "execution_count": 45,
     "metadata": {},
     "output_type": "execute_result"
    },
    {
     "data": {
      "image/png": "[encoded data removed]",
      "text/plain": [
       "<matplotlib.figure.Figure at 0xd137668>"
      ]
     },
     "metadata": {},
     "output_type": "display_data"
    }
   ],
   "source": [
    "#Line chart\n",
    "fig,ax = plt.subplots(figsize = (12,9))\n",
    "plt.plot(df_bitcoin['Date'], df_bitcoin['Close**'], color='g')\n",
    "plt.plot(df_ethereum['Date'], df_ethereum['Close**'], color='orange')\n",
    "plt.plot(df_ripple['Date'], df_ripple['Close**'], color='blue')\n",
    "plt.plot(df_bitcoin_cash['Date'], df_bitcoin_cash['Close**'], color='red')\n",
    "plt.xlabel('Cryptocurrencies')\n",
    "plt.ylabel('Close Price')\n",
    "plt.title('Daily price of top 4 cryptocurrencies')\n",
    "plt.show()"
   ]
  },
  {
   "cell_type": "code",
   "execution_count": 46,
   "metadata": {},
   "outputs": [],
   "source": [
    "df_mcap = pd.DataFrame(df_bitcoin['Market Cap'])\n",
    "df_mcap['ethereum'] = pd.DataFrame(df_ethereum['Market Cap'])\n",
    "df_mcap['bitcoin_cash'] = pd.DataFrame(df_bitcoin_cash['Market Cap'])\n",
    "df_mcap['ripple'] = pd.DataFrame(df_ripple['Market Cap'])"
   ]
  },
  {
   "cell_type": "code",
   "execution_count": 47,
   "metadata": {},
   "outputs": [],
   "source": [
    "df_mcap.rename(columns={'Market Cap': 'bitcoin'}, inplace=True)"
   ]
  },
  {
   "cell_type": "code",
   "execution_count": 48,
   "metadata": {},
   "outputs": [],
   "source": [
    "# when Volume is equal to '-' convert it to 0\n",
    "df_mcap.loc[df_mcap['bitcoin']==\"-\",'bitcoin']=0"
   ]
  },
  {
   "cell_type": "code",
   "execution_count": null,
   "metadata": {},
   "outputs": [],
   "source": []
  },
  {
   "cell_type": "code",
   "execution_count": 57,
   "metadata": {},
   "outputs": [],
   "source": [
    "#ANOVA Analysis of four top cryptocurrencies"
   ]
  },
  {
   "cell_type": "code",
   "execution_count": 49,
   "metadata": {},
   "outputs": [
    {
     "data": {
      "text/html": [
       "<div>\n",
       "<style>\n",
       "    .dataframe thead tr:only-child th {\n",
       "        text-align: right;\n",
       "    }\n",
       "\n",
       "    .dataframe thead th {\n",
       "        text-align: left;\n",
       "    }\n",
       "\n",
       "    .dataframe tbody tr th {\n",
       "        vertical-align: top;\n",
       "    }\n",
       "</style>\n",
       "<table border=\"1\" class=\"dataframe\">\n",
       "  <thead>\n",
       "    <tr style=\"text-align: right;\">\n",
       "      <th></th>\n",
       "      <th>Date</th>\n",
       "      <th>Open*</th>\n",
       "      <th>High</th>\n",
       "      <th>Low</th>\n",
       "      <th>Close**</th>\n",
       "      <th>Volume</th>\n",
       "      <th>Market Cap</th>\n",
       "      <th>year</th>\n",
       "      <th>month</th>\n",
       "    </tr>\n",
       "  </thead>\n",
       "  <tbody>\n",
       "    <tr>\n",
       "      <th>0</th>\n",
       "      <td>2018-06-21</td>\n",
       "      <td>6780.09</td>\n",
       "      <td>6810.94</td>\n",
       "      <td>6715.17</td>\n",
       "      <td>6729.74</td>\n",
       "      <td>3,529,130,000</td>\n",
       "      <td>115,977,000,000</td>\n",
       "      <td>2018</td>\n",
       "      <td>6</td>\n",
       "    </tr>\n",
       "    <tr>\n",
       "      <th>1</th>\n",
       "      <td>2018-06-20</td>\n",
       "      <td>6770.76</td>\n",
       "      <td>6821.56</td>\n",
       "      <td>6611.88</td>\n",
       "      <td>6776.55</td>\n",
       "      <td>3,888,640,000</td>\n",
       "      <td>115,804,000,000</td>\n",
       "      <td>2018</td>\n",
       "      <td>6</td>\n",
       "    </tr>\n",
       "    <tr>\n",
       "      <th>2</th>\n",
       "      <td>2018-06-19</td>\n",
       "      <td>6742.39</td>\n",
       "      <td>6822.50</td>\n",
       "      <td>6709.92</td>\n",
       "      <td>6769.94</td>\n",
       "      <td>4,057,030,000</td>\n",
       "      <td>115,306,000,000</td>\n",
       "      <td>2018</td>\n",
       "      <td>6</td>\n",
       "    </tr>\n",
       "    <tr>\n",
       "      <th>3</th>\n",
       "      <td>2018-06-18</td>\n",
       "      <td>6510.07</td>\n",
       "      <td>6781.14</td>\n",
       "      <td>6446.68</td>\n",
       "      <td>6734.82</td>\n",
       "      <td>4,039,200,000</td>\n",
       "      <td>111,319,000,000</td>\n",
       "      <td>2018</td>\n",
       "      <td>6</td>\n",
       "    </tr>\n",
       "    <tr>\n",
       "      <th>4</th>\n",
       "      <td>2018-06-17</td>\n",
       "      <td>6545.53</td>\n",
       "      <td>6589.11</td>\n",
       "      <td>6499.27</td>\n",
       "      <td>6499.27</td>\n",
       "      <td>3,104,020,000</td>\n",
       "      <td>111,913,000,000</td>\n",
       "      <td>2018</td>\n",
       "      <td>6</td>\n",
       "    </tr>\n",
       "    <tr>\n",
       "      <th>5</th>\n",
       "      <td>2018-06-16</td>\n",
       "      <td>6455.45</td>\n",
       "      <td>6592.49</td>\n",
       "      <td>6402.29</td>\n",
       "      <td>6550.16</td>\n",
       "      <td>3,194,170,000</td>\n",
       "      <td>110,359,000,000</td>\n",
       "      <td>2018</td>\n",
       "      <td>6</td>\n",
       "    </tr>\n",
       "    <tr>\n",
       "      <th>6</th>\n",
       "      <td>2018-06-15</td>\n",
       "      <td>6674.08</td>\n",
       "      <td>6681.08</td>\n",
       "      <td>6433.87</td>\n",
       "      <td>6456.58</td>\n",
       "      <td>3,955,390,000</td>\n",
       "      <td>114,084,000,000</td>\n",
       "      <td>2018</td>\n",
       "      <td>6</td>\n",
       "    </tr>\n",
       "    <tr>\n",
       "      <th>7</th>\n",
       "      <td>2018-06-14</td>\n",
       "      <td>6342.75</td>\n",
       "      <td>6707.14</td>\n",
       "      <td>6334.46</td>\n",
       "      <td>6675.35</td>\n",
       "      <td>5,138,710,000</td>\n",
       "      <td>108,408,000,000</td>\n",
       "      <td>2018</td>\n",
       "      <td>6</td>\n",
       "    </tr>\n",
       "    <tr>\n",
       "      <th>8</th>\n",
       "      <td>2018-06-13</td>\n",
       "      <td>6596.88</td>\n",
       "      <td>6631.66</td>\n",
       "      <td>6285.63</td>\n",
       "      <td>6349.90</td>\n",
       "      <td>5,052,350,000</td>\n",
       "      <td>112,740,000,000</td>\n",
       "      <td>2018</td>\n",
       "      <td>6</td>\n",
       "    </tr>\n",
       "    <tr>\n",
       "      <th>9</th>\n",
       "      <td>2018-06-12</td>\n",
       "      <td>6905.82</td>\n",
       "      <td>6907.96</td>\n",
       "      <td>6542.08</td>\n",
       "      <td>6582.36</td>\n",
       "      <td>4,654,380,000</td>\n",
       "      <td>118,007,000,000</td>\n",
       "      <td>2018</td>\n",
       "      <td>6</td>\n",
       "    </tr>\n",
       "    <tr>\n",
       "      <th>10</th>\n",
       "      <td>2018-06-11</td>\n",
       "      <td>6799.29</td>\n",
       "      <td>6910.18</td>\n",
       "      <td>6706.63</td>\n",
       "      <td>6906.92</td>\n",
       "      <td>4,745,270,000</td>\n",
       "      <td>116,175,000,000</td>\n",
       "      <td>2018</td>\n",
       "      <td>6</td>\n",
       "    </tr>\n",
       "    <tr>\n",
       "      <th>11</th>\n",
       "      <td>2018-06-10</td>\n",
       "      <td>7499.55</td>\n",
       "      <td>7499.55</td>\n",
       "      <td>6709.07</td>\n",
       "      <td>6786.02</td>\n",
       "      <td>5,804,840,000</td>\n",
       "      <td>128,128,000,000</td>\n",
       "      <td>2018</td>\n",
       "      <td>6</td>\n",
       "    </tr>\n",
       "    <tr>\n",
       "      <th>12</th>\n",
       "      <td>2018-06-09</td>\n",
       "      <td>7632.52</td>\n",
       "      <td>7683.58</td>\n",
       "      <td>7531.98</td>\n",
       "      <td>7531.98</td>\n",
       "      <td>3,845,220,000</td>\n",
       "      <td>130,386,000,000</td>\n",
       "      <td>2018</td>\n",
       "      <td>6</td>\n",
       "    </tr>\n",
       "    <tr>\n",
       "      <th>13</th>\n",
       "      <td>2018-06-08</td>\n",
       "      <td>7685.14</td>\n",
       "      <td>7698.19</td>\n",
       "      <td>7558.40</td>\n",
       "      <td>7624.92</td>\n",
       "      <td>4,227,580,000</td>\n",
       "      <td>131,271,000,000</td>\n",
       "      <td>2018</td>\n",
       "      <td>6</td>\n",
       "    </tr>\n",
       "    <tr>\n",
       "      <th>14</th>\n",
       "      <td>2018-06-07</td>\n",
       "      <td>7650.82</td>\n",
       "      <td>7741.27</td>\n",
       "      <td>7650.82</td>\n",
       "      <td>7678.24</td>\n",
       "      <td>4,485,800,000</td>\n",
       "      <td>130,671,000,000</td>\n",
       "      <td>2018</td>\n",
       "      <td>6</td>\n",
       "    </tr>\n",
       "    <tr>\n",
       "      <th>15</th>\n",
       "      <td>2018-06-06</td>\n",
       "      <td>7625.97</td>\n",
       "      <td>7680.43</td>\n",
       "      <td>7502.01</td>\n",
       "      <td>7653.98</td>\n",
       "      <td>4,692,260,000</td>\n",
       "      <td>130,233,000,000</td>\n",
       "      <td>2018</td>\n",
       "      <td>6</td>\n",
       "    </tr>\n",
       "    <tr>\n",
       "      <th>16</th>\n",
       "      <td>2018-06-05</td>\n",
       "      <td>7500.90</td>\n",
       "      <td>7643.23</td>\n",
       "      <td>7397.00</td>\n",
       "      <td>7633.76</td>\n",
       "      <td>4,961,740,000</td>\n",
       "      <td>128,081,000,000</td>\n",
       "      <td>2018</td>\n",
       "      <td>6</td>\n",
       "    </tr>\n",
       "    <tr>\n",
       "      <th>17</th>\n",
       "      <td>2018-06-04</td>\n",
       "      <td>7722.53</td>\n",
       "      <td>7753.82</td>\n",
       "      <td>7474.04</td>\n",
       "      <td>7514.47</td>\n",
       "      <td>4,993,170,000</td>\n",
       "      <td>131,847,000,000</td>\n",
       "      <td>2018</td>\n",
       "      <td>6</td>\n",
       "    </tr>\n",
       "    <tr>\n",
       "      <th>18</th>\n",
       "      <td>2018-06-03</td>\n",
       "      <td>7632.09</td>\n",
       "      <td>7754.89</td>\n",
       "      <td>7613.04</td>\n",
       "      <td>7720.25</td>\n",
       "      <td>4,851,760,000</td>\n",
       "      <td>130,288,000,000</td>\n",
       "      <td>2018</td>\n",
       "      <td>6</td>\n",
       "    </tr>\n",
       "    <tr>\n",
       "      <th>19</th>\n",
       "      <td>2018-06-02</td>\n",
       "      <td>7536.72</td>\n",
       "      <td>7695.83</td>\n",
       "      <td>7497.26</td>\n",
       "      <td>7643.45</td>\n",
       "      <td>4,939,300,000</td>\n",
       "      <td>128,645,000,000</td>\n",
       "      <td>2018</td>\n",
       "      <td>6</td>\n",
       "    </tr>\n",
       "    <tr>\n",
       "      <th>20</th>\n",
       "      <td>2018-06-01</td>\n",
       "      <td>7500.70</td>\n",
       "      <td>7604.73</td>\n",
       "      <td>7407.34</td>\n",
       "      <td>7541.45</td>\n",
       "      <td>4,921,460,000</td>\n",
       "      <td>128,014,000,000</td>\n",
       "      <td>2018</td>\n",
       "      <td>6</td>\n",
       "    </tr>\n",
       "    <tr>\n",
       "      <th>21</th>\n",
       "      <td>2018-05-31</td>\n",
       "      <td>7406.15</td>\n",
       "      <td>7608.90</td>\n",
       "      <td>7361.13</td>\n",
       "      <td>7494.17</td>\n",
       "      <td>5,127,130,000</td>\n",
       "      <td>126,386,000,000</td>\n",
       "      <td>2018</td>\n",
       "      <td>5</td>\n",
       "    </tr>\n",
       "    <tr>\n",
       "      <th>22</th>\n",
       "      <td>2018-05-30</td>\n",
       "      <td>7469.73</td>\n",
       "      <td>7573.77</td>\n",
       "      <td>7313.60</td>\n",
       "      <td>7406.52</td>\n",
       "      <td>4,922,540,000</td>\n",
       "      <td>127,454,000,000</td>\n",
       "      <td>2018</td>\n",
       "      <td>5</td>\n",
       "    </tr>\n",
       "    <tr>\n",
       "      <th>23</th>\n",
       "      <td>2018-05-29</td>\n",
       "      <td>7129.46</td>\n",
       "      <td>7526.42</td>\n",
       "      <td>7090.68</td>\n",
       "      <td>7472.59</td>\n",
       "      <td>5,662,660,000</td>\n",
       "      <td>121,636,000,000</td>\n",
       "      <td>2018</td>\n",
       "      <td>5</td>\n",
       "    </tr>\n",
       "    <tr>\n",
       "      <th>24</th>\n",
       "      <td>2018-05-28</td>\n",
       "      <td>7371.31</td>\n",
       "      <td>7419.05</td>\n",
       "      <td>7100.89</td>\n",
       "      <td>7135.99</td>\n",
       "      <td>5,040,600,000</td>\n",
       "      <td>125,748,000,000</td>\n",
       "      <td>2018</td>\n",
       "      <td>5</td>\n",
       "    </tr>\n",
       "    <tr>\n",
       "      <th>25</th>\n",
       "      <td>2018-05-27</td>\n",
       "      <td>7362.08</td>\n",
       "      <td>7381.74</td>\n",
       "      <td>7270.96</td>\n",
       "      <td>7368.22</td>\n",
       "      <td>4,056,520,000</td>\n",
       "      <td>125,575,000,000</td>\n",
       "      <td>2018</td>\n",
       "      <td>5</td>\n",
       "    </tr>\n",
       "    <tr>\n",
       "      <th>26</th>\n",
       "      <td>2018-05-26</td>\n",
       "      <td>7486.48</td>\n",
       "      <td>7595.16</td>\n",
       "      <td>7349.12</td>\n",
       "      <td>7355.88</td>\n",
       "      <td>4,051,540,000</td>\n",
       "      <td>127,682,000,000</td>\n",
       "      <td>2018</td>\n",
       "      <td>5</td>\n",
       "    </tr>\n",
       "    <tr>\n",
       "      <th>27</th>\n",
       "      <td>2018-05-25</td>\n",
       "      <td>7592.30</td>\n",
       "      <td>7659.14</td>\n",
       "      <td>7392.65</td>\n",
       "      <td>7480.14</td>\n",
       "      <td>4,867,830,000</td>\n",
       "      <td>129,470,000,000</td>\n",
       "      <td>2018</td>\n",
       "      <td>5</td>\n",
       "    </tr>\n",
       "    <tr>\n",
       "      <th>28</th>\n",
       "      <td>2018-05-24</td>\n",
       "      <td>7561.12</td>\n",
       "      <td>7738.60</td>\n",
       "      <td>7331.14</td>\n",
       "      <td>7587.34</td>\n",
       "      <td>6,049,220,000</td>\n",
       "      <td>128,925,000,000</td>\n",
       "      <td>2018</td>\n",
       "      <td>5</td>\n",
       "    </tr>\n",
       "    <tr>\n",
       "      <th>29</th>\n",
       "      <td>2018-05-23</td>\n",
       "      <td>8037.08</td>\n",
       "      <td>8054.66</td>\n",
       "      <td>7507.88</td>\n",
       "      <td>7557.82</td>\n",
       "      <td>6,491,120,000</td>\n",
       "      <td>137,024,000,000</td>\n",
       "      <td>2018</td>\n",
       "      <td>5</td>\n",
       "    </tr>\n",
       "    <tr>\n",
       "      <th>...</th>\n",
       "      <td>...</td>\n",
       "      <td>...</td>\n",
       "      <td>...</td>\n",
       "      <td>...</td>\n",
       "      <td>...</td>\n",
       "      <td>...</td>\n",
       "      <td>...</td>\n",
       "      <td>...</td>\n",
       "      <td>...</td>\n",
       "    </tr>\n",
       "    <tr>\n",
       "      <th>142</th>\n",
       "      <td>2018-01-30</td>\n",
       "      <td>11306.80</td>\n",
       "      <td>11307.20</td>\n",
       "      <td>10036.20</td>\n",
       "      <td>10106.30</td>\n",
       "      <td>8,637,860,000</td>\n",
       "      <td>190,339,000,000</td>\n",
       "      <td>2018</td>\n",
       "      <td>1</td>\n",
       "    </tr>\n",
       "    <tr>\n",
       "      <th>143</th>\n",
       "      <td>2018-01-29</td>\n",
       "      <td>11755.50</td>\n",
       "      <td>11875.60</td>\n",
       "      <td>11179.20</td>\n",
       "      <td>11296.40</td>\n",
       "      <td>7,107,360,000</td>\n",
       "      <td>197,871,000,000</td>\n",
       "      <td>2018</td>\n",
       "      <td>1</td>\n",
       "    </tr>\n",
       "    <tr>\n",
       "      <th>144</th>\n",
       "      <td>2018-01-28</td>\n",
       "      <td>11475.30</td>\n",
       "      <td>12040.30</td>\n",
       "      <td>11475.30</td>\n",
       "      <td>11786.30</td>\n",
       "      <td>8,350,360,000</td>\n",
       "      <td>193,133,000,000</td>\n",
       "      <td>2018</td>\n",
       "      <td>1</td>\n",
       "    </tr>\n",
       "    <tr>\n",
       "      <th>145</th>\n",
       "      <td>2018-01-27</td>\n",
       "      <td>11174.90</td>\n",
       "      <td>11614.90</td>\n",
       "      <td>10989.20</td>\n",
       "      <td>11440.70</td>\n",
       "      <td>7,583,270,000</td>\n",
       "      <td>188,054,000,000</td>\n",
       "      <td>2018</td>\n",
       "      <td>1</td>\n",
       "    </tr>\n",
       "    <tr>\n",
       "      <th>146</th>\n",
       "      <td>2018-01-26</td>\n",
       "      <td>11256.00</td>\n",
       "      <td>11656.70</td>\n",
       "      <td>10470.30</td>\n",
       "      <td>11171.40</td>\n",
       "      <td>9,746,200,000</td>\n",
       "      <td>189,398,000,000</td>\n",
       "      <td>2018</td>\n",
       "      <td>1</td>\n",
       "    </tr>\n",
       "    <tr>\n",
       "      <th>147</th>\n",
       "      <td>2018-01-25</td>\n",
       "      <td>11421.70</td>\n",
       "      <td>11785.70</td>\n",
       "      <td>11057.40</td>\n",
       "      <td>11259.40</td>\n",
       "      <td>8,873,170,000</td>\n",
       "      <td>192,163,000,000</td>\n",
       "      <td>2018</td>\n",
       "      <td>1</td>\n",
       "    </tr>\n",
       "    <tr>\n",
       "      <th>148</th>\n",
       "      <td>2018-01-24</td>\n",
       "      <td>10903.40</td>\n",
       "      <td>11501.40</td>\n",
       "      <td>10639.80</td>\n",
       "      <td>11359.40</td>\n",
       "      <td>9,940,990,000</td>\n",
       "      <td>183,419,000,000</td>\n",
       "      <td>2018</td>\n",
       "      <td>1</td>\n",
       "    </tr>\n",
       "    <tr>\n",
       "      <th>149</th>\n",
       "      <td>2018-01-23</td>\n",
       "      <td>10944.50</td>\n",
       "      <td>11377.60</td>\n",
       "      <td>10129.70</td>\n",
       "      <td>10868.40</td>\n",
       "      <td>9,660,610,000</td>\n",
       "      <td>184,087,000,000</td>\n",
       "      <td>2018</td>\n",
       "      <td>1</td>\n",
       "    </tr>\n",
       "    <tr>\n",
       "      <th>150</th>\n",
       "      <td>2018-01-22</td>\n",
       "      <td>11633.10</td>\n",
       "      <td>11966.40</td>\n",
       "      <td>10240.20</td>\n",
       "      <td>10931.40</td>\n",
       "      <td>10,537,400,000</td>\n",
       "      <td>195,645,000,000</td>\n",
       "      <td>2018</td>\n",
       "      <td>1</td>\n",
       "    </tr>\n",
       "    <tr>\n",
       "      <th>151</th>\n",
       "      <td>2018-01-21</td>\n",
       "      <td>12889.20</td>\n",
       "      <td>12895.90</td>\n",
       "      <td>11288.20</td>\n",
       "      <td>11600.10</td>\n",
       "      <td>9,935,180,000</td>\n",
       "      <td>216,740,000,000</td>\n",
       "      <td>2018</td>\n",
       "      <td>1</td>\n",
       "    </tr>\n",
       "    <tr>\n",
       "      <th>152</th>\n",
       "      <td>2018-01-20</td>\n",
       "      <td>11656.20</td>\n",
       "      <td>13103.00</td>\n",
       "      <td>11656.20</td>\n",
       "      <td>12899.20</td>\n",
       "      <td>11,801,700,000</td>\n",
       "      <td>195,979,000,000</td>\n",
       "      <td>2018</td>\n",
       "      <td>1</td>\n",
       "    </tr>\n",
       "    <tr>\n",
       "      <th>153</th>\n",
       "      <td>2018-01-19</td>\n",
       "      <td>11429.80</td>\n",
       "      <td>11992.80</td>\n",
       "      <td>11172.10</td>\n",
       "      <td>11607.40</td>\n",
       "      <td>10,740,400,000</td>\n",
       "      <td>192,150,000,000</td>\n",
       "      <td>2018</td>\n",
       "      <td>1</td>\n",
       "    </tr>\n",
       "    <tr>\n",
       "      <th>154</th>\n",
       "      <td>2018-01-18</td>\n",
       "      <td>11198.80</td>\n",
       "      <td>12107.30</td>\n",
       "      <td>10942.50</td>\n",
       "      <td>11474.90</td>\n",
       "      <td>15,020,400,000</td>\n",
       "      <td>188,242,000,000</td>\n",
       "      <td>2018</td>\n",
       "      <td>1</td>\n",
       "    </tr>\n",
       "    <tr>\n",
       "      <th>155</th>\n",
       "      <td>2018-01-17</td>\n",
       "      <td>11431.10</td>\n",
       "      <td>11678.00</td>\n",
       "      <td>9402.29</td>\n",
       "      <td>11188.60</td>\n",
       "      <td>18,830,600,000</td>\n",
       "      <td>192,123,000,000</td>\n",
       "      <td>2018</td>\n",
       "      <td>1</td>\n",
       "    </tr>\n",
       "    <tr>\n",
       "      <th>156</th>\n",
       "      <td>2018-01-16</td>\n",
       "      <td>13836.10</td>\n",
       "      <td>13843.10</td>\n",
       "      <td>10194.90</td>\n",
       "      <td>11490.50</td>\n",
       "      <td>18,853,800,000</td>\n",
       "      <td>232,517,000,000</td>\n",
       "      <td>2018</td>\n",
       "      <td>1</td>\n",
       "    </tr>\n",
       "    <tr>\n",
       "      <th>157</th>\n",
       "      <td>2018-01-15</td>\n",
       "      <td>13767.30</td>\n",
       "      <td>14445.50</td>\n",
       "      <td>13641.70</td>\n",
       "      <td>13819.80</td>\n",
       "      <td>12,750,800,000</td>\n",
       "      <td>231,334,000,000</td>\n",
       "      <td>2018</td>\n",
       "      <td>1</td>\n",
       "    </tr>\n",
       "    <tr>\n",
       "      <th>158</th>\n",
       "      <td>2018-01-14</td>\n",
       "      <td>14370.80</td>\n",
       "      <td>14511.80</td>\n",
       "      <td>13268.00</td>\n",
       "      <td>13772.00</td>\n",
       "      <td>11,084,100,000</td>\n",
       "      <td>241,447,000,000</td>\n",
       "      <td>2018</td>\n",
       "      <td>1</td>\n",
       "    </tr>\n",
       "    <tr>\n",
       "      <th>159</th>\n",
       "      <td>2018-01-13</td>\n",
       "      <td>13952.40</td>\n",
       "      <td>14659.50</td>\n",
       "      <td>13952.40</td>\n",
       "      <td>14360.20</td>\n",
       "      <td>12,763,600,000</td>\n",
       "      <td>234,391,000,000</td>\n",
       "      <td>2018</td>\n",
       "      <td>1</td>\n",
       "    </tr>\n",
       "    <tr>\n",
       "      <th>160</th>\n",
       "      <td>2018-01-12</td>\n",
       "      <td>13453.90</td>\n",
       "      <td>14229.90</td>\n",
       "      <td>13158.10</td>\n",
       "      <td>13980.60</td>\n",
       "      <td>12,065,700,000</td>\n",
       "      <td>225,986,000,000</td>\n",
       "      <td>2018</td>\n",
       "      <td>1</td>\n",
       "    </tr>\n",
       "    <tr>\n",
       "      <th>161</th>\n",
       "      <td>2018-01-11</td>\n",
       "      <td>14968.20</td>\n",
       "      <td>15018.80</td>\n",
       "      <td>13105.90</td>\n",
       "      <td>13405.80</td>\n",
       "      <td>16,534,100,000</td>\n",
       "      <td>251,387,000,000</td>\n",
       "      <td>2018</td>\n",
       "      <td>1</td>\n",
       "    </tr>\n",
       "    <tr>\n",
       "      <th>162</th>\n",
       "      <td>2018-01-10</td>\n",
       "      <td>14588.50</td>\n",
       "      <td>14973.30</td>\n",
       "      <td>13691.20</td>\n",
       "      <td>14973.30</td>\n",
       "      <td>18,500,800,000</td>\n",
       "      <td>244,981,000,000</td>\n",
       "      <td>2018</td>\n",
       "      <td>1</td>\n",
       "    </tr>\n",
       "    <tr>\n",
       "      <th>163</th>\n",
       "      <td>2018-01-09</td>\n",
       "      <td>15123.70</td>\n",
       "      <td>15497.50</td>\n",
       "      <td>14424.00</td>\n",
       "      <td>14595.40</td>\n",
       "      <td>16,660,000,000</td>\n",
       "      <td>253,935,000,000</td>\n",
       "      <td>2018</td>\n",
       "      <td>1</td>\n",
       "    </tr>\n",
       "    <tr>\n",
       "      <th>164</th>\n",
       "      <td>2018-01-08</td>\n",
       "      <td>16476.20</td>\n",
       "      <td>16537.90</td>\n",
       "      <td>14208.20</td>\n",
       "      <td>15170.10</td>\n",
       "      <td>18,413,900,000</td>\n",
       "      <td>276,612,000,000</td>\n",
       "      <td>2018</td>\n",
       "      <td>1</td>\n",
       "    </tr>\n",
       "    <tr>\n",
       "      <th>165</th>\n",
       "      <td>2018-01-07</td>\n",
       "      <td>17527.30</td>\n",
       "      <td>17579.60</td>\n",
       "      <td>16087.70</td>\n",
       "      <td>16477.60</td>\n",
       "      <td>15,866,000,000</td>\n",
       "      <td>294,222,000,000</td>\n",
       "      <td>2018</td>\n",
       "      <td>1</td>\n",
       "    </tr>\n",
       "    <tr>\n",
       "      <th>166</th>\n",
       "      <td>2018-01-06</td>\n",
       "      <td>17462.10</td>\n",
       "      <td>17712.40</td>\n",
       "      <td>16764.60</td>\n",
       "      <td>17527.00</td>\n",
       "      <td>18,314,600,000</td>\n",
       "      <td>293,091,000,000</td>\n",
       "      <td>2018</td>\n",
       "      <td>1</td>\n",
       "    </tr>\n",
       "    <tr>\n",
       "      <th>167</th>\n",
       "      <td>2018-01-05</td>\n",
       "      <td>15477.20</td>\n",
       "      <td>17705.20</td>\n",
       "      <td>15202.80</td>\n",
       "      <td>17429.50</td>\n",
       "      <td>23,840,900,000</td>\n",
       "      <td>259,748,000,000</td>\n",
       "      <td>2018</td>\n",
       "      <td>1</td>\n",
       "    </tr>\n",
       "    <tr>\n",
       "      <th>168</th>\n",
       "      <td>2018-01-04</td>\n",
       "      <td>15270.70</td>\n",
       "      <td>15739.70</td>\n",
       "      <td>14522.20</td>\n",
       "      <td>15599.20</td>\n",
       "      <td>21,783,200,000</td>\n",
       "      <td>256,250,000,000</td>\n",
       "      <td>2018</td>\n",
       "      <td>1</td>\n",
       "    </tr>\n",
       "    <tr>\n",
       "      <th>169</th>\n",
       "      <td>2018-01-03</td>\n",
       "      <td>14978.20</td>\n",
       "      <td>15572.80</td>\n",
       "      <td>14844.50</td>\n",
       "      <td>15201.00</td>\n",
       "      <td>16,871,900,000</td>\n",
       "      <td>251,312,000,000</td>\n",
       "      <td>2018</td>\n",
       "      <td>1</td>\n",
       "    </tr>\n",
       "    <tr>\n",
       "      <th>170</th>\n",
       "      <td>2018-01-02</td>\n",
       "      <td>13625.00</td>\n",
       "      <td>15444.60</td>\n",
       "      <td>13163.60</td>\n",
       "      <td>14982.10</td>\n",
       "      <td>16,846,600,000</td>\n",
       "      <td>228,579,000,000</td>\n",
       "      <td>2018</td>\n",
       "      <td>1</td>\n",
       "    </tr>\n",
       "    <tr>\n",
       "      <th>171</th>\n",
       "      <td>2018-01-01</td>\n",
       "      <td>14112.20</td>\n",
       "      <td>14112.20</td>\n",
       "      <td>13154.70</td>\n",
       "      <td>13657.20</td>\n",
       "      <td>10,291,200,000</td>\n",
       "      <td>236,725,000,000</td>\n",
       "      <td>2018</td>\n",
       "      <td>1</td>\n",
       "    </tr>\n",
       "  </tbody>\n",
       "</table>\n",
       "<p>172 rows × 9 columns</p>\n",
       "</div>"
      ],
      "text/plain": [
       "          Date     Open*      High       Low   Close**          Volume  \\\n",
       "0   2018-06-21   6780.09   6810.94   6715.17   6729.74   3,529,130,000   \n",
       "1   2018-06-20   6770.76   6821.56   6611.88   6776.55   3,888,640,000   \n",
       "2   2018-06-19   6742.39   6822.50   6709.92   6769.94   4,057,030,000   \n",
       "3   2018-06-18   6510.07   6781.14   6446.68   6734.82   4,039,200,000   \n",
       "4   2018-06-17   6545.53   6589.11   6499.27   6499.27   3,104,020,000   \n",
       "5   2018-06-16   6455.45   6592.49   6402.29   6550.16   3,194,170,000   \n",
       "6   2018-06-15   6674.08   6681.08   6433.87   6456.58   3,955,390,000   \n",
       "7   2018-06-14   6342.75   6707.14   6334.46   6675.35   5,138,710,000   \n",
       "8   2018-06-13   6596.88   6631.66   6285.63   6349.90   5,052,350,000   \n",
       "9   2018-06-12   6905.82   6907.96   6542.08   6582.36   4,654,380,000   \n",
       "10  2018-06-11   6799.29   6910.18   6706.63   6906.92   4,745,270,000   \n",
       "11  2018-06-10   7499.55   7499.55   6709.07   6786.02   5,804,840,000   \n",
       "12  2018-06-09   7632.52   7683.58   7531.98   7531.98   3,845,220,000   \n",
       "13  2018-06-08   7685.14   7698.19   7558.40   7624.92   4,227,580,000   \n",
       "14  2018-06-07   7650.82   7741.27   7650.82   7678.24   4,485,800,000   \n",
       "15  2018-06-06   7625.97   7680.43   7502.01   7653.98   4,692,260,000   \n",
       "16  2018-06-05   7500.90   7643.23   7397.00   7633.76   4,961,740,000   \n",
       "17  2018-06-04   7722.53   7753.82   7474.04   7514.47   4,993,170,000   \n",
       "18  2018-06-03   7632.09   7754.89   7613.04   7720.25   4,851,760,000   \n",
       "19  2018-06-02   7536.72   7695.83   7497.26   7643.45   4,939,300,000   \n",
       "20  2018-06-01   7500.70   7604.73   7407.34   7541.45   4,921,460,000   \n",
       "21  2018-05-31   7406.15   7608.90   7361.13   7494.17   5,127,130,000   \n",
       "22  2018-05-30   7469.73   7573.77   7313.60   7406.52   4,922,540,000   \n",
       "23  2018-05-29   7129.46   7526.42   7090.68   7472.59   5,662,660,000   \n",
       "24  2018-05-28   7371.31   7419.05   7100.89   7135.99   5,040,600,000   \n",
       "25  2018-05-27   7362.08   7381.74   7270.96   7368.22   4,056,520,000   \n",
       "26  2018-05-26   7486.48   7595.16   7349.12   7355.88   4,051,540,000   \n",
       "27  2018-05-25   7592.30   7659.14   7392.65   7480.14   4,867,830,000   \n",
       "28  2018-05-24   7561.12   7738.60   7331.14   7587.34   6,049,220,000   \n",
       "29  2018-05-23   8037.08   8054.66   7507.88   7557.82   6,491,120,000   \n",
       "..         ...       ...       ...       ...       ...             ...   \n",
       "142 2018-01-30  11306.80  11307.20  10036.20  10106.30   8,637,860,000   \n",
       "143 2018-01-29  11755.50  11875.60  11179.20  11296.40   7,107,360,000   \n",
       "144 2018-01-28  11475.30  12040.30  11475.30  11786.30   8,350,360,000   \n",
       "145 2018-01-27  11174.90  11614.90  10989.20  11440.70   7,583,270,000   \n",
       "146 2018-01-26  11256.00  11656.70  10470.30  11171.40   9,746,200,000   \n",
       "147 2018-01-25  11421.70  11785.70  11057.40  11259.40   8,873,170,000   \n",
       "148 2018-01-24  10903.40  11501.40  10639.80  11359.40   9,940,990,000   \n",
       "149 2018-01-23  10944.50  11377.60  10129.70  10868.40   9,660,610,000   \n",
       "150 2018-01-22  11633.10  11966.40  10240.20  10931.40  10,537,400,000   \n",
       "151 2018-01-21  12889.20  12895.90  11288.20  11600.10   9,935,180,000   \n",
       "152 2018-01-20  11656.20  13103.00  11656.20  12899.20  11,801,700,000   \n",
       "153 2018-01-19  11429.80  11992.80  11172.10  11607.40  10,740,400,000   \n",
       "154 2018-01-18  11198.80  12107.30  10942.50  11474.90  15,020,400,000   \n",
       "155 2018-01-17  11431.10  11678.00   9402.29  11188.60  18,830,600,000   \n",
       "156 2018-01-16  13836.10  13843.10  10194.90  11490.50  18,853,800,000   \n",
       "157 2018-01-15  13767.30  14445.50  13641.70  13819.80  12,750,800,000   \n",
       "158 2018-01-14  14370.80  14511.80  13268.00  13772.00  11,084,100,000   \n",
       "159 2018-01-13  13952.40  14659.50  13952.40  14360.20  12,763,600,000   \n",
       "160 2018-01-12  13453.90  14229.90  13158.10  13980.60  12,065,700,000   \n",
       "161 2018-01-11  14968.20  15018.80  13105.90  13405.80  16,534,100,000   \n",
       "162 2018-01-10  14588.50  14973.30  13691.20  14973.30  18,500,800,000   \n",
       "163 2018-01-09  15123.70  15497.50  14424.00  14595.40  16,660,000,000   \n",
       "164 2018-01-08  16476.20  16537.90  14208.20  15170.10  18,413,900,000   \n",
       "165 2018-01-07  17527.30  17579.60  16087.70  16477.60  15,866,000,000   \n",
       "166 2018-01-06  17462.10  17712.40  16764.60  17527.00  18,314,600,000   \n",
       "167 2018-01-05  15477.20  17705.20  15202.80  17429.50  23,840,900,000   \n",
       "168 2018-01-04  15270.70  15739.70  14522.20  15599.20  21,783,200,000   \n",
       "169 2018-01-03  14978.20  15572.80  14844.50  15201.00  16,871,900,000   \n",
       "170 2018-01-02  13625.00  15444.60  13163.60  14982.10  16,846,600,000   \n",
       "171 2018-01-01  14112.20  14112.20  13154.70  13657.20  10,291,200,000   \n",
       "\n",
       "          Market Cap  year  month  \n",
       "0    115,977,000,000  2018      6  \n",
       "1    115,804,000,000  2018      6  \n",
       "2    115,306,000,000  2018      6  \n",
       "3    111,319,000,000  2018      6  \n",
       "4    111,913,000,000  2018      6  \n",
       "5    110,359,000,000  2018      6  \n",
       "6    114,084,000,000  2018      6  \n",
       "7    108,408,000,000  2018      6  \n",
       "8    112,740,000,000  2018      6  \n",
       "9    118,007,000,000  2018      6  \n",
       "10   116,175,000,000  2018      6  \n",
       "11   128,128,000,000  2018      6  \n",
       "12   130,386,000,000  2018      6  \n",
       "13   131,271,000,000  2018      6  \n",
       "14   130,671,000,000  2018      6  \n",
       "15   130,233,000,000  2018      6  \n",
       "16   128,081,000,000  2018      6  \n",
       "17   131,847,000,000  2018      6  \n",
       "18   130,288,000,000  2018      6  \n",
       "19   128,645,000,000  2018      6  \n",
       "20   128,014,000,000  2018      6  \n",
       "21   126,386,000,000  2018      5  \n",
       "22   127,454,000,000  2018      5  \n",
       "23   121,636,000,000  2018      5  \n",
       "24   125,748,000,000  2018      5  \n",
       "25   125,575,000,000  2018      5  \n",
       "26   127,682,000,000  2018      5  \n",
       "27   129,470,000,000  2018      5  \n",
       "28   128,925,000,000  2018      5  \n",
       "29   137,024,000,000  2018      5  \n",
       "..               ...   ...    ...  \n",
       "142  190,339,000,000  2018      1  \n",
       "143  197,871,000,000  2018      1  \n",
       "144  193,133,000,000  2018      1  \n",
       "145  188,054,000,000  2018      1  \n",
       "146  189,398,000,000  2018      1  \n",
       "147  192,163,000,000  2018      1  \n",
       "148  183,419,000,000  2018      1  \n",
       "149  184,087,000,000  2018      1  \n",
       "150  195,645,000,000  2018      1  \n",
       "151  216,740,000,000  2018      1  \n",
       "152  195,979,000,000  2018      1  \n",
       "153  192,150,000,000  2018      1  \n",
       "154  188,242,000,000  2018      1  \n",
       "155  192,123,000,000  2018      1  \n",
       "156  232,517,000,000  2018      1  \n",
       "157  231,334,000,000  2018      1  \n",
       "158  241,447,000,000  2018      1  \n",
       "159  234,391,000,000  2018      1  \n",
       "160  225,986,000,000  2018      1  \n",
       "161  251,387,000,000  2018      1  \n",
       "162  244,981,000,000  2018      1  \n",
       "163  253,935,000,000  2018      1  \n",
       "164  276,612,000,000  2018      1  \n",
       "165  294,222,000,000  2018      1  \n",
       "166  293,091,000,000  2018      1  \n",
       "167  259,748,000,000  2018      1  \n",
       "168  256,250,000,000  2018      1  \n",
       "169  251,312,000,000  2018      1  \n",
       "170  228,579,000,000  2018      1  \n",
       "171  236,725,000,000  2018      1  \n",
       "\n",
       "[172 rows x 9 columns]"
      ]
     },
     "execution_count": 49,
     "metadata": {},
     "output_type": "execute_result"
    }
   ],
   "source": [
    "df_bitcoin_18 = df_bitcoin[df_bitcoin['year'] == 2018] \n",
    "df_bitcoin_18"
   ]
  },
  {
   "cell_type": "code",
   "execution_count": 50,
   "metadata": {},
   "outputs": [],
   "source": [
    "df_ripple_18 = df_ripple[df_ripple['year'] == 2018] "
   ]
  },
  {
   "cell_type": "code",
   "execution_count": 51,
   "metadata": {},
   "outputs": [],
   "source": [
    "df_ethereum_18 = df_ethereum[df_ethereum['year'] == 2018] "
   ]
  },
  {
   "cell_type": "code",
   "execution_count": 52,
   "metadata": {},
   "outputs": [],
   "source": [
    "df_bitcoin_cash_18 = df_bitcoin_cash[df_bitcoin_cash['year'] == 2018] "
   ]
  },
  {
   "cell_type": "code",
   "execution_count": 53,
   "metadata": {},
   "outputs": [],
   "source": [
    "df_bitcoin_18['daily return'] = (df_bitcoin_18['Close**'] - df_bitcoin_18['Open*'])/df_bitcoin_18['Open*']\n",
    "df_ripple_18['daily return'] = (df_ripple_18['Close**'] - df_ripple_18['Open*'])/df_ripple_18['Open*']\n",
    "df_ethereum_18['daily return'] = (df_ethereum_18['Close**'] - df_ethereum_18['Open*'])/df_ethereum_18['Open*']\n",
    "df_bitcoin_cash_18['daily return'] = (df_bitcoin_cash_18['Close**'] - df_bitcoin_cash_18['Open*'])/df_bitcoin_cash_18['Open*']"
   ]
  },
  {
   "cell_type": "code",
   "execution_count": null,
   "metadata": {},
   "outputs": [],
   "source": []
  },
  {
   "cell_type": "code",
   "execution_count": 54,
   "metadata": {},
   "outputs": [],
   "source": [
    "import statistics"
   ]
  },
  {
   "cell_type": "code",
   "execution_count": 55,
   "metadata": {},
   "outputs": [],
   "source": [
    "df_stats = pd.DataFrame(df_bitcoin_18['daily return'])"
   ]
  },
  {
   "cell_type": "code",
   "execution_count": 56,
   "metadata": {},
   "outputs": [],
   "source": [
    "df_stats.rename(columns={'daily return': 'bitcoin'}, inplace=True)"
   ]
  },
  {
   "cell_type": "code",
   "execution_count": 57,
   "metadata": {},
   "outputs": [
    {
     "data": {
      "text/plain": [
       "-0.003245142845082551"
      ]
     },
     "execution_count": 57,
     "metadata": {},
     "output_type": "execute_result"
    }
   ],
   "source": [
    "df_stats['bitcoin'].mean()"
   ]
  },
  {
   "cell_type": "code",
   "execution_count": 58,
   "metadata": {},
   "outputs": [],
   "source": [
    "df_stats['ripple'] = df_ripple_18['daily return']"
   ]
  },
  {
   "cell_type": "code",
   "execution_count": 59,
   "metadata": {},
   "outputs": [],
   "source": [
    "df_stats['ethereum'] = df_ethereum_18['daily return']\n",
    "df_stats['bitcoin_cash'] = df_bitcoin_cash_18['daily return']"
   ]
  },
  {
   "cell_type": "code",
   "execution_count": 60,
   "metadata": {},
   "outputs": [],
   "source": [
    "df_stats['bitcoin'] = df_stats['bitcoin'].apply(lambda x: x*100)\n",
    "df_stats['ripple'] = df_stats['ripple'].apply(lambda x: x*100)\n",
    "df_stats['ethereum'] = df_stats['ethereum'].apply(lambda x: x*100)\n",
    "df_stats['bitcoin_cash'] = df_stats['bitcoin_cash'].apply(lambda x: x*100)"
   ]
  },
  {
   "cell_type": "code",
   "execution_count": 61,
   "metadata": {},
   "outputs": [
    {
     "data": {
      "text/html": [
       "<div>\n",
       "<style>\n",
       "    .dataframe thead tr:only-child th {\n",
       "        text-align: right;\n",
       "    }\n",
       "\n",
       "    .dataframe thead th {\n",
       "        text-align: left;\n",
       "    }\n",
       "\n",
       "    .dataframe tbody tr th {\n",
       "        vertical-align: top;\n",
       "    }\n",
       "</style>\n",
       "<table border=\"1\" class=\"dataframe\">\n",
       "  <thead>\n",
       "    <tr style=\"text-align: right;\">\n",
       "      <th></th>\n",
       "      <th>bitcoin</th>\n",
       "      <th>ripple</th>\n",
       "      <th>ethereum</th>\n",
       "      <th>bitcoin_cash</th>\n",
       "    </tr>\n",
       "  </thead>\n",
       "  <tbody>\n",
       "    <tr>\n",
       "      <th>0</th>\n",
       "      <td>-0.742616</td>\n",
       "      <td>-0.825810</td>\n",
       "      <td>-1.692609</td>\n",
       "      <td>-1.858214</td>\n",
       "    </tr>\n",
       "    <tr>\n",
       "      <th>1</th>\n",
       "      <td>0.085515</td>\n",
       "      <td>-1.901269</td>\n",
       "      <td>-0.415963</td>\n",
       "      <td>-1.684866</td>\n",
       "    </tr>\n",
       "    <tr>\n",
       "      <th>2</th>\n",
       "      <td>0.408609</td>\n",
       "      <td>2.043579</td>\n",
       "      <td>3.649185</td>\n",
       "      <td>2.106119</td>\n",
       "    </tr>\n",
       "    <tr>\n",
       "      <th>3</th>\n",
       "      <td>3.452344</td>\n",
       "      <td>1.640445</td>\n",
       "      <td>3.906844</td>\n",
       "      <td>4.216237</td>\n",
       "    </tr>\n",
       "    <tr>\n",
       "      <th>4</th>\n",
       "      <td>-0.706742</td>\n",
       "      <td>-1.366855</td>\n",
       "      <td>0.198214</td>\n",
       "      <td>-0.112536</td>\n",
       "    </tr>\n",
       "    <tr>\n",
       "      <th>5</th>\n",
       "      <td>1.467132</td>\n",
       "      <td>-0.432317</td>\n",
       "      <td>1.882099</td>\n",
       "      <td>0.593749</td>\n",
       "    </tr>\n",
       "    <tr>\n",
       "      <th>6</th>\n",
       "      <td>-3.258876</td>\n",
       "      <td>-3.991522</td>\n",
       "      <td>-5.664002</td>\n",
       "      <td>-5.255290</td>\n",
       "    </tr>\n",
       "    <tr>\n",
       "      <th>7</th>\n",
       "      <td>5.243782</td>\n",
       "      <td>4.831772</td>\n",
       "      <td>8.645846</td>\n",
       "      <td>6.305367</td>\n",
       "    </tr>\n",
       "    <tr>\n",
       "      <th>8</th>\n",
       "      <td>-3.743891</td>\n",
       "      <td>-5.007062</td>\n",
       "      <td>-4.122324</td>\n",
       "      <td>-3.723386</td>\n",
       "    </tr>\n",
       "    <tr>\n",
       "      <th>9</th>\n",
       "      <td>-4.683875</td>\n",
       "      <td>-6.510655</td>\n",
       "      <td>-6.733495</td>\n",
       "      <td>-8.641369</td>\n",
       "    </tr>\n",
       "    <tr>\n",
       "      <th>10</th>\n",
       "      <td>1.582959</td>\n",
       "      <td>3.048117</td>\n",
       "      <td>1.604237</td>\n",
       "      <td>2.232224</td>\n",
       "    </tr>\n",
       "    <tr>\n",
       "      <th>11</th>\n",
       "      <td>-9.514304</td>\n",
       "      <td>-10.824334</td>\n",
       "      <td>-11.419197</td>\n",
       "      <td>-13.601420</td>\n",
       "    </tr>\n",
       "    <tr>\n",
       "      <th>12</th>\n",
       "      <td>-1.317258</td>\n",
       "      <td>-2.226362</td>\n",
       "      <td>-0.555833</td>\n",
       "      <td>-2.257126</td>\n",
       "    </tr>\n",
       "    <tr>\n",
       "      <th>13</th>\n",
       "      <td>-0.783590</td>\n",
       "      <td>-0.478611</td>\n",
       "      <td>-0.720137</td>\n",
       "      <td>-2.370475</td>\n",
       "    </tr>\n",
       "    <tr>\n",
       "      <th>14</th>\n",
       "      <td>0.358393</td>\n",
       "      <td>0.416844</td>\n",
       "      <td>-0.411394</td>\n",
       "      <td>0.757609</td>\n",
       "    </tr>\n",
       "    <tr>\n",
       "      <th>15</th>\n",
       "      <td>0.367298</td>\n",
       "      <td>-0.457884</td>\n",
       "      <td>-0.514535</td>\n",
       "      <td>-2.260375</td>\n",
       "    </tr>\n",
       "    <tr>\n",
       "      <th>16</th>\n",
       "      <td>1.771254</td>\n",
       "      <td>2.283887</td>\n",
       "      <td>2.677744</td>\n",
       "      <td>3.857414</td>\n",
       "    </tr>\n",
       "    <tr>\n",
       "      <th>17</th>\n",
       "      <td>-2.694195</td>\n",
       "      <td>-4.482675</td>\n",
       "      <td>-4.269986</td>\n",
       "      <td>-5.550146</td>\n",
       "    </tr>\n",
       "    <tr>\n",
       "      <th>18</th>\n",
       "      <td>1.155123</td>\n",
       "      <td>4.319627</td>\n",
       "      <td>4.578358</td>\n",
       "      <td>8.057205</td>\n",
       "    </tr>\n",
       "    <tr>\n",
       "      <th>19</th>\n",
       "      <td>1.416133</td>\n",
       "      <td>3.206130</td>\n",
       "      <td>1.960615</td>\n",
       "      <td>8.117967</td>\n",
       "    </tr>\n",
       "    <tr>\n",
       "      <th>20</th>\n",
       "      <td>0.543283</td>\n",
       "      <td>1.708455</td>\n",
       "      <td>0.236750</td>\n",
       "      <td>0.729165</td>\n",
       "    </tr>\n",
       "    <tr>\n",
       "      <th>21</th>\n",
       "      <td>1.188472</td>\n",
       "      <td>1.519591</td>\n",
       "      <td>3.427037</td>\n",
       "      <td>1.196661</td>\n",
       "    </tr>\n",
       "    <tr>\n",
       "      <th>22</th>\n",
       "      <td>-0.846215</td>\n",
       "      <td>0.339203</td>\n",
       "      <td>-1.277279</td>\n",
       "      <td>-0.544406</td>\n",
       "    </tr>\n",
       "    <tr>\n",
       "      <th>23</th>\n",
       "      <td>4.812847</td>\n",
       "      <td>8.120536</td>\n",
       "      <td>9.539862</td>\n",
       "      <td>10.125439</td>\n",
       "    </tr>\n",
       "    <tr>\n",
       "      <th>24</th>\n",
       "      <td>-3.192377</td>\n",
       "      <td>-9.216297</td>\n",
       "      <td>-9.946950</td>\n",
       "      <td>-10.488135</td>\n",
       "    </tr>\n",
       "    <tr>\n",
       "      <th>25</th>\n",
       "      <td>0.083400</td>\n",
       "      <td>-0.679531</td>\n",
       "      <td>-2.693196</td>\n",
       "      <td>-1.216805</td>\n",
       "    </tr>\n",
       "    <tr>\n",
       "      <th>26</th>\n",
       "      <td>-1.744478</td>\n",
       "      <td>0.424508</td>\n",
       "      <td>-0.025535</td>\n",
       "      <td>-0.315060</td>\n",
       "    </tr>\n",
       "    <tr>\n",
       "      <th>27</th>\n",
       "      <td>-1.477286</td>\n",
       "      <td>-3.463765</td>\n",
       "      <td>-2.559206</td>\n",
       "      <td>-5.168074</td>\n",
       "    </tr>\n",
       "    <tr>\n",
       "      <th>28</th>\n",
       "      <td>0.346774</td>\n",
       "      <td>5.472232</td>\n",
       "      <td>2.944195</td>\n",
       "      <td>6.601924</td>\n",
       "    </tr>\n",
       "    <tr>\n",
       "      <th>29</th>\n",
       "      <td>-5.963111</td>\n",
       "      <td>-7.560504</td>\n",
       "      <td>-9.754589</td>\n",
       "      <td>-11.962355</td>\n",
       "    </tr>\n",
       "    <tr>\n",
       "      <th>...</th>\n",
       "      <td>...</td>\n",
       "      <td>...</td>\n",
       "      <td>...</td>\n",
       "      <td>...</td>\n",
       "    </tr>\n",
       "    <tr>\n",
       "      <th>142</th>\n",
       "      <td>-10.617505</td>\n",
       "      <td>-14.285714</td>\n",
       "      <td>-9.542871</td>\n",
       "      <td>-11.289204</td>\n",
       "    </tr>\n",
       "    <tr>\n",
       "      <th>143</th>\n",
       "      <td>-3.905406</td>\n",
       "      <td>-5.714286</td>\n",
       "      <td>-5.160825</td>\n",
       "      <td>-5.054545</td>\n",
       "    </tr>\n",
       "    <tr>\n",
       "      <th>144</th>\n",
       "      <td>2.710169</td>\n",
       "      <td>14.754098</td>\n",
       "      <td>12.073432</td>\n",
       "      <td>6.712254</td>\n",
       "    </tr>\n",
       "    <tr>\n",
       "      <th>145</th>\n",
       "      <td>2.378545</td>\n",
       "      <td>0.000000</td>\n",
       "      <td>4.860999</td>\n",
       "      <td>1.630577</td>\n",
       "    </tr>\n",
       "    <tr>\n",
       "      <th>146</th>\n",
       "      <td>-0.751599</td>\n",
       "      <td>-6.870229</td>\n",
       "      <td>0.234635</td>\n",
       "      <td>-2.033362</td>\n",
       "    </tr>\n",
       "    <tr>\n",
       "      <th>147</th>\n",
       "      <td>-1.420979</td>\n",
       "      <td>-3.676471</td>\n",
       "      <td>-0.676248</td>\n",
       "      <td>-1.139045</td>\n",
       "    </tr>\n",
       "    <tr>\n",
       "      <th>148</th>\n",
       "      <td>4.182182</td>\n",
       "      <td>0.740741</td>\n",
       "      <td>7.220399</td>\n",
       "      <td>1.046759</td>\n",
       "    </tr>\n",
       "    <tr>\n",
       "      <th>149</th>\n",
       "      <td>-0.695326</td>\n",
       "      <td>-0.740741</td>\n",
       "      <td>-1.786550</td>\n",
       "      <td>-0.103503</td>\n",
       "    </tr>\n",
       "    <tr>\n",
       "      <th>150</th>\n",
       "      <td>-6.031926</td>\n",
       "      <td>-2.158273</td>\n",
       "      <td>-4.935803</td>\n",
       "      <td>-9.615149</td>\n",
       "    </tr>\n",
       "    <tr>\n",
       "      <th>151</th>\n",
       "      <td>-10.001397</td>\n",
       "      <td>-12.658228</td>\n",
       "      <td>-9.180742</td>\n",
       "      <td>-12.640016</td>\n",
       "    </tr>\n",
       "    <tr>\n",
       "      <th>152</th>\n",
       "      <td>10.663853</td>\n",
       "      <td>1.282051</td>\n",
       "      <td>10.545959</td>\n",
       "      <td>13.891473</td>\n",
       "    </tr>\n",
       "    <tr>\n",
       "      <th>153</th>\n",
       "      <td>1.553833</td>\n",
       "      <td>-1.898734</td>\n",
       "      <td>0.999203</td>\n",
       "      <td>1.692363</td>\n",
       "    </tr>\n",
       "    <tr>\n",
       "      <th>154</th>\n",
       "      <td>2.465443</td>\n",
       "      <td>22.137405</td>\n",
       "      <td>1.951911</td>\n",
       "      <td>0.255668</td>\n",
       "    </tr>\n",
       "    <tr>\n",
       "      <th>155</th>\n",
       "      <td>-2.121406</td>\n",
       "      <td>11.016949</td>\n",
       "      <td>-4.436844</td>\n",
       "      <td>-1.104900</td>\n",
       "    </tr>\n",
       "    <tr>\n",
       "      <th>156</th>\n",
       "      <td>-16.952754</td>\n",
       "      <td>-29.761905</td>\n",
       "      <td>-18.484795</td>\n",
       "      <td>-26.374197</td>\n",
       "    </tr>\n",
       "    <tr>\n",
       "      <th>157</th>\n",
       "      <td>0.381338</td>\n",
       "      <td>-9.677419</td>\n",
       "      <td>-5.368405</td>\n",
       "      <td>-5.509958</td>\n",
       "    </tr>\n",
       "    <tr>\n",
       "      <th>158</th>\n",
       "      <td>-4.166783</td>\n",
       "      <td>-7.920792</td>\n",
       "      <td>-2.197527</td>\n",
       "      <td>-4.978601</td>\n",
       "    </tr>\n",
       "    <tr>\n",
       "      <th>159</th>\n",
       "      <td>2.922795</td>\n",
       "      <td>-1.463415</td>\n",
       "      <td>9.913654</td>\n",
       "      <td>2.583605</td>\n",
       "    </tr>\n",
       "    <tr>\n",
       "      <th>160</th>\n",
       "      <td>3.914850</td>\n",
       "      <td>5.154639</td>\n",
       "      <td>9.920659</td>\n",
       "      <td>5.860091</td>\n",
       "    </tr>\n",
       "    <tr>\n",
       "      <th>161</th>\n",
       "      <td>-10.438129</td>\n",
       "      <td>-1.515152</td>\n",
       "      <td>-8.923657</td>\n",
       "      <td>-14.834258</td>\n",
       "    </tr>\n",
       "    <tr>\n",
       "      <th>162</th>\n",
       "      <td>2.637694</td>\n",
       "      <td>-7.511737</td>\n",
       "      <td>-3.423720</td>\n",
       "      <td>21.144593</td>\n",
       "    </tr>\n",
       "    <tr>\n",
       "      <th>163</th>\n",
       "      <td>-3.493193</td>\n",
       "      <td>-13.934426</td>\n",
       "      <td>13.415358</td>\n",
       "      <td>-0.862226</td>\n",
       "    </tr>\n",
       "    <tr>\n",
       "      <th>164</th>\n",
       "      <td>-7.927192</td>\n",
       "      <td>-26.785714</td>\n",
       "      <td>-0.840053</td>\n",
       "      <td>-13.103065</td>\n",
       "    </tr>\n",
       "    <tr>\n",
       "      <th>165</th>\n",
       "      <td>-5.988943</td>\n",
       "      <td>9.385113</td>\n",
       "      <td>10.561740</td>\n",
       "      <td>0.079004</td>\n",
       "    </tr>\n",
       "    <tr>\n",
       "      <th>166</th>\n",
       "      <td>0.371662</td>\n",
       "      <td>2.317881</td>\n",
       "      <td>4.675677</td>\n",
       "      <td>7.854597</td>\n",
       "    </tr>\n",
       "    <tr>\n",
       "      <th>167</th>\n",
       "      <td>12.614039</td>\n",
       "      <td>-7.575758</td>\n",
       "      <td>2.251601</td>\n",
       "      <td>7.653474</td>\n",
       "    </tr>\n",
       "    <tr>\n",
       "      <th>168</th>\n",
       "      <td>2.151178</td>\n",
       "      <td>2.564103</td>\n",
       "      <td>1.997484</td>\n",
       "      <td>-6.849326</td>\n",
       "    </tr>\n",
       "    <tr>\n",
       "      <th>169</th>\n",
       "      <td>1.487495</td>\n",
       "      <td>26.422764</td>\n",
       "      <td>8.659142</td>\n",
       "      <td>-3.401529</td>\n",
       "    </tr>\n",
       "    <tr>\n",
       "      <th>170</th>\n",
       "      <td>9.960367</td>\n",
       "      <td>4.641350</td>\n",
       "      <td>14.512850</td>\n",
       "      <td>11.357568</td>\n",
       "    </tr>\n",
       "    <tr>\n",
       "      <th>171</th>\n",
       "      <td>-3.224161</td>\n",
       "      <td>3.913043</td>\n",
       "      <td>2.233513</td>\n",
       "      <td>-4.035001</td>\n",
       "    </tr>\n",
       "  </tbody>\n",
       "</table>\n",
       "<p>172 rows × 4 columns</p>\n",
       "</div>"
      ],
      "text/plain": [
       "       bitcoin     ripple   ethereum  bitcoin_cash\n",
       "0    -0.742616  -0.825810  -1.692609     -1.858214\n",
       "1     0.085515  -1.901269  -0.415963     -1.684866\n",
       "2     0.408609   2.043579   3.649185      2.106119\n",
       "3     3.452344   1.640445   3.906844      4.216237\n",
       "4    -0.706742  -1.366855   0.198214     -0.112536\n",
       "5     1.467132  -0.432317   1.882099      0.593749\n",
       "6    -3.258876  -3.991522  -5.664002     -5.255290\n",
       "7     5.243782   4.831772   8.645846      6.305367\n",
       "8    -3.743891  -5.007062  -4.122324     -3.723386\n",
       "9    -4.683875  -6.510655  -6.733495     -8.641369\n",
       "10    1.582959   3.048117   1.604237      2.232224\n",
       "11   -9.514304 -10.824334 -11.419197    -13.601420\n",
       "12   -1.317258  -2.226362  -0.555833     -2.257126\n",
       "13   -0.783590  -0.478611  -0.720137     -2.370475\n",
       "14    0.358393   0.416844  -0.411394      0.757609\n",
       "15    0.367298  -0.457884  -0.514535     -2.260375\n",
       "16    1.771254   2.283887   2.677744      3.857414\n",
       "17   -2.694195  -4.482675  -4.269986     -5.550146\n",
       "18    1.155123   4.319627   4.578358      8.057205\n",
       "19    1.416133   3.206130   1.960615      8.117967\n",
       "20    0.543283   1.708455   0.236750      0.729165\n",
       "21    1.188472   1.519591   3.427037      1.196661\n",
       "22   -0.846215   0.339203  -1.277279     -0.544406\n",
       "23    4.812847   8.120536   9.539862     10.125439\n",
       "24   -3.192377  -9.216297  -9.946950    -10.488135\n",
       "25    0.083400  -0.679531  -2.693196     -1.216805\n",
       "26   -1.744478   0.424508  -0.025535     -0.315060\n",
       "27   -1.477286  -3.463765  -2.559206     -5.168074\n",
       "28    0.346774   5.472232   2.944195      6.601924\n",
       "29   -5.963111  -7.560504  -9.754589    -11.962355\n",
       "..         ...        ...        ...           ...\n",
       "142 -10.617505 -14.285714  -9.542871    -11.289204\n",
       "143  -3.905406  -5.714286  -5.160825     -5.054545\n",
       "144   2.710169  14.754098  12.073432      6.712254\n",
       "145   2.378545   0.000000   4.860999      1.630577\n",
       "146  -0.751599  -6.870229   0.234635     -2.033362\n",
       "147  -1.420979  -3.676471  -0.676248     -1.139045\n",
       "148   4.182182   0.740741   7.220399      1.046759\n",
       "149  -0.695326  -0.740741  -1.786550     -0.103503\n",
       "150  -6.031926  -2.158273  -4.935803     -9.615149\n",
       "151 -10.001397 -12.658228  -9.180742    -12.640016\n",
       "152  10.663853   1.282051  10.545959     13.891473\n",
       "153   1.553833  -1.898734   0.999203      1.692363\n",
       "154   2.465443  22.137405   1.951911      0.255668\n",
       "155  -2.121406  11.016949  -4.436844     -1.104900\n",
       "156 -16.952754 -29.761905 -18.484795    -26.374197\n",
       "157   0.381338  -9.677419  -5.368405     -5.509958\n",
       "158  -4.166783  -7.920792  -2.197527     -4.978601\n",
       "159   2.922795  -1.463415   9.913654      2.583605\n",
       "160   3.914850   5.154639   9.920659      5.860091\n",
       "161 -10.438129  -1.515152  -8.923657    -14.834258\n",
       "162   2.637694  -7.511737  -3.423720     21.144593\n",
       "163  -3.493193 -13.934426  13.415358     -0.862226\n",
       "164  -7.927192 -26.785714  -0.840053    -13.103065\n",
       "165  -5.988943   9.385113  10.561740      0.079004\n",
       "166   0.371662   2.317881   4.675677      7.854597\n",
       "167  12.614039  -7.575758   2.251601      7.653474\n",
       "168   2.151178   2.564103   1.997484     -6.849326\n",
       "169   1.487495  26.422764   8.659142     -3.401529\n",
       "170   9.960367   4.641350  14.512850     11.357568\n",
       "171  -3.224161   3.913043   2.233513     -4.035001\n",
       "\n",
       "[172 rows x 4 columns]"
      ]
     },
     "execution_count": 61,
     "metadata": {},
     "output_type": "execute_result"
    }
   ],
   "source": [
    "df_stats  ##172 samples"
   ]
  },
  {
   "cell_type": "code",
   "execution_count": 62,
   "metadata": {},
   "outputs": [
    {
     "data": {
      "text/html": [
       "<div>\n",
       "<style>\n",
       "    .dataframe thead tr:only-child th {\n",
       "        text-align: right;\n",
       "    }\n",
       "\n",
       "    .dataframe thead th {\n",
       "        text-align: left;\n",
       "    }\n",
       "\n",
       "    .dataframe tbody tr th {\n",
       "        vertical-align: top;\n",
       "    }\n",
       "</style>\n",
       "<table border=\"1\" class=\"dataframe\">\n",
       "  <thead>\n",
       "    <tr style=\"text-align: right;\">\n",
       "      <th></th>\n",
       "      <th>bitcoin</th>\n",
       "      <th>ripple</th>\n",
       "      <th>ethereum</th>\n",
       "      <th>bitcoin_cash</th>\n",
       "    </tr>\n",
       "  </thead>\n",
       "  <tbody>\n",
       "    <tr>\n",
       "      <th>bitcoin</th>\n",
       "      <td>1.000000</td>\n",
       "      <td>0.695727</td>\n",
       "      <td>0.813283</td>\n",
       "      <td>0.793976</td>\n",
       "    </tr>\n",
       "    <tr>\n",
       "      <th>ripple</th>\n",
       "      <td>0.695727</td>\n",
       "      <td>1.000000</td>\n",
       "      <td>0.728771</td>\n",
       "      <td>0.637046</td>\n",
       "    </tr>\n",
       "    <tr>\n",
       "      <th>ethereum</th>\n",
       "      <td>0.813283</td>\n",
       "      <td>0.728771</td>\n",
       "      <td>1.000000</td>\n",
       "      <td>0.748101</td>\n",
       "    </tr>\n",
       "    <tr>\n",
       "      <th>bitcoin_cash</th>\n",
       "      <td>0.793976</td>\n",
       "      <td>0.637046</td>\n",
       "      <td>0.748101</td>\n",
       "      <td>1.000000</td>\n",
       "    </tr>\n",
       "  </tbody>\n",
       "</table>\n",
       "</div>"
      ],
      "text/plain": [
       "               bitcoin    ripple  ethereum  bitcoin_cash\n",
       "bitcoin       1.000000  0.695727  0.813283      0.793976\n",
       "ripple        0.695727  1.000000  0.728771      0.637046\n",
       "ethereum      0.813283  0.728771  1.000000      0.748101\n",
       "bitcoin_cash  0.793976  0.637046  0.748101      1.000000"
      ]
     },
     "execution_count": 62,
     "metadata": {},
     "output_type": "execute_result"
    }
   ],
   "source": [
    "#correlation matrix\n",
    "correlation = df_stats.corr(method='pearson')\n",
    "correlation"
   ]
  },
  {
   "cell_type": "code",
   "execution_count": 63,
   "metadata": {},
   "outputs": [
    {
     "data": {
      "text/plain": [
       "<matplotlib.image.AxesImage at 0xcfeb518>"
      ]
     },
     "execution_count": 63,
     "metadata": {},
     "output_type": "execute_result"
    },
    {
     "data": {
      "image/png": "[encoded data removed]",
      "text/plain": [
       "<matplotlib.figure.Figure at 0xd1373c8>"
      ]
     },
     "metadata": {},
     "output_type": "display_data"
    }
   ],
   "source": [
    "plt.matshow(df_stats.corr())\n"
   ]
  },
  {
   "cell_type": "code",
   "execution_count": 64,
   "metadata": {},
   "outputs": [],
   "source": [
    "eth_mean = df_stats['ethereum'].mean()\n",
    "rip_mean = df_stats['ripple'].mean()\n",
    "bcash_mean=df_stats['bitcoin_cash'].mean()\n",
    "bitc_mean = df_stats['bitcoin'].mean()"
   ]
  },
  {
   "cell_type": "code",
   "execution_count": 65,
   "metadata": {},
   "outputs": [
    {
     "name": "stdout",
     "output_type": "stream",
     "text": [
      "-0.07128486099474333 is ethereum mean\n",
      "-0.5740067123932519 is ripple mean\n",
      "-0.32242627893095455 is bitcoin-cash mean\n",
      "-0.3245142845082551 is bitcoin mean\n"
     ]
    }
   ],
   "source": [
    "print(\"%s is ethereum mean\" %(eth_mean))\n",
    "print(\"%s is ripple mean\" %(rip_mean))\n",
    "print(\"%s is bitcoin-cash mean\" %(bcash_mean))\n",
    "print(\"%s is bitcoin mean\" %(bitc_mean))"
   ]
  },
  {
   "cell_type": "code",
   "execution_count": 66,
   "metadata": {},
   "outputs": [],
   "source": [
    "eth_std = df_stats['ethereum'].std()\n",
    "rip_std = df_stats['ripple'].std()\n",
    "bcash_std = df_stats['bitcoin_cash'].std()\n",
    "bitc_std = df_stats['bitcoin'].std()"
   ]
  },
  {
   "cell_type": "code",
   "execution_count": 67,
   "metadata": {},
   "outputs": [
    {
     "name": "stdout",
     "output_type": "stream",
     "text": [
      "5.997602156069697 is ethereum std dev\n",
      "7.50505884884237 is ripple std dev\n",
      "7.728007610164524 is bitcoin-cash std dev\n",
      "4.990637261693937 is bitcoin std dev\n"
     ]
    }
   ],
   "source": [
    "print(\"%s is ethereum std dev\" %(eth_std))\n",
    "print(\"%s is ripple std dev\" %(rip_std))\n",
    "print(\"%s is bitcoin-cash std dev\" %(bcash_std))\n",
    "print(\"%s is bitcoin std dev\" %(bitc_std))"
   ]
  },
  {
   "cell_type": "code",
   "execution_count": 68,
   "metadata": {},
   "outputs": [],
   "source": [
    "eth_var = eth_std*eth_std\n",
    "rip_var = rip_std*rip_std\n",
    "bcash_var = bcash_std*bcash_std\n",
    "bitc_var = (bitc_std)*(bitc_std)"
   ]
  },
  {
   "cell_type": "code",
   "execution_count": null,
   "metadata": {},
   "outputs": [],
   "source": [
    "##Average Daily return of Ethereum is highest but variance of Bitcoin is lowest\n",
    "# If we test the equality of variance of Bitcoin and Ethereum, we can find out the cryptocurrency which give highest returns at lowest variance\n",
    "# We will perform F-test"
   ]
  },
  {
   "cell_type": "code",
   "execution_count": 124,
   "metadata": {},
   "outputs": [],
   "source": [
    "#Null Hypothesis - Variance of Ripple and Bitcoin is same\n",
    "#Alternative Hypothesis - Variance of Ripple and Bitcoin are same"
   ]
  },
  {
   "cell_type": "code",
   "execution_count": 69,
   "metadata": {},
   "outputs": [],
   "source": [
    "F_test = (eth_var/bitc_var)"
   ]
  },
  {
   "cell_type": "code",
   "execution_count": 70,
   "metadata": {},
   "outputs": [
    {
     "name": "stdout",
     "output_type": "stream",
     "text": [
      "Fail to reject null hypothesis that Var(X) == Var(Y)\n"
     ]
    }
   ],
   "source": [
    "import scipy.stats as stats\n",
    "alpha = 0.05 #Or whatever you want your alpha to be.\n",
    "p_value = stats.f.cdf(F_test, 170, 170)\n",
    "if p_value < alpha:\n",
    "    print(\" Reject the null hypothesis that Var(X) != Var(Y)\")\n",
    "else:\n",
    "    print(\"Fail to reject null hypothesis that Var(X) == Var(Y)\")"
   ]
  },
  {
   "cell_type": "code",
   "execution_count": null,
   "metadata": {},
   "outputs": [],
   "source": [
    "#Conclusion - Variance of Ripple and Bitcoin is same.\n",
    "#Hence, to get highest returns at lowest variance , choose Ethereum\n",
    "#Ethereum cryptocurrency is better than other four currencies a"
   ]
  },
  {
   "cell_type": "code",
   "execution_count": 71,
   "metadata": {},
   "outputs": [],
   "source": [
    "import scipy.stats as stats"
   ]
  },
  {
   "cell_type": "code",
   "execution_count": null,
   "metadata": {},
   "outputs": [],
   "source": [
    "#Null Hypothesis - mean of daily returns of all cryptocurrencies are equal\n",
    "#Alternative Hypothesis - mean of daily returns of at least one cryptocurrencies is different"
   ]
  },
  {
   "cell_type": "code",
   "execution_count": 72,
   "metadata": {},
   "outputs": [
    {
     "data": {
      "text/plain": [
       "F_onewayResult(statistic=0.16379913893317263, pvalue=0.92073735449778527)"
      ]
     },
     "execution_count": 72,
     "metadata": {},
     "output_type": "execute_result"
    }
   ],
   "source": [
    "stats.f_oneway(df_stats['bitcoin'], df_stats['ripple'], df_stats['ethereum'], df_stats['bitcoin_cash'])"
   ]
  },
  {
   "cell_type": "code",
   "execution_count": null,
   "metadata": {},
   "outputs": [],
   "source": [
    "#Conclusion - We will accept Null Hypothesis as probability of error of making Type-1 error is 0.92"
   ]
  },
  {
   "cell_type": "code",
   "execution_count": 73,
   "metadata": {},
   "outputs": [
    {
     "data": {
      "text/plain": [
       "<matplotlib.axes._subplots.AxesSubplot at 0xcd1fe80>"
      ]
     },
     "execution_count": 73,
     "metadata": {},
     "output_type": "execute_result"
    },
    {
     "data": {
      "text/plain": [
       "(array([  2.,   1.,   4.,   5.,   8.,  17.,  24.,  34.,  29.,  20.,   8.,\n",
       "          9.,   7.,   4.]),\n",
       " array([-18.48479457, -16.12198285, -13.75917113, -11.39635942,\n",
       "         -9.0335477 ,  -6.67073598,  -4.30792427,  -1.94511255,\n",
       "          0.41769916,   2.78051088,   5.1433226 ,   7.50613431,\n",
       "          9.86894603,  12.23175775,  14.59456946]),\n",
       " <a list of 14 Patch objects>)"
      ]
     },
     "execution_count": 73,
     "metadata": {},
     "output_type": "execute_result"
    },
    {
     "data": {
      "text/plain": [
       "<matplotlib.text.Text at 0xd164518>"
      ]
     },
     "execution_count": 73,
     "metadata": {},
     "output_type": "execute_result"
    },
    {
     "data": {
      "text/plain": [
       "<matplotlib.axes._subplots.AxesSubplot at 0xc356e48>"
      ]
     },
     "execution_count": 73,
     "metadata": {},
     "output_type": "execute_result"
    },
    {
     "data": {
      "text/plain": [
       "(array([  2.,   0.,   0.,   8.,   4.,  12.,  22.,  28.,  34.,  27.,  17.,\n",
       "          7.,   4.,   5.,   2.]),\n",
       " array([-16.95275403, -14.92746477, -12.90217551, -10.87688624,\n",
       "         -8.85159698,  -6.82630772,  -4.80101846,  -2.7757292 ,\n",
       "         -0.75043994,   1.27484932,   3.30013858,   5.32542784,\n",
       "          7.35071711,   9.37600637,  11.40129563,  13.42658489]),\n",
       " <a list of 15 Patch objects>)"
      ]
     },
     "execution_count": 73,
     "metadata": {},
     "output_type": "execute_result"
    },
    {
     "data": {
      "text/plain": [
       "<matplotlib.text.Text at 0xcccd160>"
      ]
     },
     "execution_count": 73,
     "metadata": {},
     "output_type": "execute_result"
    },
    {
     "data": {
      "text/plain": [
       "<matplotlib.axes._subplots.AxesSubplot at 0xc75a940>"
      ]
     },
     "execution_count": 73,
     "metadata": {},
     "output_type": "execute_result"
    },
    {
     "data": {
      "text/plain": [
       "(array([  1.,   1.,   0.,   0.,   1.,   1.,   4.,   7.,   9.,  26.,  21.,\n",
       "         36.,  29.,  10.,   9.,   6.,   5.,   1.,   2.,   1.,   1.,   1.]),\n",
       " array([-29.76190476, -27.20805617, -24.65420758, -22.10035899,\n",
       "        -19.5465104 , -16.99266181, -14.43881322, -11.88496463,\n",
       "         -9.33111604,  -6.77726745,  -4.22341886,  -1.66957027,\n",
       "          0.88427832,   3.43812691,   5.9919755 ,   8.54582409,\n",
       "         11.09967269,  13.65352128,  16.20736987,  18.76121846,\n",
       "         21.31506705,  23.86891564,  26.42276423]),\n",
       " <a list of 22 Patch objects>)"
      ]
     },
     "execution_count": 73,
     "metadata": {},
     "output_type": "execute_result"
    },
    {
     "data": {
      "text/plain": [
       "<matplotlib.text.Text at 0xcf736a0>"
      ]
     },
     "execution_count": 73,
     "metadata": {},
     "output_type": "execute_result"
    },
    {
     "data": {
      "text/plain": [
       "<matplotlib.axes._subplots.AxesSubplot at 0x115f78d0>"
      ]
     },
     "execution_count": 73,
     "metadata": {},
     "output_type": "execute_result"
    },
    {
     "data": {
      "text/plain": [
       "(array([  2.,   0.,   0.,   2.,   5.,   7.,  18.,  26.,  34.,  31.,  15.,\n",
       "         15.,   8.,   3.,   3.,   1.,   1.,   0.,   0.,   0.,   1.]),\n",
       " array([-26.37419709, -23.45191403, -20.52963097, -17.60734791,\n",
       "        -14.68506485, -11.76278179,  -8.84049873,  -5.91821567,\n",
       "         -2.99593261,  -0.07364955,   2.84863351,   5.77091657,\n",
       "          8.69319963,  11.61548269,  14.53776575,  17.46004882,\n",
       "         20.38233188,  23.30461494,  26.226898  ,  29.14918106,\n",
       "         32.07146412,  34.99374718]),\n",
       " <a list of 21 Patch objects>)"
      ]
     },
     "execution_count": 73,
     "metadata": {},
     "output_type": "execute_result"
    },
    {
     "data": {
      "text/plain": [
       "<matplotlib.text.Text at 0x114bda90>"
      ]
     },
     "execution_count": 73,
     "metadata": {},
     "output_type": "execute_result"
    },
    {
     "data": {
      "image/png": "[encoded data removed]",
      "text/plain": [
       "<matplotlib.figure.Figure at 0xcceb908>"
      ]
     },
     "metadata": {},
     "output_type": "display_data"
    }
   ],
   "source": [
    "import matplotlib.pyplot as plt\n",
    "%matplotlib inline\n",
    "from matplotlib import rcParams\n",
    "rcParams['axes.titlepad'] = 0.1 \n",
    "plt.subplot(221)\n",
    "plt.hist(df_stats['ethereum'], bins='auto')  # arguments are passed to np.histogram\n",
    "plt.title(\"Histogram of ethereum\")\n",
    "plt.subplot(222)\n",
    "plt.hist(df_stats['bitcoin'], bins='auto')  # arguments are passed to np.histogram\n",
    "plt.title(\"Histogram of bitcoin\")\n",
    "plt.subplot(223)\n",
    "plt.hist(df_stats['ripple'], bins='auto')  # arguments are passed to np.histogram\n",
    "plt.title(\"Histogram of ripple\")\n",
    "plt.subplot(224)\n",
    "plt.hist(df_stats['bitcoin_cash'], bins='auto')  # arguments are passed to np.histogram\n",
    "plt.title(\"Histogram of bitcoin_cash\")"
   ]
  },
  {
   "cell_type": "code",
   "execution_count": 74,
   "metadata": {},
   "outputs": [],
   "source": [
    "df_bitcoin.rename(columns={'Open*': 'Open'}, inplace=True)\n",
    "df_bitcoin.rename(columns={'Close**': 'Close'}, inplace=True)"
   ]
  },
  {
   "cell_type": "code",
   "execution_count": 79,
   "metadata": {},
   "outputs": [],
   "source": [
    "df_bitcoin_30  = df_bitcoin.iloc[:30,:]"
   ]
  },
  {
   "cell_type": "code",
   "execution_count": 75,
   "metadata": {},
   "outputs": [],
   "source": [
    "import plotly\n",
    "plotly.tools.set_credentials_file(username='vin725k', api_key='qZhPaNKbCeQTKHQAsCU6')"
   ]
  },
  {
   "cell_type": "code",
   "execution_count": 81,
   "metadata": {},
   "outputs": [
    {
     "data": {
      "text/html": [
       "<iframe id=\"igraph\" scrolling=\"no\" style=\"border:none;\" seamless=\"seamless\" src=\"https://plot.ly/~vin725k/2.embed\" height=\"525px\" width=\"100%\"></iframe>"
      ],
      "text/plain": [
       "<plotly.tools.PlotlyDisplay object>"
      ]
     },
     "execution_count": 81,
     "metadata": {},
     "output_type": "execute_result"
    }
   ],
   "source": [
    "\n",
    "import plotly.plotly as py\n",
    "import plotly.graph_objs as go\n",
    "\n",
    "import pandas_datareader as web\n",
    "from datetime import datetime\n",
    "\n",
    "df = web.DataReader(\"aapl\", 'morningstar').reset_index()\n",
    "\n",
    "trace = go.Candlestick(x=df_bitcoin_30.Date,\n",
    "                       open=df_bitcoin_30.Open,\n",
    "                       high=df_bitcoin_30.High,\n",
    "                       low=df_bitcoin_30.Low,\n",
    "                       close=df_bitcoin_30.Close,\n",
    "                       increasing=dict(line=dict(color= '#17BECF')),\n",
    "                       decreasing=dict(line=dict(color= '#7F7F7F')))\n",
    "data = [trace]\n",
    "py.iplot(data, filename='styled_candlestick')"
   ]
  },
  {
   "cell_type": "code",
   "execution_count": 77,
   "metadata": {},
   "outputs": [
    {
     "data": {
      "text/html": [
       "<iframe id=\"igraph\" scrolling=\"no\" style=\"border:none;\" seamless=\"seamless\" src=\"https://plot.ly/~vin725k/4.embed\" height=\"525px\" width=\"100%\"></iframe>"
      ],
      "text/plain": [
       "<plotly.tools.PlotlyDisplay object>"
      ]
     },
     "execution_count": 77,
     "metadata": {},
     "output_type": "execute_result"
    }
   ],
   "source": [
    "\n",
    "data = [go.Scatter( x=df_bitcoin['Date'], y=df_bitcoin['Close'] )]\n",
    "\n",
    "py.iplot(data, filename='pandas-time-series')"
   ]
  },
  {
   "cell_type": "code",
   "execution_count": null,
   "metadata": {},
   "outputs": [],
   "source": [
    "##COMPARING THE LOW AND HIGH POINTS WITH THE SENTIMENT SCORE FROM ARTICLES OF THOSE DAYS"
   ]
  },
  {
   "cell_type": "code",
   "execution_count": 82,
   "metadata": {},
   "outputs": [],
   "source": [
    "from selenium import webdriver\n",
    "from selenium.webdriver.common.keys import Keys \n",
    "from bs4 import BeautifulSoup\n",
    "import requests \n",
    "import bs4 as bs "
   ]
  },
  {
   "cell_type": "code",
   "execution_count": 83,
   "metadata": {},
   "outputs": [],
   "source": [
    "import re\n",
    "\n",
    "def clean(raw_html):\n",
    "    clean1 = re.compile('<.*?>')\n",
    "    cleantxt = re.sub(clean1, '', raw_html)\n",
    "    return cleantxt"
   ]
  },
  {
   "cell_type": "code",
   "execution_count": 84,
   "metadata": {},
   "outputs": [],
   "source": [
    "driver = webdriver.Chrome(\"C:/Users/Vineet/Documents/ISB-H/Big data collection/group assign/chromedriver\")"
   ]
  },
  {
   "cell_type": "code",
   "execution_count": 85,
   "metadata": {},
   "outputs": [],
   "source": [
    "driver.get(\"https://nulltx.com/down-we-go-38-billion-evaporated-as-bitcoin-altcoins-net-double-digit-losses/\")"
   ]
  },
  {
   "cell_type": "code",
   "execution_count": 86,
   "metadata": {},
   "outputs": [
    {
     "data": {
      "text/plain": [
       "[<p><strong>For those calling for the end of the bear cycle- hold tight a little longer. Following the extended sideways market movements, a price explosion was imminent. Unfortunately, this action took place in favor of sellers, as Bitcoin continues to tumble over the course of the past 24 hours. Altcoins have similarly followed suit.</strong></p>,\n",
       " <p>Last night, Bitcoin’s channel between US$7,500 and $7,700 broke, as the king of cryptocurrency saw a steep decline of $300 down to the $7,300 mark. After a gradual decline to $7,200 overnight, a second sell off has just been encountered. Within the past two hours, BTC saw an even larger, $400 drop, knocking the coin down to US$6,850.</p>,\n",
       " <p><img class=\"aligncenter td-animation-stack-type0-1\" height=\"439\" src=\"https://www.tradingview.com/x/AmjoSNTx/\" width=\"601\"/></p>,\n",
       " <p>Unfortunately, this dump has not been mitigated by altcoins. In fact, alts across the board are faring even worse than Bitcoin. Of the top 100 cryptos listed on Coinmarketcap, just 15 have seen gains against BTC in the same time frame as the dump. Excluding Tether, which remains pegged to US$1.00, Monacoin is performing the best with losses of about 7.5%. On the flip side, four coins have seen losses of double or more than Bitcoin, with 24 hour movements greater than 20% in the red. These coins are CyberMiles, IOST, MaidSafeCoin, and WaykiChain. WaykiChain is the biggest loser, seeing losses of more than 25% since yesterday.</p>,\n",
       " <p>The global market cap of altcoins entered the day with a valuation of US$210 billion. The more than 11% loss across altcoins translates to a market cap shrinkage of $24 billion, down to $186 billion. In addition to Bitcoin’s loss in market cap of US$14 billion, the total loss taken in by holders globally equates to a whopping US$38 billion.</p>,\n",
       " <p>Skeptics suggest that recent SEC and CFTC hearings may have incited insecurity among investors and speculators. The nature of the meetings of the last few days have been overwhelmingly positive, best highlighted by <a data-wpel-link=\"external\" href=\"https://www.cftc.gov/PressRoom/SpeechesTestimony/opabehnam7\" rel=\"nofollow external noopener noreferrer\">CFTC Commissioner’s statements</a>, “<span style=\"color: #000000\">We are witnessing a technological revolution.  </span><span style=\"color: #000000\">Perhaps we are witnessing a modern miracle.”</span></p>,\n",
       " <p>However, what many took away from the gatherings were the SEC’s insistence on the regulation of ICOs that qualify as securities (according to the SEC, many of them do). SEC compliance constitutes a number of stipulations, including a yearly $1 million registration fee. As such, ICOs by and large have elected to instead bar US citizens from participation, rather than hamstring themselves into SEC compliance.</p>,\n",
       " <p>Regardless, this may not completely explain the price movements. The declarations by the SEC were merely a reiteration of their previously announced stance on the ICO model, and were to be expected by those following the environment. Perhaps the reiteration simply caused a bit of panic among holders.</p>,\n",
       " <p>Either way, volume continues to climb from last week’s lows, despite the decline in price. Global volume has eclipsed US$15 billion, and continues to rise. Price and volume movements match very closely to what was seen in the middle of March. During that time, a sharp decline was immediately followed by a jump in the price of Bitcoin by more than US$1,500, where it settled above the $9,000 mark. A similar action would undo the losses experienced in the past weeks completely.</p>,\n",
       " <p>Charts by <em>TradingView</em></p>,\n",
       " <p class=\"comment-form-cookies-consent\"><input id=\"wp-comment-cookies-consent\" name=\"wp-comment-cookies-consent\" type=\"checkbox\" value=\"yes\"/><label for=\"wp-comment-cookies-consent\">Save my name, email, and website in this browser for the next time I comment.</label></p>,\n",
       " <p class=\"form-submit\"><input class=\"submit\" id=\"submit\" name=\"submit\" type=\"submit\" value=\"Post Comment\"/> <input id=\"comment_post_ID\" name=\"comment_post_ID\" type=\"hidden\" value=\"60085\"/>\n",
       " <input id=\"comment_parent\" name=\"comment_parent\" type=\"hidden\" value=\"0\"/>\n",
       " </p>]"
      ]
     },
     "execution_count": 86,
     "metadata": {},
     "output_type": "execute_result"
    }
   ],
   "source": [
    "pagesrc = driver.page_source\n",
    "soup_obj = BeautifulSoup(pagesrc, \"lxml\")\n",
    "topic_11_june = soup_obj.find_all(\"p\")\n",
    "topic_11_june"
   ]
  },
  {
   "cell_type": "code",
   "execution_count": 89,
   "metadata": {},
   "outputs": [],
   "source": [
    "from textblob import TextBlob"
   ]
  },
  {
   "cell_type": "code",
   "execution_count": null,
   "metadata": {},
   "outputs": [],
   "source": [
    "topic_11_june = clean(topic_11_june)"
   ]
  },
  {
   "cell_type": "code",
   "execution_count": 93,
   "metadata": {},
   "outputs": [
    {
     "name": "stdout",
     "output_type": "stream",
     "text": [
      "[For those calling for the end of the bear cycle- hold tight a little longer. Following the extended sideways market movements, a price explosion was imminent. Unfortunately, this action took place in favor of sellers, as Bitcoin continues to tumble over the course of the past 24 hours. Altcoins have similarly followed suit., Last night, Bitcoin’s channel between US$7,500 and $7,700 broke, as the king of cryptocurrency saw a steep decline of $300 down to the $7,300 mark. After a gradual decline to $7,200 overnight, a second sell off has just been encountered. Within the past two hours, BTC saw an even larger, $400 drop, knocking the coin down to US$6,850., , Unfortunately, this dump has not been mitigated by altcoins. In fact, alts across the board are faring even worse than Bitcoin. Of the top 100 cryptos listed on Coinmarketcap, just 15 have seen gains against BTC in the same time frame as the dump. Excluding Tether, which remains pegged to US$1.00, Monacoin is performing the best with losses of about 7.5%. On the flip side, four coins have seen losses of double or more than Bitcoin, with 24 hour movements greater than 20% in the red. These coins are CyberMiles, IOST, MaidSafeCoin, and WaykiChain. WaykiChain is the biggest loser, seeing losses of more than 25% since yesterday., The global market cap of altcoins entered the day with a valuation of US$210 billion. The more than 11% loss across altcoins translates to a market cap shrinkage of $24 billion, down to $186 billion. In addition to Bitcoin’s loss in market cap of US$14 billion, the total loss taken in by holders globally equates to a whopping US$38 billion., Skeptics suggest that recent SEC and CFTC hearings may have incited insecurity among investors and speculators. The nature of the meetings of the last few days have been overwhelmingly positive, best highlighted by CFTC Commissioner’s statements, “We are witnessing a technological revolution.  Perhaps we are witnessing a modern miracle.”, However, what many took away from the gatherings were the SEC’s insistence on the regulation of ICOs that qualify as securities (according to the SEC, many of them do). SEC compliance constitutes a number of stipulations, including a yearly $1 million registration fee. As such, ICOs by and large have elected to instead bar US citizens from participation, rather than hamstring themselves into SEC compliance., Regardless, this may not completely explain the price movements. The declarations by the SEC were merely a reiteration of their previously announced stance on the ICO model, and were to be expected by those following the environment. Perhaps the reiteration simply caused a bit of panic among holders., Either way, volume continues to climb from last week’s lows, despite the decline in price. Global volume has eclipsed US$15 billion, and continues to rise. Price and volume movements match very closely to what was seen in the middle of March. During that time, a sharp decline was immediately followed by a jump in the price of Bitcoin by more than US$1,500, where it settled above the $9,000 mark. A similar action would undo the losses experienced in the past weeks completely., Charts by TradingView, Save my name, email, and website in this browser for the next time I comment.,  \n",
      "\n",
      "]\n"
     ]
    }
   ],
   "source": [
    "topic_11_june = str(topic_11_june)\n",
    "test1 = TextBlob(topic_11_june)\n",
    "print(test1)"
   ]
  },
  {
   "cell_type": "code",
   "execution_count": 94,
   "metadata": {},
   "outputs": [
    {
     "name": "stdout",
     "output_type": "stream",
     "text": [
      "[('[', 'NN'), ('For', 'IN'), ('those', 'DT'), ('calling', 'VBG'), ('for', 'IN'), ('the', 'DT'), ('end', 'NN'), ('of', 'IN'), ('the', 'DT'), ('bear', 'JJ'), ('cycle-', 'JJ'), ('hold', 'NN'), ('tight', 'VBD'), ('a', 'DT'), ('little', 'JJ'), ('longer', 'JJR'), ('Following', 'VBG'), ('the', 'DT'), ('extended', 'JJ')]\n"
     ]
    }
   ],
   "source": [
    "# POSTagging with the blob\n",
    "tags_list = test1.tags  # penn treebank style tags\n",
    "print(tags_list[:19])"
   ]
  },
  {
   "cell_type": "code",
   "execution_count": 95,
   "metadata": {},
   "outputs": [
    {
     "data": {
      "text/plain": [
       "Sentiment(polarity=0.05106593142307427, subjectivity=0.3551621658764516)"
      ]
     },
     "execution_count": 95,
     "metadata": {},
     "output_type": "execute_result"
    },
    {
     "name": "stdout",
     "output_type": "stream",
     "text": [
      "\n",
      "\n"
     ]
    }
   ],
   "source": [
    "# Sentiment-an with textblob\n",
    "## yields polarity between (-1,1) & a measure of subjectivity (0 to 1)\n",
    "test1.sentiment  # subjectivity = 0 means fully objective sentence.\n",
    "print(\"\\n\")\n",
    "for sentence in test1.sentences:\n",
    "    x = sentence.sentiment"
   ]
  },
  {
   "cell_type": "code",
   "execution_count": 96,
   "metadata": {},
   "outputs": [],
   "source": [
    "from nltk.corpus import stopwords\n",
    "from nltk.tokenize import RegexpTokenizer\n",
    "from stop_words import get_stop_words\n",
    "from nltk.stem.porter import PorterStemmer\n",
    "from nltk.stem.wordnet import WordNetLemmatizer\n",
    "import string\n",
    "import pandas as pd\n"
   ]
  },
  {
   "cell_type": "code",
   "execution_count": 97,
   "metadata": {},
   "outputs": [],
   "source": [
    "tokenizer = RegexpTokenizer(r'\\w+')\n",
    "\n",
    "# create English stop words list\n",
    "#en_stop = get_stop_words('en')\n",
    "stop = set(stopwords.words('english'))\n",
    "lemma = WordNetLemmatizer()\n",
    "# list for tokenized documents in loop\n",
    "cleaned_text = []  \n",
    "# clean and tokenize document string\n",
    "raw = topic_11_june.lower()\n",
    "tokens = tokenizer.tokenize(raw)\n",
    "\n",
    "    # remove stop words from tokens\n",
    "    #stopped_tokens = [i for i in tokens if not i in en_stop]\n",
    "stopped_tokens = [i for i in tokens if not i in stop]\n",
    "    \n",
    "    # stem tokens\n",
    "stemmed_tokens = [lemma.lemmatize(i) for i in stopped_tokens]\n",
    "    \n",
    "    #remove single letters\n",
    "    #stemmed_tokens = [w for w in stemmed_tokens if re.sub('(\\\\b[A-Za-z] \\\\b|\\\\b [A-Za-z]\\\\b)','',stemmed_tokens)]\n",
    "    \n",
    "    #remove number\n",
    "    #stemmed_tokens = [w for w in stemmed_tokens if re.sub(r'\\d+',stemmed_tokens)]\n",
    "    \n",
    "    \n",
    "    # add tokens to list\n",
    "cleaned_text.append(stemmed_tokens)"
   ]
  },
  {
   "cell_type": "code",
   "execution_count": 104,
   "metadata": {},
   "outputs": [],
   "source": [
    "str1 = ''.join(str(i) for i in cleaned_text)"
   ]
  },
  {
   "cell_type": "code",
   "execution_count": 109,
   "metadata": {},
   "outputs": [],
   "source": [
    "driver.get(\"https://ambcrypto.com/bitcoin-btc-eos-the-showstoppers-sentiment-analysis-june-10/\")"
   ]
  },
  {
   "cell_type": "code",
   "execution_count": 114,
   "metadata": {},
   "outputs": [],
   "source": [
    "pagesrc = driver.page_source\n",
    "soup_obj = BeautifulSoup(pagesrc, \"lxml\")\n",
    "topic_10_june = soup_obj.find_all(\"p\")\n"
   ]
  },
  {
   "cell_type": "code",
   "execution_count": 115,
   "metadata": {},
   "outputs": [],
   "source": [
    "topic_10_june= str(topic_10_june)\n",
    "topic_10_june=clean(topic_10_june)"
   ]
  },
  {
   "cell_type": "code",
   "execution_count": 116,
   "metadata": {},
   "outputs": [],
   "source": [
    "topic_10_june = str(topic_10_june)\n",
    "test2 = TextBlob(topic_10_june)"
   ]
  },
  {
   "cell_type": "code",
   "execution_count": 117,
   "metadata": {},
   "outputs": [
    {
     "data": {
      "text/plain": [
       "Sentiment(polarity=0.09440369154654868, subjectivity=0.46304411857983313)"
      ]
     },
     "execution_count": 117,
     "metadata": {},
     "output_type": "execute_result"
    },
    {
     "name": "stdout",
     "output_type": "stream",
     "text": [
      "\n",
      "\n"
     ]
    }
   ],
   "source": [
    "# Sentiment-an with textblob\n",
    "## yields polarity between (-1,1) & a measure of subjectivity (0 to 1)\n",
    "test2.sentiment  # subjectivity = 0 means fully objective sentence.\n",
    "print(\"\\n\")\n",
    "for sentence in test2.sentences:\n",
    "    y = sentence.sentiment"
   ]
  },
  {
   "cell_type": "code",
   "execution_count": 121,
   "metadata": {},
   "outputs": [],
   "source": [
    "driver.get(\"http://fortune.com/2018/04/13/bitcoin-price-tax-day-2018/\")"
   ]
  },
  {
   "cell_type": "code",
   "execution_count": 122,
   "metadata": {},
   "outputs": [],
   "source": [
    "pagesrc = driver.page_source\n",
    "soup_obj = BeautifulSoup(pagesrc, \"lxml\")\n",
    "topic_13_may = soup_obj.find_all(\"p\")\n",
    "topic_13_may= str(topic_13_may)\n",
    "topic_13_may=clean(topic_13_may)\n",
    "test3 = TextBlob(topic_13_may)"
   ]
  },
  {
   "cell_type": "code",
   "execution_count": 123,
   "metadata": {},
   "outputs": [
    {
     "data": {
      "text/plain": [
       "Sentiment(polarity=0.11824085526466481, subjectivity=0.42834610275086465)"
      ]
     },
     "execution_count": 123,
     "metadata": {},
     "output_type": "execute_result"
    },
    {
     "name": "stdout",
     "output_type": "stream",
     "text": [
      "\n",
      "\n"
     ]
    }
   ],
   "source": [
    "# Sentiment-an with textblob\n",
    "## yields polarity between (-1,1) & a measure of subjectivity (0 to 1)\n",
    "test3.sentiment  # subjectivity = 0 means fully objective sentence.\n",
    "print(\"\\n\")\n",
    "for sentence in test3.sentences:\n",
    "    z = sentence.sentiment"
   ]
  },
  {
   "cell_type": "code",
   "execution_count": null,
   "metadata": {},
   "outputs": [],
   "source": []
  },
  {
   "cell_type": "code",
   "execution_count": null,
   "metadata": {},
   "outputs": [],
   "source": []
  },
  {
   "cell_type": "code",
   "execution_count": null,
   "metadata": {},
   "outputs": [],
   "source": []
  },
  {
   "cell_type": "code",
   "execution_count": null,
   "metadata": {},
   "outputs": [],
   "source": []
  }
 ],
 "metadata": {
  "kernelspec": {
   "display_name": "Python 3",
   "language": "python",
   "name": "python3"
  },
  "language_info": {
   "codemirror_mode": {
    "name": "ipython",
    "version": 3
   },
   "file_extension": ".py",
   "mimetype": "text/x-python",
   "name": "python",
   "nbconvert_exporter": "python",
   "pygments_lexer": "ipython3",
   "version": "3.6.1"
  }
 },
 "nbformat": 4,
 "nbformat_minor": 2
}
